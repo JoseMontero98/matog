{
 "cells": [
  {
   "cell_type": "code",
   "execution_count": null,
   "metadata": {},
   "outputs": [],
   "source": []
  },
  {
   "cell_type": "markdown",
   "metadata": {},
   "source": [
    "# Webscrapping de datos de la noticias de la Casa Rosada\n",
    "\n",
    "Documentación oficial: [ReadTheDocs](https://beautiful-soup-4.readthedocs.io/en/latest/) \n",
    "\n",
    "Información adicional sobre ``beautifulSoup``: [j3logo.com](https://j2logo.com/python/web-scraping-con-python-guia-inicio-beautifulsoup/)\n",
    "\n",
    "Alternativa para webscrappig de sitios de noticias: [newspaper](http://theautomatic.net/2020/08/05/how-to-scrape-news-articles-with-python/)"
   ]
  },
  {
   "cell_type": "code",
   "execution_count": 1,
   "metadata": {},
   "outputs": [],
   "source": [
    "import requests\n",
    "import pandas as pd\n",
    "from bs4 import BeautifulSoup"
   ]
  },
  {
   "cell_type": "markdown",
   "metadata": {},
   "source": [
    "### 1. Cargar la página con 'request'\n",
    "\n",
    "El módulo ``request`` permite envíar peticiones HTTP usando Python\n",
    "\n",
    "The requests module allows you to send HTTP requests using Python.\n",
    "\n",
    "La petición HTTP devuelve un Objeto Response con toda la información obtenida (contenido, encoding, status, y demás). \n",
    "\n",
    "Para obtener el contenido de una página HTML y el status:\n"
   ]
  },
  {
   "cell_type": "code",
   "execution_count": 2,
   "metadata": {},
   "outputs": [],
   "source": [
    "import requests\n",
    "url = 'https://appsvr.mardelplata.gob.ar/Consultas07/OrdenesDeCompra/OC/index.asp?fmANIO_CON=2022&fmJURISDICCION_CON=1110101000&fmTIPOCONT_CON=--&fmNRO_OC=&Consultar=Consultar' \n",
    "\n",
    "html = requests.get(url.strip(), headers={'User-Agent': 'Mozilla/5.0'}).text\n",
    "soup = BeautifulSoup(html, \"lxml\")\n",
    "# status = html.status_code\n",
    "# print(status)"
   ]
  },
  {
   "cell_type": "code",
   "execution_count": 15,
   "metadata": {},
   "outputs": [
    {
     "name": "stdout",
     "output_type": "stream",
     "text": [
      "14\n"
     ]
    }
   ],
   "source": [
    "compras_panel = soup.find_all('table', width=\"100%\")\n",
    "print(len(compras_panel))"
   ]
  },
  {
   "cell_type": "code",
   "execution_count": 17,
   "metadata": {},
   "outputs": [
    {
     "data": {
      "text/plain": [
       "<table align=\"center\" border=\"0\" cellpadding=\"3\" cellspacing=\"1\" width=\"100%\">\n",
       "<tr bgcolor=\"#0099CC\">\n",
       "<th class=\"textocomun\" colspan=\"2\">Nro. O.C.</th>\n",
       "<th class=\"textocomun\">Fecha emisión</th>\n",
       "<th class=\"textocomun\">Importe</th>\n",
       "<th class=\"textocomun\">Proveedor</th>\n",
       "<th class=\"textocomun\">Tipo de contratación</th>\n",
       "<th class=\"textocomun\">Observaciones</th>\n",
       "<th class=\"textocomun\">Estado</th>\n",
       "</tr>\n",
       "<tr bgcolor=\"#DDEEFF\">\n",
       "<td class=\"textocomun\"><input class=\"input_class2\" data-cf-modified-2c53016f53a780d15a5e3a47-=\"\" id=\"b\" onclick=\"if (!window.__cfRLUnblockHandlers) return false; VerDetalle('detalle_OC.asp?fmNRO_OC=996&amp;ANIO=2022',this);\" type=\"button\" value=\"[VER]\"/></td>\n",
       "<td align=\"center\" class=\"textocomun\">996</td>\n",
       "<td class=\"textocomun\">12/8/2022</td>\n",
       "<td class=\"textocomun\"><div align=\"right\">$60.000,00</div></td>\n",
       "<td class=\"textocomun\">PALERMO PATRICIA</td>\n",
       "<td class=\"textocomun\">Compra Directa Varios Proveedores</td>\n",
       "<td class=\"textocomun\">PRIMER FECHA EN LA QUE SE HARÁ USO DE UN ARREGLO FLORAL ES EL PROXIMO 17 DE AGOSTO \"ANIVERSARIO DEL FALLECIMIENTO DON JOSE DE SAN MARTIN\" // FECHA A DETERMINAR DURANTE EL AÑO 2022 .LOCALIZACIONES A CONFIRMAR EN ESPACIOS ABIERTOS O CERRADOS, CONTRATADOS POR UNIDAD CUANDO SEAN REQUERIDAS. // CONTACTO: 499-6515 O 6535 CEREMONIAL (MARCELO - STEFANIA- SEBASTIAN - GUILLERMO) // carga, descarga y flete a cargo del proveedor. libre de todo gasto adicional.</td>\n",
       "<td class=\"textocomun\">Registrada</td>\n",
       "</tr>\n",
       "<tr bgcolor=\"#EFF5FE\">\n",
       "<td class=\"textocomun\"><input class=\"input_class2\" data-cf-modified-2c53016f53a780d15a5e3a47-=\"\" id=\"b\" onclick=\"if (!window.__cfRLUnblockHandlers) return false; VerDetalle('detalle_OC.asp?fmNRO_OC=285&amp;ANIO=2022',this);\" type=\"button\" value=\"[VER]\"/></td>\n",
       "<td align=\"center\" class=\"textocomun\">285</td>\n",
       "<td class=\"textocomun\">30/3/2022</td>\n",
       "<td class=\"textocomun\"><div align=\"right\">$76.000,00</div></td>\n",
       "<td class=\"textocomun\">HIRSCH EDUARDO JOSE</td>\n",
       "<td class=\"textocomun\">Compra Directa Varios Proveedores</td>\n",
       "<td class=\"textocomun\">Contratación de servicio de sonido para el acto conmemorativo de los 40 Años de la Gesta de Malvinas. El servicio principal deberá prestarse el día sábado 2 de abril de 2022 a las 8 hs en el lugar del acto Diag. Alberdi Sur entre Sta Fe y Córdoba (Cenotafio Malvinas y calles de desfile) según croquis adjunto. El sonido para la Vigilia deberá proveerse el día viernes 1 de abril de 2022 de 23 hs al las 01 hs del día sábado 2 de abril. Los servicios deberán incluir: personal idóneo para operar el sonido , flete, carga, descarga y armado. libre de todo gasto adicional.</td>\n",
       "<td class=\"textocomun\">Registrada</td>\n",
       "</tr>\n",
       "</table>"
      ]
     },
     "execution_count": 17,
     "metadata": {},
     "output_type": "execute_result"
    }
   ],
   "source": [
    "compras_panel[1]"
   ]
  },
  {
   "cell_type": "markdown",
   "metadata": {},
   "source": [
    "### Paso 2: Iteramos por cada bloque, para obtener el título, la fecha y el link (solo primera página)"
   ]
  },
  {
   "cell_type": "code",
   "execution_count": 23,
   "metadata": {},
   "outputs": [
    {
     "data": {
      "text/plain": [
       "<table align=\"center\" border=\"0\" cellpadding=\"3\" cellspacing=\"1\" width=\"100%\">\n",
       "<tr bgcolor=\"#0099CC\">\n",
       "<th class=\"textocomun\" colspan=\"2\">Nro. O.C.</th>\n",
       "<th class=\"textocomun\">Fecha emisión</th>\n",
       "<th class=\"textocomun\">Importe</th>\n",
       "<th class=\"textocomun\">Proveedor</th>\n",
       "<th class=\"textocomun\">Tipo de contratación</th>\n",
       "<th class=\"textocomun\">Observaciones</th>\n",
       "<th class=\"textocomun\">Estado</th>\n",
       "</tr>\n",
       "<tr bgcolor=\"#DDEEFF\">\n",
       "<td class=\"textocomun\"><input class=\"input_class2\" data-cf-modified-2c53016f53a780d15a5e3a47-=\"\" id=\"b\" onclick=\"if (!window.__cfRLUnblockHandlers) return false; VerDetalle('detalle_OC.asp?fmNRO_OC=996&amp;ANIO=2022',this);\" type=\"button\" value=\"[VER]\"/></td>\n",
       "<td align=\"center\" class=\"textocomun\">996</td>\n",
       "<td class=\"textocomun\">12/8/2022</td>\n",
       "<td class=\"textocomun\"><div align=\"right\">$60.000,00</div></td>\n",
       "<td class=\"textocomun\">PALERMO PATRICIA</td>\n",
       "<td class=\"textocomun\">Compra Directa Varios Proveedores</td>\n",
       "<td class=\"textocomun\">PRIMER FECHA EN LA QUE SE HARÁ USO DE UN ARREGLO FLORAL ES EL PROXIMO 17 DE AGOSTO \"ANIVERSARIO DEL FALLECIMIENTO DON JOSE DE SAN MARTIN\" // FECHA A DETERMINAR DURANTE EL AÑO 2022 .LOCALIZACIONES A CONFIRMAR EN ESPACIOS ABIERTOS O CERRADOS, CONTRATADOS POR UNIDAD CUANDO SEAN REQUERIDAS. // CONTACTO: 499-6515 O 6535 CEREMONIAL (MARCELO - STEFANIA- SEBASTIAN - GUILLERMO) // carga, descarga y flete a cargo del proveedor. libre de todo gasto adicional.</td>\n",
       "<td class=\"textocomun\">Registrada</td>\n",
       "</tr>\n",
       "<tr bgcolor=\"#EFF5FE\">\n",
       "<td class=\"textocomun\"><input class=\"input_class2\" data-cf-modified-2c53016f53a780d15a5e3a47-=\"\" id=\"b\" onclick=\"if (!window.__cfRLUnblockHandlers) return false; VerDetalle('detalle_OC.asp?fmNRO_OC=285&amp;ANIO=2022',this);\" type=\"button\" value=\"[VER]\"/></td>\n",
       "<td align=\"center\" class=\"textocomun\">285</td>\n",
       "<td class=\"textocomun\">30/3/2022</td>\n",
       "<td class=\"textocomun\"><div align=\"right\">$76.000,00</div></td>\n",
       "<td class=\"textocomun\">HIRSCH EDUARDO JOSE</td>\n",
       "<td class=\"textocomun\">Compra Directa Varios Proveedores</td>\n",
       "<td class=\"textocomun\">Contratación de servicio de sonido para el acto conmemorativo de los 40 Años de la Gesta de Malvinas. El servicio principal deberá prestarse el día sábado 2 de abril de 2022 a las 8 hs en el lugar del acto Diag. Alberdi Sur entre Sta Fe y Córdoba (Cenotafio Malvinas y calles de desfile) según croquis adjunto. El sonido para la Vigilia deberá proveerse el día viernes 1 de abril de 2022 de 23 hs al las 01 hs del día sábado 2 de abril. Los servicios deberán incluir: personal idóneo para operar el sonido , flete, carga, descarga y armado. libre de todo gasto adicional.</td>\n",
       "<td class=\"textocomun\">Registrada</td>\n",
       "</tr>\n",
       "</table>"
      ]
     },
     "execution_count": 23,
     "metadata": {},
     "output_type": "execute_result"
    }
   ],
   "source": [
    "soup.find_all('table')[2]"
   ]
  },
  {
   "cell_type": "code",
   "execution_count": 27,
   "metadata": {
    "scrolled": true
   },
   "outputs": [
    {
     "name": "stdout",
     "output_type": "stream",
     "text": [
      "-1\n",
      "===\n",
      "None\n",
      "===\n",
      "-1\n",
      "===\n",
      "<td class=\"textocomun\"><input class=\"input_class2\" data-cf-modified-2c53016f53a780d15a5e3a47-=\"\" id=\"b\" onclick=\"if (!window.__cfRLUnblockHandlers) return false; VerDetalle('detalle_OC.asp?fmNRO_OC=1040&amp;ANIO=2022',this);\" type=\"button\" value=\"[VER]\"/></td>\n",
      "===\n",
      "-1\n",
      "===\n",
      "<td class=\"textocomun\"><input class=\"input_class2\" data-cf-modified-2c53016f53a780d15a5e3a47-=\"\" id=\"b\" onclick=\"if (!window.__cfRLUnblockHandlers) return false; VerDetalle('detalle_OC.asp?fmNRO_OC=725&amp;ANIO=2022',this);\" type=\"button\" value=\"[VER]\"/></td>\n",
      "===\n",
      "-1\n",
      "===\n",
      "<td class=\"textocomun\"><input class=\"input_class2\" data-cf-modified-2c53016f53a780d15a5e3a47-=\"\" id=\"b\" onclick=\"if (!window.__cfRLUnblockHandlers) return false; VerDetalle('detalle_OC.asp?fmNRO_OC=318&amp;ANIO=2022',this);\" type=\"button\" value=\"[VER]\"/></td>\n",
      "===\n",
      "-1\n",
      "===\n",
      "<td class=\"textocomun\"><input class=\"input_class2\" data-cf-modified-2c53016f53a780d15a5e3a47-=\"\" id=\"b\" onclick=\"if (!window.__cfRLUnblockHandlers) return false; VerDetalle('detalle_OC.asp?fmNRO_OC=983&amp;ANIO=2022',this);\" type=\"button\" value=\"[VER]\"/></td>\n",
      "===\n",
      "-1\n",
      "===\n",
      "<td class=\"textocomun\"><input class=\"input_class2\" data-cf-modified-2c53016f53a780d15a5e3a47-=\"\" id=\"b\" onclick=\"if (!window.__cfRLUnblockHandlers) return false; VerDetalle('detalle_OC.asp?fmNRO_OC=522&amp;ANIO=2022',this);\" type=\"button\" value=\"[VER]\"/></td>\n",
      "===\n",
      "-1\n",
      "===\n",
      "<td class=\"textocomun\"><input class=\"input_class2\" data-cf-modified-2c53016f53a780d15a5e3a47-=\"\" id=\"b\" onclick=\"if (!window.__cfRLUnblockHandlers) return false; VerDetalle('detalle_OC.asp?fmNRO_OC=125&amp;ANIO=2022',this);\" type=\"button\" value=\"[VER]\"/></td>\n",
      "===\n",
      "-1\n",
      "===\n",
      "<td class=\"textocomun\"><input class=\"input_class2\" data-cf-modified-2c53016f53a780d15a5e3a47-=\"\" id=\"b\" onclick=\"if (!window.__cfRLUnblockHandlers) return false; VerDetalle('detalle_OC.asp?fmNRO_OC=311&amp;ANIO=2022',this);\" type=\"button\" value=\"[VER]\"/></td>\n",
      "===\n",
      "-1\n",
      "===\n",
      "<td class=\"textocomun\"><input class=\"input_class2\" data-cf-modified-2c53016f53a780d15a5e3a47-=\"\" id=\"b\" onclick=\"if (!window.__cfRLUnblockHandlers) return false; VerDetalle('detalle_OC.asp?fmNRO_OC=429&amp;ANIO=2022',this);\" type=\"button\" value=\"[VER]\"/></td>\n",
      "===\n",
      "-1\n",
      "===\n",
      "<td class=\"textocomun\"><input class=\"input_class2\" data-cf-modified-2c53016f53a780d15a5e3a47-=\"\" id=\"b\" onclick=\"if (!window.__cfRLUnblockHandlers) return false; VerDetalle('detalle_OC.asp?fmNRO_OC=430&amp;ANIO=2022',this);\" type=\"button\" value=\"[VER]\"/></td>\n",
      "===\n",
      "-1\n",
      "===\n",
      "<td class=\"textocomun\"><input class=\"input_class2\" data-cf-modified-2c53016f53a780d15a5e3a47-=\"\" id=\"b\" onclick=\"if (!window.__cfRLUnblockHandlers) return false; VerDetalle('detalle_OC.asp?fmNRO_OC=607&amp;ANIO=2022',this);\" type=\"button\" value=\"[VER]\"/></td>\n",
      "===\n",
      "-1\n",
      "===\n",
      "<td class=\"textocomun\"><input class=\"input_class2\" data-cf-modified-2c53016f53a780d15a5e3a47-=\"\" id=\"b\" onclick=\"if (!window.__cfRLUnblockHandlers) return false; VerDetalle('detalle_OC.asp?fmNRO_OC=698&amp;ANIO=2022',this);\" type=\"button\" value=\"[VER]\"/></td>\n",
      "===\n",
      "-1\n",
      "===\n",
      "<td class=\"textocomun\"><input class=\"input_class2\" data-cf-modified-2c53016f53a780d15a5e3a47-=\"\" id=\"b\" onclick=\"if (!window.__cfRLUnblockHandlers) return false; VerDetalle('detalle_OC.asp?fmNRO_OC=908&amp;ANIO=2022',this);\" type=\"button\" value=\"[VER]\"/></td>\n",
      "===\n",
      "-1\n",
      "===\n",
      "<td class=\"textocomun\"><input class=\"input_class2\" data-cf-modified-2c53016f53a780d15a5e3a47-=\"\" id=\"b\" onclick=\"if (!window.__cfRLUnblockHandlers) return false; VerDetalle('detalle_OC.asp?fmNRO_OC=726&amp;ANIO=2022',this);\" type=\"button\" value=\"[VER]\"/></td>\n",
      "===\n",
      "-1\n",
      "===\n",
      "<td class=\"textocomun\"><input class=\"input_class2\" data-cf-modified-2c53016f53a780d15a5e3a47-=\"\" id=\"b\" onclick=\"if (!window.__cfRLUnblockHandlers) return false; VerDetalle('detalle_OC.asp?fmNRO_OC=315&amp;ANIO=2022',this);\" type=\"button\" value=\"[VER]\"/></td>\n",
      "===\n",
      "-1\n",
      "===\n",
      "<td class=\"textocomun\"><input class=\"input_class2\" data-cf-modified-2c53016f53a780d15a5e3a47-=\"\" id=\"b\" onclick=\"if (!window.__cfRLUnblockHandlers) return false; VerDetalle('detalle_OC.asp?fmNRO_OC=19&amp;ANIO=2022',this);\" type=\"button\" value=\"[VER]\"/></td>\n",
      "===\n",
      "-1\n",
      "===\n",
      "<td class=\"textocomun\"><input class=\"input_class2\" data-cf-modified-2c53016f53a780d15a5e3a47-=\"\" id=\"b\" onclick=\"if (!window.__cfRLUnblockHandlers) return false; VerDetalle('detalle_OC.asp?fmNRO_OC=177&amp;ANIO=2022',this);\" type=\"button\" value=\"[VER]\"/></td>\n",
      "===\n",
      "-1\n",
      "===\n"
     ]
    }
   ],
   "source": [
    "columnas = ['oc','fecha_emision','importe','proveedor','tipo_contratacion','observaciones','estado']\n",
    "df = pd.DataFrame(columns = columnas)\n",
    "data2 = []\n",
    "datos = compras_panel[2]\n",
    "for row in datos:\n",
    "    data = []\n",
    "    cols = row.find('td')\n",
    "    print(cols)\n",
    "    print('===')\n",
    "#     for col in cols:\n",
    "#         col = col.text.strip()\n",
    "#         data.append(col)\n",
    "#         if col:\n",
    "#             data.append(col)\n",
    "#         print(data)\n",
    "    \n",
    "#     data2.append(data)\n",
    "#     df.loc[len(df)] = data\n",
    "    "
   ]
  },
  {
   "cell_type": "code",
   "execution_count": 174,
   "metadata": {},
   "outputs": [
    {
     "data": {
      "text/plain": [
       "['306',\n",
       " '5/4/2022',\n",
       " '$6.195.750,00',\n",
       " 'S.D.C. S.R.L.',\n",
       " 'Licitación Privada',\n",
       " 'Expediente Nº 624-2-2022 Cpo.2 Licitación Privada Nº 06/22 Segundo Llamado \"Adquisición de sistema de domicilio electrónico\". Lineamientos técnicos y funciones principales: de acuerdo con las Especificaciones Técnicas y funcionalidades descriptas en el ANEXO I (Requerimiento Funcional) del Pliego de Bases y Condiciones.',\n",
       " 'Registrada',\n",
       " '196',\n",
       " '2/3/2022',\n",
       " '$178.200,00',\n",
       " 'ALMARAZ MARCELO ANTONIO',\n",
       " 'Licitación Privada',\n",
       " 'Expediente Nº 3414-1-2021 Cpo.1 Alc.2 Cpo.1 Licitación Privada Nº 23/21 \"Contratación de Soporte Técnico SIGEM\" - PRÓRROGA - Período de la prórroga: desde el 1º de Marzo de 2022 y por el término de un (1) mes.',\n",
       " 'Registrada',\n",
       " '637',\n",
       " '30/5/2022',\n",
       " '$2.100.384,00',\n",
       " 'ALMARAZ MARCELO ANTONIO',\n",
       " 'Compra Directa',\n",
       " 'EXPEDIENTE 4500 DIG. 7 AÑO 2022 // PERIODO: 6 MESES DEL 01/06/2022 a 30/11/2022.',\n",
       " 'Registrada',\n",
       " '681',\n",
       " '8/6/2022',\n",
       " '$218.300,00',\n",
       " 'ROYAL DOOR S.R.L.',\n",
       " 'Compra Directa Varios Proveedores',\n",
       " 'Responsable Patrimonial Ricardo Ruiz Leg. 20377/1 - Mobiliario para colocar en las oficinas de la Subsec de Gobierno Digital en el edificio ubicado en Salta 1882. Contacto Lembo tel.: 2235217881. // CARGA, DESCARGA Y FLETE A CARGO DEL PROVEEDOR. LIBRE DE TODO GASTO ADICIONAL.',\n",
       " 'Registrada',\n",
       " '829',\n",
       " '8/7/2022',\n",
       " '$119.340,00',\n",
       " 'ALMARAZ MARCELO ANTONIO',\n",
       " 'Compra Directa',\n",
       " 'La presente solicitud corresponde a un adicional de horas necesario para la Emisión de la Liquidación de TSU. En las mismas condiciones que lo estipulado en la OC Nro. 637/22. // LIBRE DE TODO GASTO ADICIONAL.',\n",
       " 'Registrada',\n",
       " '252',\n",
       " '21/3/2022',\n",
       " '$356.400,00',\n",
       " 'ALMARAZ MARCELO ANTONIO',\n",
       " 'Licitación Privada',\n",
       " 'Expediente Nº 3414-1-2021 Cpo. 1 Alc. 2. CONTINUIDAD Licitación Privada 23/21. Periodo de la continuidad: desde el 1º de Abril y por el término de dos (2) meses.',\n",
       " 'Registrada']"
      ]
     },
     "execution_count": 174,
     "metadata": {},
     "output_type": "execute_result"
    }
   ],
   "source": [
    "data"
   ]
  },
  {
   "cell_type": "code",
   "execution_count": 130,
   "metadata": {},
   "outputs": [
    {
     "data": {
      "text/html": [
       "<div>\n",
       "<style scoped>\n",
       "    .dataframe tbody tr th:only-of-type {\n",
       "        vertical-align: middle;\n",
       "    }\n",
       "\n",
       "    .dataframe tbody tr th {\n",
       "        vertical-align: top;\n",
       "    }\n",
       "\n",
       "    .dataframe thead th {\n",
       "        text-align: right;\n",
       "    }\n",
       "</style>\n",
       "<table border=\"1\" class=\"dataframe\">\n",
       "  <thead>\n",
       "    <tr style=\"text-align: right;\">\n",
       "      <th></th>\n",
       "      <th>oc</th>\n",
       "      <th>fecha_emision</th>\n",
       "      <th>importe</th>\n",
       "      <th>proveedor</th>\n",
       "      <th>tipo_contratacion</th>\n",
       "      <th>observaciones</th>\n",
       "      <th>estado</th>\n",
       "    </tr>\n",
       "  </thead>\n",
       "  <tbody>\n",
       "    <tr>\n",
       "      <th>0</th>\n",
       "      <td>182</td>\n",
       "      <td>24/2/2022</td>\n",
       "      <td>2956000</td>\n",
       "      <td>ROYAL DOOR S.R.L.</td>\n",
       "      <td>Concurso de precios</td>\n",
       "      <td>Expediente Nº 12283-7-2021 Cpo.2 Concurso de P...</td>\n",
       "      <td>Registrada</td>\n",
       "    </tr>\n",
       "    <tr>\n",
       "      <th>1</th>\n",
       "      <td>685</td>\n",
       "      <td>8/6/2022</td>\n",
       "      <td>1642780</td>\n",
       "      <td>HENNING JUAN FEDERICO</td>\n",
       "      <td>Compra Directa Varios Proveedores</td>\n",
       "      <td>CARGA, DESCARGA Y FLETE A CARGO DEL PROVEEDOR....</td>\n",
       "      <td>Registrada</td>\n",
       "    </tr>\n",
       "    <tr>\n",
       "      <th>2</th>\n",
       "      <td>151</td>\n",
       "      <td>21/2/2022</td>\n",
       "      <td>3721000</td>\n",
       "      <td>TRUCHI RUBEN ANGEL</td>\n",
       "      <td>Compra Directa Varios Proveedores</td>\n",
       "      <td>Numero de contacto 4996512 Martin Gonzalez // ...</td>\n",
       "      <td>Registrada</td>\n",
       "    </tr>\n",
       "    <tr>\n",
       "      <th>3</th>\n",
       "      <td>400</td>\n",
       "      <td>19/4/2022</td>\n",
       "      <td>1815000</td>\n",
       "      <td>GRUPO NUCLEO S.A.</td>\n",
       "      <td>Compra Directa Varios Proveedores</td>\n",
       "      <td>ENTREGA EN DIRECCION DE INFORMATICA INFORMATIC...</td>\n",
       "      <td>Registrada</td>\n",
       "    </tr>\n",
       "    <tr>\n",
       "      <th>4</th>\n",
       "      <td>285</td>\n",
       "      <td>30/3/2022</td>\n",
       "      <td>7600000</td>\n",
       "      <td>HIRSCH EDUARDO JOSE</td>\n",
       "      <td>Compra Directa Varios Proveedores</td>\n",
       "      <td>Contratación de servicio de sonido para el act...</td>\n",
       "      <td>Registrada</td>\n",
       "    </tr>\n",
       "    <tr>\n",
       "      <th>...</th>\n",
       "      <td>...</td>\n",
       "      <td>...</td>\n",
       "      <td>...</td>\n",
       "      <td>...</td>\n",
       "      <td>...</td>\n",
       "      <td>...</td>\n",
       "      <td>...</td>\n",
       "    </tr>\n",
       "    <tr>\n",
       "      <th>68</th>\n",
       "      <td>999</td>\n",
       "      <td>16/8/2022</td>\n",
       "      <td>870000</td>\n",
       "      <td>FEDERICO BRUSCANTINI S.R.L.</td>\n",
       "      <td>Compra Directa Varios Proveedores</td>\n",
       "      <td>CARGA, DESCARGA Y FLETE A CARGO DEL PROVEEDOR....</td>\n",
       "      <td>Registrada</td>\n",
       "    </tr>\n",
       "    <tr>\n",
       "      <th>69</th>\n",
       "      <td>144</td>\n",
       "      <td>16/2/2022</td>\n",
       "      <td>24440000</td>\n",
       "      <td>BACIGALUPO JUAN IGNACIO</td>\n",
       "      <td>Compra Directa Varios Proveedores</td>\n",
       "      <td>CARGA, DESCARGA Y FLETE A CARGO DEL PROVEEDOR....</td>\n",
       "      <td>Registrada</td>\n",
       "    </tr>\n",
       "    <tr>\n",
       "      <th>70</th>\n",
       "      <td>306</td>\n",
       "      <td>5/4/2022</td>\n",
       "      <td>619575000</td>\n",
       "      <td>S.D.C. S.R.L.</td>\n",
       "      <td>Licitación Privada</td>\n",
       "      <td>Expediente Nº 624-2-2022 Cpo.2 Licitación Priv...</td>\n",
       "      <td>Registrada</td>\n",
       "    </tr>\n",
       "    <tr>\n",
       "      <th>71</th>\n",
       "      <td>637</td>\n",
       "      <td>30/5/2022</td>\n",
       "      <td>210038400</td>\n",
       "      <td>ALMARAZ MARCELO ANTONIO</td>\n",
       "      <td>Compra Directa</td>\n",
       "      <td>EXPEDIENTE 4500 DIG. 7 AÑO 2022 // PERIODO: 6 ...</td>\n",
       "      <td>Registrada</td>\n",
       "    </tr>\n",
       "    <tr>\n",
       "      <th>72</th>\n",
       "      <td>829</td>\n",
       "      <td>8/7/2022</td>\n",
       "      <td>11934000</td>\n",
       "      <td>ALMARAZ MARCELO ANTONIO</td>\n",
       "      <td>Compra Directa</td>\n",
       "      <td>La presente solicitud corresponde a un adicion...</td>\n",
       "      <td>Registrada</td>\n",
       "    </tr>\n",
       "  </tbody>\n",
       "</table>\n",
       "<p>73 rows × 7 columns</p>\n",
       "</div>"
      ],
      "text/plain": [
       "     oc fecha_emision    importe                    proveedor  \\\n",
       "0   182     24/2/2022    2956000            ROYAL DOOR S.R.L.   \n",
       "1   685      8/6/2022    1642780        HENNING JUAN FEDERICO   \n",
       "2   151     21/2/2022    3721000           TRUCHI RUBEN ANGEL   \n",
       "3   400     19/4/2022    1815000            GRUPO NUCLEO S.A.   \n",
       "4   285     30/3/2022    7600000          HIRSCH EDUARDO JOSE   \n",
       "..  ...           ...        ...                          ...   \n",
       "68  999     16/8/2022     870000  FEDERICO BRUSCANTINI S.R.L.   \n",
       "69  144     16/2/2022   24440000      BACIGALUPO JUAN IGNACIO   \n",
       "70  306      5/4/2022  619575000                S.D.C. S.R.L.   \n",
       "71  637     30/5/2022  210038400      ALMARAZ MARCELO ANTONIO   \n",
       "72  829      8/7/2022   11934000      ALMARAZ MARCELO ANTONIO   \n",
       "\n",
       "                    tipo_contratacion  \\\n",
       "0                 Concurso de precios   \n",
       "1   Compra Directa Varios Proveedores   \n",
       "2   Compra Directa Varios Proveedores   \n",
       "3   Compra Directa Varios Proveedores   \n",
       "4   Compra Directa Varios Proveedores   \n",
       "..                                ...   \n",
       "68  Compra Directa Varios Proveedores   \n",
       "69  Compra Directa Varios Proveedores   \n",
       "70                 Licitación Privada   \n",
       "71                     Compra Directa   \n",
       "72                     Compra Directa   \n",
       "\n",
       "                                        observaciones      estado  \n",
       "0   Expediente Nº 12283-7-2021 Cpo.2 Concurso de P...  Registrada  \n",
       "1   CARGA, DESCARGA Y FLETE A CARGO DEL PROVEEDOR....  Registrada  \n",
       "2   Numero de contacto 4996512 Martin Gonzalez // ...  Registrada  \n",
       "3   ENTREGA EN DIRECCION DE INFORMATICA INFORMATIC...  Registrada  \n",
       "4   Contratación de servicio de sonido para el act...  Registrada  \n",
       "..                                                ...         ...  \n",
       "68  CARGA, DESCARGA Y FLETE A CARGO DEL PROVEEDOR....  Registrada  \n",
       "69  CARGA, DESCARGA Y FLETE A CARGO DEL PROVEEDOR....  Registrada  \n",
       "70  Expediente Nº 624-2-2022 Cpo.2 Licitación Priv...  Registrada  \n",
       "71  EXPEDIENTE 4500 DIG. 7 AÑO 2022 // PERIODO: 6 ...  Registrada  \n",
       "72  La presente solicitud corresponde a un adicion...  Registrada  \n",
       "\n",
       "[73 rows x 7 columns]"
      ]
     },
     "execution_count": 130,
     "metadata": {},
     "output_type": "execute_result"
    }
   ],
   "source": [
    "df"
   ]
  },
  {
   "cell_type": "code",
   "execution_count": 129,
   "metadata": {},
   "outputs": [
    {
     "name": "stderr",
     "output_type": "stream",
     "text": [
      "/tmp/ipykernel_132175/1358912933.py:7: FutureWarning: The default value of regex will change from True to False in a future version. In addition, single character regular expressions will *not* be treated as literal strings when regex=True.\n",
      "  df['importe'] = df['importe'].str.replace('.', '').str.replace(',', '').str.replace('$', '').astype(int)\n"
     ]
    }
   ],
   "source": [
    "# df['importe'] = df['importe'].str.replace(',', '')\n",
    "# df['importe'] = df['importe'].str.replace('.', '')\n",
    "# df['importe'] = df['importe'].str.replace('$', '')\n",
    "# df['importe'] = df['importe'].astype(int)\n",
    "\n",
    "# en una linea\n",
    "df['importe'] = df['importe'].str.replace('.', '').str.replace(',', '').str.replace('$', '').astype(int)"
   ]
  },
  {
   "cell_type": "code",
   "execution_count": 74,
   "metadata": {},
   "outputs": [
    {
     "data": {
      "text/plain": [
       "['182',\n",
       " '24/2/2022',\n",
       " '$29.560,00',\n",
       " 'ROYAL DOOR S.R.L.',\n",
       " 'Concurso de precios',\n",
       " 'Expediente Nº 12283-7-2021 Cpo.2 Concurso de Precios Nº 114/21 Segundo Llamado \"Adquisición de mobiliario\". Lugar de entrega: en Dirección General de Secretaría Privada, sito en calle Hipólito Yrigoyen Nº 1627. Teléfono de contacto: 499-6461/6512.',\n",
       " 'Registrada']"
      ]
     },
     "execution_count": 74,
     "metadata": {},
     "output_type": "execute_result"
    }
   ],
   "source": [
    "data = []\n",
    "for row in compras_panel:\n",
    "    cols = row.find_all('td')\n",
    "    cols = [ele.text.strip() for ele in cols] # For en una sóla línea\n",
    "    data.append([ele for ele in cols if ele]) # No incluimos las celdas vacías. For e if en una sóla línea\n",
    "data[0]"
   ]
  }
 ],
 "metadata": {
  "hide_input": false,
  "kernelspec": {
   "display_name": "Python 3 (ipykernel)",
   "language": "python",
   "name": "python3"
  },
  "language_info": {
   "codemirror_mode": {
    "name": "ipython",
    "version": 3
   },
   "file_extension": ".py",
   "mimetype": "text/x-python",
   "name": "python",
   "nbconvert_exporter": "python",
   "pygments_lexer": "ipython3",
   "version": "3.10.4"
  },
  "vscode": {
   "interpreter": {
    "hash": "31f2aee4e71d21fbe5cf8b01ff0e069b9275f58929596ceb00d14d90e3e16cd6"
   }
  }
 },
 "nbformat": 4,
 "nbformat_minor": 2
}
