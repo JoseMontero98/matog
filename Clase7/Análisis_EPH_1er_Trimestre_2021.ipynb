{
 "cells": [
  {
   "cell_type": "markdown",
   "metadata": {},
   "source": [
    "Fuentes: [Colab](https://colab.research.google.com/drive/1hkJtllrFu8YrHV0QmMA5DCjRDo-8ZDia?usp=sharing) y [Youtube](https://www.youtube.com/watch?v=Q2UlOn4L6Pw)"
   ]
  },
  {
   "cell_type": "code",
   "execution_count": 1,
   "metadata": {
    "id": "kMEw-026eZg8"
   },
   "outputs": [
    {
     "name": "stderr",
     "output_type": "stream",
     "text": [
      "/tmp/ipykernel_1070143/2595729937.py:17: DtypeWarning: Columns (102,105) have mixed types. Specify dtype option on import or set low_memory=False.\n",
      "  df = pd.read_csv(base_usuarios, sep=';')\n",
      "/tmp/ipykernel_1070143/2595729937.py:18: DtypeWarning: Columns (10,13,18,38) have mixed types. Specify dtype option on import or set low_memory=False.\n",
      "  hog = pd.read_csv(base_hogar, sep = ';')\n"
     ]
    }
   ],
   "source": [
    "from urllib.request import urlopen\n",
    "from io import BytesIO\n",
    "from zipfile import ZipFile\n",
    "\n",
    "\n",
    "# Cargamos Base usuarios Primer Trimestre 2022\n",
    "url_zip = 'https://www.indec.gob.ar/ftp/cuadros/menusuperior/eph/EPH_usu_1_Trim_2022_txt.zip'           \n",
    "\n",
    "http_response = urlopen(url_zip)\n",
    "zipfile = ZipFile(BytesIO(http_response.read()))\n",
    "\n",
    "base_usuarios = zipfile.open('EPH_usu_1er_Trim_2022_txt/usu_individual_T122.txt.txt')\n",
    "base_hogar = zipfile.open('EPH_usu_1er_Trim_2022_txt/usu_hogar_T122.txt.txt')\n",
    "\n",
    "\n",
    "import pandas as pd\n",
    "df = pd.read_csv(base_usuarios, sep=';')\n",
    "hog = pd.read_csv(base_hogar, sep = ';')"
   ]
  },
  {
   "cell_type": "code",
   "execution_count": 2,
   "metadata": {},
   "outputs": [
    {
     "data": {
      "text/html": [
       "<div>\n",
       "<style scoped>\n",
       "    .dataframe tbody tr th:only-of-type {\n",
       "        vertical-align: middle;\n",
       "    }\n",
       "\n",
       "    .dataframe tbody tr th {\n",
       "        vertical-align: top;\n",
       "    }\n",
       "\n",
       "    .dataframe thead th {\n",
       "        text-align: right;\n",
       "    }\n",
       "</style>\n",
       "<table border=\"1\" class=\"dataframe\">\n",
       "  <thead>\n",
       "    <tr style=\"text-align: right;\">\n",
       "      <th></th>\n",
       "      <th>CODUSU</th>\n",
       "      <th>ANO4</th>\n",
       "      <th>TRIMESTRE</th>\n",
       "      <th>NRO_HOGAR</th>\n",
       "      <th>COMPONENTE</th>\n",
       "      <th>H15</th>\n",
       "      <th>REGION</th>\n",
       "      <th>MAS_500</th>\n",
       "      <th>AGLOMERADO</th>\n",
       "      <th>PONDERA</th>\n",
       "      <th>...</th>\n",
       "      <th>PDECIFR</th>\n",
       "      <th>ADECIFR</th>\n",
       "      <th>IPCF</th>\n",
       "      <th>DECCFR</th>\n",
       "      <th>IDECCFR</th>\n",
       "      <th>RDECCFR</th>\n",
       "      <th>GDECCFR</th>\n",
       "      <th>PDECCFR</th>\n",
       "      <th>ADECCFR</th>\n",
       "      <th>PONDIH</th>\n",
       "    </tr>\n",
       "  </thead>\n",
       "  <tbody>\n",
       "    <tr>\n",
       "      <th>0</th>\n",
       "      <td>TQRMNOQXQHLOKQCDEGKDB00777573</td>\n",
       "      <td>2022</td>\n",
       "      <td>1</td>\n",
       "      <td>1</td>\n",
       "      <td>2</td>\n",
       "      <td>1</td>\n",
       "      <td>43</td>\n",
       "      <td>N</td>\n",
       "      <td>14</td>\n",
       "      <td>104</td>\n",
       "      <td>...</td>\n",
       "      <td>10.0</td>\n",
       "      <td>10</td>\n",
       "      <td>77500</td>\n",
       "      <td>9</td>\n",
       "      <td>9.0</td>\n",
       "      <td>9</td>\n",
       "      <td>NaN</td>\n",
       "      <td>9.0</td>\n",
       "      <td>10</td>\n",
       "      <td>194</td>\n",
       "    </tr>\n",
       "    <tr>\n",
       "      <th>1</th>\n",
       "      <td>TQRMNOQXQHLOKQCDEGKDB00777573</td>\n",
       "      <td>2022</td>\n",
       "      <td>1</td>\n",
       "      <td>1</td>\n",
       "      <td>3</td>\n",
       "      <td>1</td>\n",
       "      <td>43</td>\n",
       "      <td>N</td>\n",
       "      <td>14</td>\n",
       "      <td>104</td>\n",
       "      <td>...</td>\n",
       "      <td>10.0</td>\n",
       "      <td>10</td>\n",
       "      <td>77500</td>\n",
       "      <td>9</td>\n",
       "      <td>9.0</td>\n",
       "      <td>9</td>\n",
       "      <td>NaN</td>\n",
       "      <td>9.0</td>\n",
       "      <td>10</td>\n",
       "      <td>194</td>\n",
       "    </tr>\n",
       "    <tr>\n",
       "      <th>2</th>\n",
       "      <td>TQRMNOQXQHLOKQCDEGKDB00777573</td>\n",
       "      <td>2022</td>\n",
       "      <td>1</td>\n",
       "      <td>1</td>\n",
       "      <td>4</td>\n",
       "      <td>1</td>\n",
       "      <td>43</td>\n",
       "      <td>N</td>\n",
       "      <td>14</td>\n",
       "      <td>104</td>\n",
       "      <td>...</td>\n",
       "      <td>10.0</td>\n",
       "      <td>10</td>\n",
       "      <td>77500</td>\n",
       "      <td>9</td>\n",
       "      <td>9.0</td>\n",
       "      <td>9</td>\n",
       "      <td>NaN</td>\n",
       "      <td>9.0</td>\n",
       "      <td>10</td>\n",
       "      <td>194</td>\n",
       "    </tr>\n",
       "    <tr>\n",
       "      <th>3</th>\n",
       "      <td>TQRMNOSUPHKKPQCDEIJAH00780151</td>\n",
       "      <td>2022</td>\n",
       "      <td>1</td>\n",
       "      <td>1</td>\n",
       "      <td>1</td>\n",
       "      <td>1</td>\n",
       "      <td>1</td>\n",
       "      <td>S</td>\n",
       "      <td>33</td>\n",
       "      <td>1741</td>\n",
       "      <td>...</td>\n",
       "      <td>NaN</td>\n",
       "      <td>12</td>\n",
       "      <td>0</td>\n",
       "      <td>12</td>\n",
       "      <td>NaN</td>\n",
       "      <td>12</td>\n",
       "      <td>12.0</td>\n",
       "      <td>NaN</td>\n",
       "      <td>12</td>\n",
       "      <td>0</td>\n",
       "    </tr>\n",
       "    <tr>\n",
       "      <th>4</th>\n",
       "      <td>TQRMNOSUPHKKPQCDEIJAH00780151</td>\n",
       "      <td>2022</td>\n",
       "      <td>1</td>\n",
       "      <td>1</td>\n",
       "      <td>2</td>\n",
       "      <td>1</td>\n",
       "      <td>1</td>\n",
       "      <td>S</td>\n",
       "      <td>33</td>\n",
       "      <td>1741</td>\n",
       "      <td>...</td>\n",
       "      <td>NaN</td>\n",
       "      <td>12</td>\n",
       "      <td>0</td>\n",
       "      <td>12</td>\n",
       "      <td>NaN</td>\n",
       "      <td>12</td>\n",
       "      <td>12.0</td>\n",
       "      <td>NaN</td>\n",
       "      <td>12</td>\n",
       "      <td>0</td>\n",
       "    </tr>\n",
       "    <tr>\n",
       "      <th>...</th>\n",
       "      <td>...</td>\n",
       "      <td>...</td>\n",
       "      <td>...</td>\n",
       "      <td>...</td>\n",
       "      <td>...</td>\n",
       "      <td>...</td>\n",
       "      <td>...</td>\n",
       "      <td>...</td>\n",
       "      <td>...</td>\n",
       "      <td>...</td>\n",
       "      <td>...</td>\n",
       "      <td>...</td>\n",
       "      <td>...</td>\n",
       "      <td>...</td>\n",
       "      <td>...</td>\n",
       "      <td>...</td>\n",
       "      <td>...</td>\n",
       "      <td>...</td>\n",
       "      <td>...</td>\n",
       "      <td>...</td>\n",
       "      <td>...</td>\n",
       "    </tr>\n",
       "    <tr>\n",
       "      <th>49701</th>\n",
       "      <td>TQRMNOPRPHMNMLCDEIIAD00701192</td>\n",
       "      <td>2022</td>\n",
       "      <td>1</td>\n",
       "      <td>1</td>\n",
       "      <td>2</td>\n",
       "      <td>1</td>\n",
       "      <td>1</td>\n",
       "      <td>S</td>\n",
       "      <td>32</td>\n",
       "      <td>2131</td>\n",
       "      <td>...</td>\n",
       "      <td>NaN</td>\n",
       "      <td>9</td>\n",
       "      <td>187500</td>\n",
       "      <td>10</td>\n",
       "      <td>NaN</td>\n",
       "      <td>10</td>\n",
       "      <td>10.0</td>\n",
       "      <td>NaN</td>\n",
       "      <td>10</td>\n",
       "      <td>5143</td>\n",
       "    </tr>\n",
       "    <tr>\n",
       "      <th>49702</th>\n",
       "      <td>TQRMNOSRWHKMLUCDEIIAD00780103</td>\n",
       "      <td>2022</td>\n",
       "      <td>1</td>\n",
       "      <td>1</td>\n",
       "      <td>1</td>\n",
       "      <td>1</td>\n",
       "      <td>1</td>\n",
       "      <td>S</td>\n",
       "      <td>32</td>\n",
       "      <td>1513</td>\n",
       "      <td>...</td>\n",
       "      <td>NaN</td>\n",
       "      <td>5</td>\n",
       "      <td>56100</td>\n",
       "      <td>8</td>\n",
       "      <td>NaN</td>\n",
       "      <td>8</td>\n",
       "      <td>8.0</td>\n",
       "      <td>NaN</td>\n",
       "      <td>5</td>\n",
       "      <td>2777</td>\n",
       "    </tr>\n",
       "    <tr>\n",
       "      <th>49703</th>\n",
       "      <td>TQRMNOSRWHKMLUCDEIIAD00780103</td>\n",
       "      <td>2022</td>\n",
       "      <td>1</td>\n",
       "      <td>1</td>\n",
       "      <td>2</td>\n",
       "      <td>1</td>\n",
       "      <td>1</td>\n",
       "      <td>S</td>\n",
       "      <td>32</td>\n",
       "      <td>1513</td>\n",
       "      <td>...</td>\n",
       "      <td>NaN</td>\n",
       "      <td>5</td>\n",
       "      <td>56100</td>\n",
       "      <td>8</td>\n",
       "      <td>NaN</td>\n",
       "      <td>8</td>\n",
       "      <td>8.0</td>\n",
       "      <td>NaN</td>\n",
       "      <td>5</td>\n",
       "      <td>2777</td>\n",
       "    </tr>\n",
       "    <tr>\n",
       "      <th>49704</th>\n",
       "      <td>TQRMNOQRPHMMLPCDEFIAH00707721</td>\n",
       "      <td>2022</td>\n",
       "      <td>1</td>\n",
       "      <td>1</td>\n",
       "      <td>1</td>\n",
       "      <td>1</td>\n",
       "      <td>43</td>\n",
       "      <td>S</td>\n",
       "      <td>2</td>\n",
       "      <td>678</td>\n",
       "      <td>...</td>\n",
       "      <td>NaN</td>\n",
       "      <td>6</td>\n",
       "      <td>34000</td>\n",
       "      <td>5</td>\n",
       "      <td>5.0</td>\n",
       "      <td>5</td>\n",
       "      <td>5.0</td>\n",
       "      <td>NaN</td>\n",
       "      <td>5</td>\n",
       "      <td>2274</td>\n",
       "    </tr>\n",
       "    <tr>\n",
       "      <th>49705</th>\n",
       "      <td>TQRMNOQRPHMMLPCDEFIAH00707721</td>\n",
       "      <td>2022</td>\n",
       "      <td>1</td>\n",
       "      <td>1</td>\n",
       "      <td>2</td>\n",
       "      <td>1</td>\n",
       "      <td>43</td>\n",
       "      <td>S</td>\n",
       "      <td>2</td>\n",
       "      <td>678</td>\n",
       "      <td>...</td>\n",
       "      <td>NaN</td>\n",
       "      <td>6</td>\n",
       "      <td>34000</td>\n",
       "      <td>5</td>\n",
       "      <td>5.0</td>\n",
       "      <td>5</td>\n",
       "      <td>5.0</td>\n",
       "      <td>NaN</td>\n",
       "      <td>5</td>\n",
       "      <td>2274</td>\n",
       "    </tr>\n",
       "  </tbody>\n",
       "</table>\n",
       "<p>49706 rows × 177 columns</p>\n",
       "</div>"
      ],
      "text/plain": [
       "                              CODUSU  ANO4  TRIMESTRE  NRO_HOGAR  COMPONENTE  \\\n",
       "0      TQRMNOQXQHLOKQCDEGKDB00777573  2022          1          1           2   \n",
       "1      TQRMNOQXQHLOKQCDEGKDB00777573  2022          1          1           3   \n",
       "2      TQRMNOQXQHLOKQCDEGKDB00777573  2022          1          1           4   \n",
       "3      TQRMNOSUPHKKPQCDEIJAH00780151  2022          1          1           1   \n",
       "4      TQRMNOSUPHKKPQCDEIJAH00780151  2022          1          1           2   \n",
       "...                              ...   ...        ...        ...         ...   \n",
       "49701  TQRMNOPRPHMNMLCDEIIAD00701192  2022          1          1           2   \n",
       "49702  TQRMNOSRWHKMLUCDEIIAD00780103  2022          1          1           1   \n",
       "49703  TQRMNOSRWHKMLUCDEIIAD00780103  2022          1          1           2   \n",
       "49704  TQRMNOQRPHMMLPCDEFIAH00707721  2022          1          1           1   \n",
       "49705  TQRMNOQRPHMMLPCDEFIAH00707721  2022          1          1           2   \n",
       "\n",
       "       H15  REGION MAS_500  AGLOMERADO  PONDERA  ...  PDECIFR  ADECIFR  \\\n",
       "0        1      43       N          14      104  ...     10.0       10   \n",
       "1        1      43       N          14      104  ...     10.0       10   \n",
       "2        1      43       N          14      104  ...     10.0       10   \n",
       "3        1       1       S          33     1741  ...      NaN       12   \n",
       "4        1       1       S          33     1741  ...      NaN       12   \n",
       "...    ...     ...     ...         ...      ...  ...      ...      ...   \n",
       "49701    1       1       S          32     2131  ...      NaN        9   \n",
       "49702    1       1       S          32     1513  ...      NaN        5   \n",
       "49703    1       1       S          32     1513  ...      NaN        5   \n",
       "49704    1      43       S           2      678  ...      NaN        6   \n",
       "49705    1      43       S           2      678  ...      NaN        6   \n",
       "\n",
       "         IPCF  DECCFR  IDECCFR  RDECCFR  GDECCFR  PDECCFR  ADECCFR  PONDIH  \n",
       "0       77500       9      9.0        9      NaN      9.0       10     194  \n",
       "1       77500       9      9.0        9      NaN      9.0       10     194  \n",
       "2       77500       9      9.0        9      NaN      9.0       10     194  \n",
       "3           0      12      NaN       12     12.0      NaN       12       0  \n",
       "4           0      12      NaN       12     12.0      NaN       12       0  \n",
       "...       ...     ...      ...      ...      ...      ...      ...     ...  \n",
       "49701  187500      10      NaN       10     10.0      NaN       10    5143  \n",
       "49702   56100       8      NaN        8      8.0      NaN        5    2777  \n",
       "49703   56100       8      NaN        8      8.0      NaN        5    2777  \n",
       "49704   34000       5      5.0        5      5.0      NaN        5    2274  \n",
       "49705   34000       5      5.0        5      5.0      NaN        5    2274  \n",
       "\n",
       "[49706 rows x 177 columns]"
      ]
     },
     "execution_count": 2,
     "metadata": {},
     "output_type": "execute_result"
    }
   ],
   "source": [
    "df"
   ]
  },
  {
   "cell_type": "markdown",
   "metadata": {},
   "source": [
    "Nivel educativo - NIVEL_ED\n",
    "- 1 = Primario incompleto (incluye\n",
    "educación especial)\n",
    "- 2 = primario completo\n",
    "- 3 = Secundario incompleto\n",
    "- 4 = secundario completo\n",
    "- 5 = Superior universitario incompleto\n",
    "- 6 = Superior universitario completo\n",
    "- 7 = Sin instrucción\n",
    "- 9 = Ns/ Nr\n",
    "\n",
    "Categoria ocupacional - CAT_OCUP\n",
    "(Para ocupados y desocupados con\n",
    "ocupación anterior)\n",
    "- 1 = Patrón\n",
    "- 2 = Cuenta propia\n",
    "- 3 = Obrero o empleado\n",
    "- 4 = Trabajador familiar sin\n",
    "\n",
    "P47T: Monto de ingreso total individual\n",
    "(sumatoria ingresos laborales y no\n",
    "laborales)\n",
    "\n",
    "Ponderadores:\n",
    "- Pondera: para casi todas las variables de las Bases, incluidas todas las variables referidas a Viviendas y Hogares\n",
    "- Pondih: para calcular los ingresos de los hogares\n",
    "- Pondiio: para el ingreso de la ocupación principal\n",
    "- Pondii: para el ingreso total individual"
   ]
  },
  {
   "cell_type": "code",
   "execution_count": 4,
   "metadata": {},
   "outputs": [],
   "source": [
    "columna_edad = \"CH06\"\n",
    "columna_educacion = \"NIVEL_ED\" \n",
    "columna_ocup = \"CAT_OCUP\" \n",
    "columna_ingresos = \"P47T\""
   ]
  },
  {
   "cell_type": "code",
   "execution_count": 5,
   "metadata": {
    "colab": {
     "base_uri": "https://localhost:8080/",
     "height": 516
    },
    "id": "hGMKpUWDodbv",
    "outputId": "586a704f-9220-4ec1-de3f-1829072e5009"
   },
   "outputs": [
    {
     "data": {
      "text/plain": [
       "<matplotlib.lines.Line2D at 0x7f3bc90b9d50>"
      ]
     },
     "execution_count": 5,
     "metadata": {},
     "output_type": "execute_result"
    },
    {
     "data": {
      "image/png": "[encoded data removed]",
      "text/plain": [
       "<Figure size 864x576 with 1 Axes>"
      ]
     },
     "metadata": {
      "needs_background": "light"
     },
     "output_type": "display_data"
    }
   ],
   "source": [
    "filtro_edad = (df[columna_edad] >= 25) & (df[columna_edad]<=33)\n",
    "filtro_educ = df[columna_educacion] == 6\n",
    "filtro_ocup = df[columna_ocup] == 3\n",
    "filtro_ingresos_positivos = df[columna_ingresos ] >0\n",
    "\n",
    "df_jovenes = df[filtro_educ & \n",
    "                filtro_edad & \n",
    "                filtro_ocup & \n",
    "                filtro_ingresos_positivos][columna_ingresos]\n",
    "\n",
    "ax = df_jovenes.hist(bins=50, figsize=(12, 8))\n",
    "\n",
    "ax.set_title(\"Sueldos 1er Trimestre 2022: Jóvenes de 25 a 33 años con estudios superiores\")\n",
    "\n",
    "ax.axvline(df_jovenes.median(), color=\"red\")"
   ]
  },
  {
   "cell_type": "code",
   "execution_count": 6,
   "metadata": {
    "colab": {
     "base_uri": "https://localhost:8080/"
    },
    "id": "iIiw_lLaoeVj",
    "outputId": "917dc552-9cd5-4284-fb63-cd015b7fab8d"
   },
   "outputs": [
    {
     "name": "stdout",
     "output_type": "stream",
     "text": [
      "70000.0\n"
     ]
    }
   ],
   "source": [
    "print(df_jovenes.median())"
   ]
  },
  {
   "cell_type": "code",
   "execution_count": null,
   "metadata": {},
   "outputs": [],
   "source": [
    "df"
   ]
  },
  {
   "cell_type": "code",
   "execution_count": 7,
   "metadata": {
    "colab": {
     "base_uri": "https://localhost:8080/"
    },
    "id": "kPb-EzNVtd0K",
    "outputId": "7ba8992f-067e-4b8e-8fbd-5801a4bc1c39"
   },
   "outputs": [
    {
     "name": "stdout",
     "output_type": "stream",
     "text": [
      "PONDIH : 80000.0\n",
      "PONDII : 83000.0\n",
      "PONDIIO : 80000.0\n",
      "PONDERA : 80000.0\n"
     ]
    }
   ],
   "source": [
    "# Calculamos la mediana del ingreso individual, ahora ponderandolo por todos los ponderadores de la base (correctos o no)\n",
    "\n",
    "for ponderador in [\"Pondih\",\"Pondii\",\"Pondiio\", \"Pondera\"]:\n",
    "  ponderador = ponderador.upper()\n",
    "  df_jovenes_weighted = df[filtro_educ & \n",
    "                           filtro_edad & \n",
    "                           filtro_ocup & \n",
    "                           filtro_ingresos_positivos][[columna_ingresos, ponderador]]\n",
    "# Ordenamos por ingresos, de menor a mayor\n",
    "  df_jovenes_weighted.sort_values(columna_ingresos, inplace=True)\n",
    "# Acumulamos el ponderador. El último registro de la suma acumulada, arroja como resultado el total de personas\n",
    "# que está representando.\n",
    "  cumsum = df_jovenes_weighted[ponderador].cumsum()\n",
    "\n",
    "# Encontramos la mitad de la gente que representa, dividiendo por 2 la suma.\n",
    "  cutoff = df_jovenes_weighted[ponderador].sum() *.5\n",
    "\n",
    "  median = df_jovenes_weighted[columna_ingresos][cumsum >= cutoff].iloc[0]\n",
    "\n",
    "  print(ponderador, \":\", median)"
   ]
  },
  {
   "cell_type": "code",
   "execution_count": 8,
   "metadata": {
    "colab": {
     "base_uri": "https://localhost:8080/",
     "height": 535
    },
    "id": "Tdy7MEilqtdj",
    "outputId": "cfcf0a4d-3c9d-49d6-af6e-ddb812dd24c9"
   },
   "outputs": [
    {
     "name": "stdout",
     "output_type": "stream",
     "text": [
      "PONDII : 83000.0\n"
     ]
    },
    {
     "data": {
      "text/plain": [
       "<matplotlib.lines.Line2D at 0x7f3bc8a4c5b0>"
      ]
     },
     "execution_count": 8,
     "metadata": {},
     "output_type": "execute_result"
    },
    {
     "data": {
      "image/png": "[encoded data removed]",
      "text/plain": [
       "<Figure size 864x576 with 1 Axes>"
      ]
     },
     "metadata": {
      "needs_background": "light"
     },
     "output_type": "display_data"
    }
   ],
   "source": [
    "ponderador = \"Pondii\".upper()\n",
    "df_jovenes_weighted = df[filtro_educ & \n",
    "                         filtro_edad & \n",
    "                         filtro_ocup & \n",
    "                         filtro_ingresos_positivos][[columna_ingresos, ponderador]]\n",
    "\n",
    "\n",
    "df_jovenes_weighted.sort_values(columna_ingresos, inplace=True)\n",
    "\n",
    "ax = df_jovenes_weighted[columna_ingresos].plot(kind=\"hist\", \n",
    "                                                weights=df_jovenes_weighted[ponderador],\n",
    "                                                bins=50, \n",
    "                                                figsize=(12, 8)\n",
    "                                               )\n",
    "\n",
    "ax.set_title(\"Sueldos 1er Trimestre 2022: Jóvenes de 25 a 33 años con estudios superiores. Histograma Ponderado\")\n",
    "cumsum = df_jovenes_weighted[ponderador].cumsum()\n",
    "cutoff = df_jovenes_weighted[ponderador].sum() *.5\n",
    "median = df_jovenes_weighted[columna_ingresos][cumsum >= cutoff].iloc[0]\n",
    "print(ponderador, \":\", median)\n",
    "ax.axvline(median, color=\"red\")"
   ]
  },
  {
   "cell_type": "code",
   "execution_count": null,
   "metadata": {
    "id": "V3X7v0RkBQfT"
   },
   "outputs": [],
   "source": [
    "# costo_metro_cuadrado = 350000\n",
    "costo_metro_cuadrado = 65000"
   ]
  },
  {
   "cell_type": "code",
   "execution_count": null,
   "metadata": {
    "colab": {
     "base_uri": "https://localhost:8080/"
    },
    "id": "IHkdFVAbBaq0",
    "outputId": "cec0c8b1-1ee4-45f5-f829-647776f0fdbb"
   },
   "outputs": [],
   "source": [
    "print(f\"Sueldo anual en metros cuadrados: {df_jovenes.median()*12/costo_metro_cuadrado:.2f} metros cuadrados por año\")\n",
    "print(f\"Años de sueldo para comprar un dos ambientes de 30m2: {costo_metro_cuadrado*30/(df_jovenes.median()*12):.2f} años\")"
   ]
  },
  {
   "cell_type": "code",
   "execution_count": null,
   "metadata": {
    "colab": {
     "base_uri": "https://localhost:8080/",
     "height": 517
    },
    "id": "9LLYoWiPBiLr",
    "outputId": "f1c96591-4859-459d-ae0e-262b7393783a"
   },
   "outputs": [],
   "source": [
    "df_adultos = df[filtro_educ & filtro_ocup & filtro_ingresos_positivos][[columna_ingresos, ponderador]]\n",
    "\n",
    "ax = df_adultos[columna_ingresos].plot(kind=\"hist\", \n",
    "                                                weights=df_adultos[ponderador],\n",
    "                                                bins=50, \n",
    "                                                figsize=(12, 8)\n",
    "                                               )\n",
    "\n",
    "ax.set_title(\"Sueldos 1er Trimestre 2022: Adultos con estudios superiores\")\n"
   ]
  },
  {
   "cell_type": "code",
   "execution_count": null,
   "metadata": {
    "colab": {
     "base_uri": "https://localhost:8080/"
    },
    "id": "MZcDqAWJCTOp",
    "outputId": "d5ea7d18-c128-4fc9-dd4d-2ce9c1461df6"
   },
   "outputs": [],
   "source": [
    "df_adultos.median()"
   ]
  },
  {
   "cell_type": "markdown",
   "metadata": {
    "id": "zQkMrjVICp3H"
   },
   "source": [
    "# Analisis II"
   ]
  },
  {
   "cell_type": "code",
   "execution_count": null,
   "metadata": {},
   "outputs": [],
   "source": [
    "df.shape"
   ]
  },
  {
   "cell_type": "markdown",
   "metadata": {},
   "source": [
    "La variable _pondera_ es la que indica, para cada registro, a cuantos representa."
   ]
  },
  {
   "cell_type": "code",
   "execution_count": null,
   "metadata": {},
   "outputs": [],
   "source": [
    "df['PONDERA'].sum()"
   ]
  },
  {
   "cell_type": "markdown",
   "metadata": {},
   "source": [
    "##### Género "
   ]
  },
  {
   "cell_type": "code",
   "execution_count": 9,
   "metadata": {},
   "outputs": [
    {
     "data": {
      "text/plain": [
       "2    25863\n",
       "1    23843\n",
       "Name: CH04, dtype: int64"
      ]
     },
     "execution_count": 9,
     "metadata": {},
     "output_type": "execute_result"
    }
   ],
   "source": [
    "df['CH04'].value_counts()"
   ]
  },
  {
   "cell_type": "code",
   "execution_count": 10,
   "metadata": {},
   "outputs": [
    {
     "data": {
      "text/plain": [
       "CH04\n",
       "1    14141340\n",
       "2    14931875\n",
       "Name: PONDERA, dtype: int64"
      ]
     },
     "execution_count": 10,
     "metadata": {},
     "output_type": "execute_result"
    }
   ],
   "source": [
    "df.groupby('CH04')['PONDERA'].sum()\n"
   ]
  },
  {
   "cell_type": "code",
   "execution_count": 12,
   "metadata": {},
   "outputs": [
    {
     "data": {
      "text/plain": [
       "2    0.520319\n",
       "1    0.479681\n",
       "Name: CH04, dtype: float64"
      ]
     },
     "execution_count": 12,
     "metadata": {},
     "output_type": "execute_result"
    }
   ],
   "source": [
    "df['CH04'].value_counts(normalize = True)"
   ]
  },
  {
   "cell_type": "code",
   "execution_count": 13,
   "metadata": {},
   "outputs": [
    {
     "data": {
      "text/plain": [
       "CH04\n",
       "1    0.486404\n",
       "2    0.513596\n",
       "Name: PONDERA, dtype: float64"
      ]
     },
     "execution_count": 13,
     "metadata": {},
     "output_type": "execute_result"
    }
   ],
   "source": [
    "df.groupby('CH04')['PONDERA'].sum()/df['PONDERA'].sum()"
   ]
  },
  {
   "cell_type": "markdown",
   "metadata": {},
   "source": [
    "##### Empleo "
   ]
  },
  {
   "cell_type": "markdown",
   "metadata": {},
   "source": [
    "![ESTADO](estado.png)"
   ]
  },
  {
   "cell_type": "code",
   "execution_count": 14,
   "metadata": {},
   "outputs": [
    {
     "data": {
      "text/plain": [
       "ESTADO\n",
       "0    0.002820\n",
       "1    0.432837\n",
       "2    0.032425\n",
       "3    0.387615\n",
       "4    0.144303\n",
       "Name: PONDERA, dtype: float64"
      ]
     },
     "execution_count": 14,
     "metadata": {},
     "output_type": "execute_result"
    }
   ],
   "source": [
    "df.groupby('ESTADO')['PONDERA'].sum()/df['PONDERA'].sum()"
   ]
  },
  {
   "cell_type": "code",
   "execution_count": 15,
   "metadata": {},
   "outputs": [
    {
     "data": {
      "text/plain": [
       "ESTADO\n",
       "0       81979\n",
       "1    12583977\n",
       "2      942704\n",
       "3    11269210\n",
       "4     4195345\n",
       "Name: PONDERA, dtype: int64"
      ]
     },
     "execution_count": 15,
     "metadata": {},
     "output_type": "execute_result"
    }
   ],
   "source": [
    "df.groupby('ESTADO')['PONDERA'].sum()"
   ]
  },
  {
   "cell_type": "code",
   "execution_count": 24,
   "metadata": {},
   "outputs": [],
   "source": [
    "pea = df.groupby('ESTADO')['PONDERA'].sum()[1] + df.groupby('ESTADO')['PONDERA'].sum()[2]"
   ]
  },
  {
   "cell_type": "code",
   "execution_count": 25,
   "metadata": {},
   "outputs": [
    {
     "data": {
      "text/plain": [
       "13526681"
      ]
     },
     "execution_count": 25,
     "metadata": {},
     "output_type": "execute_result"
    }
   ],
   "source": [
    "pea"
   ]
  },
  {
   "cell_type": "code",
   "execution_count": 26,
   "metadata": {},
   "outputs": [
    {
     "data": {
      "text/plain": [
       "6.969218834982506"
      ]
     },
     "execution_count": 26,
     "metadata": {},
     "output_type": "execute_result"
    }
   ],
   "source": [
    "# Desempleo\n",
    "des = df.groupby('ESTADO')['PONDERA'].sum()[2]\n",
    "des2 = des/pea\n",
    "des2*100"
   ]
  },
  {
   "cell_type": "code",
   "execution_count": 27,
   "metadata": {},
   "outputs": [
    {
     "data": {
      "text/plain": [
       "93.0307811650175"
      ]
     },
     "execution_count": 27,
     "metadata": {},
     "output_type": "execute_result"
    }
   ],
   "source": [
    "# Empleo\n",
    "emp = df.groupby('ESTADO')['PONDERA'].sum()[1]\n",
    "emp2 = emp/pea\n",
    "emp2*100"
   ]
  },
  {
   "cell_type": "code",
   "execution_count": 28,
   "metadata": {},
   "outputs": [
    {
     "data": {
      "text/plain": [
       "13526681"
      ]
     },
     "execution_count": 28,
     "metadata": {},
     "output_type": "execute_result"
    }
   ],
   "source": [
    "#PEA\n",
    "pea = des + emp\n",
    "pea"
   ]
  },
  {
   "cell_type": "markdown",
   "metadata": {},
   "source": [
    "#####  Salario ocupación principal"
   ]
  },
  {
   "cell_type": "code",
   "execution_count": null,
   "metadata": {},
   "outputs": [],
   "source": [
    "# Salario de la ocupación principal\n",
    "df['P21'].describe()"
   ]
  },
  {
   "cell_type": "code",
   "execution_count": null,
   "metadata": {},
   "outputs": [],
   "source": [
    "# Media ponderada\n",
    "(df['P21']*df['PONDERA']).sum()/df['PONDERA'].sum()"
   ]
  },
  {
   "cell_type": "code",
   "execution_count": null,
   "metadata": {},
   "outputs": [],
   "source": [
    "import numpy as np\n",
    "np.sum(df['P21']*df['PONDERA'])/df['PONDERA'].sum()"
   ]
  },
  {
   "cell_type": "code",
   "execution_count": null,
   "metadata": {},
   "outputs": [],
   "source": [
    "np.average(df['P21'], axis = 0, weights = df['PONDERA'])"
   ]
  },
  {
   "cell_type": "code",
   "execution_count": null,
   "metadata": {},
   "outputs": [],
   "source": [
    "# https://www.statsmodels.org/dev/generated/statsmodels.stats.weightstats.DescrStatsW.html\n",
    "from statsmodels.stats.weightstats import DescrStatsW"
   ]
  },
  {
   "cell_type": "code",
   "execution_count": null,
   "metadata": {},
   "outputs": [],
   "source": [
    "dfw = DescrStatsW(df['P21'], weights = df['PONDERA'])"
   ]
  },
  {
   "cell_type": "code",
   "execution_count": null,
   "metadata": {},
   "outputs": [],
   "source": [
    "dfw.mean"
   ]
  },
  {
   "cell_type": "code",
   "execution_count": null,
   "metadata": {},
   "outputs": [],
   "source": [
    "dfw.std"
   ]
  },
  {
   "cell_type": "code",
   "execution_count": null,
   "metadata": {},
   "outputs": [],
   "source": [
    "dfw.quantile([.01, .05, .1, .25, .5, .9, .95, .99])"
   ]
  },
  {
   "cell_type": "code",
   "execution_count": null,
   "metadata": {},
   "outputs": [],
   "source": [
    "import matplotlib.pyplot as plt\n",
    "%matplotlib inline\n",
    "plt.hist(df['P21'], bins = 2)\n",
    "plt.show();"
   ]
  },
  {
   "cell_type": "code",
   "execution_count": null,
   "metadata": {},
   "outputs": [],
   "source": [
    "df1 = df.loc[(df['P21']>0) & (df['P21']>200000)]"
   ]
  },
  {
   "cell_type": "code",
   "execution_count": null,
   "metadata": {},
   "outputs": [],
   "source": [
    "plt.hist(df1['P21']);"
   ]
  },
  {
   "cell_type": "code",
   "execution_count": null,
   "metadata": {},
   "outputs": [],
   "source": [
    "df1['LP21'] = np.log(df['P21'])\n",
    "plt.hist(df1['LP21']);"
   ]
  },
  {
   "cell_type": "code",
   "execution_count": null,
   "metadata": {},
   "outputs": [],
   "source": [
    "df1['LP21'].plot.hist(density = True,bins= 20)"
   ]
  },
  {
   "cell_type": "code",
   "execution_count": null,
   "metadata": {},
   "outputs": [],
   "source": [
    "df1['LP21'].plot.kde()\n",
    "df1['LP21'].plot.hist(density = True,bins= 20)"
   ]
  },
  {
   "cell_type": "code",
   "execution_count": null,
   "metadata": {},
   "outputs": [],
   "source": [
    "# Histograma ponderado\n",
    "(df1['P21']*df1['PONDERA']/df1['PONDERA'].sum()).plot.hist(density = True, bins= 10)"
   ]
  },
  {
   "cell_type": "code",
   "execution_count": null,
   "metadata": {},
   "outputs": [],
   "source": [
    "# Analisis bivariados\n",
    "# Sexo y edad\n",
    "pd.crosstab(index= df['CH04'], columns=df['ESTADO'], margins = True, dropna = False)"
   ]
  },
  {
   "cell_type": "code",
   "execution_count": null,
   "metadata": {},
   "outputs": [],
   "source": [
    "pd.crosstab(index= df['CH04'], columns=df['ESTADO'], margins = True, dropna = False, normalize = 'columns')"
   ]
  },
  {
   "cell_type": "code",
   "execution_count": null,
   "metadata": {},
   "outputs": [],
   "source": [
    "pd.crosstab(df['CH04'], df['ESTADO'],df['PONDERA'], aggfunc = sum, dropna = False, normalize = 'columns')"
   ]
  },
  {
   "cell_type": "code",
   "execution_count": null,
   "metadata": {},
   "outputs": [],
   "source": [
    "# Curva de Lorenz"
   ]
  },
  {
   "cell_type": "code",
   "execution_count": null,
   "metadata": {},
   "outputs": [],
   "source": [
    "df_lor = df.sort_values(by='P21')"
   ]
  },
  {
   "cell_type": "code",
   "execution_count": null,
   "metadata": {},
   "outputs": [],
   "source": [
    "df_lor['PobAcum'] = df_lor['PONDERA'].cumsum()"
   ]
  },
  {
   "cell_type": "code",
   "execution_count": null,
   "metadata": {},
   "outputs": [],
   "source": [
    "df_lor['PobAcum'] = df_lor['PobAcum'] /df_lor['PobAcum'].iat[-1]"
   ]
  },
  {
   "cell_type": "code",
   "execution_count": null,
   "metadata": {},
   "outputs": [],
   "source": [
    "df_lor['IngAcum'] = (df_lor['P21']*df_lor['PONDERA']).cumsum()"
   ]
  },
  {
   "cell_type": "code",
   "execution_count": null,
   "metadata": {},
   "outputs": [],
   "source": [
    "df_lor['IngAcum'] = df_lor['IngAcum'] / df_lor['IngAcum'].iat[-1]"
   ]
  },
  {
   "cell_type": "code",
   "execution_count": null,
   "metadata": {},
   "outputs": [],
   "source": [
    "fig, ax = plt.subplots(figsize = [10,10])\n",
    "ax.scatter(df_lor['PobAcum'], df_lor['IngAcum'], color = 'b', s=1)\n",
    "ax.plot([0,1],[0,1], color = 'r')"
   ]
  },
  {
   "cell_type": "code",
   "execution_count": null,
   "metadata": {},
   "outputs": [],
   "source": [
    "df_lor.loc[df_lor['PobAcum']< 0.2, 'quintil'] = 1\n",
    "df_lor.loc[(df_lor['PobAcum']> 0.2) & (df_lor['PobAcum']<= 0.4), 'quintil'] = 2\n",
    "df_lor.loc[(df_lor['PobAcum']> 0.4) & (df_lor['PobAcum']<= 0.6), 'quintil'] = 3\n",
    "df_lor.loc[(df_lor['PobAcum']> 0.6) & (df_lor['PobAcum']<= 0.8), 'quintil'] = 4\n",
    "df_lor.loc[(df_lor['PobAcum']> 0.8) & (df_lor['PobAcum']<= 1), 'quintil'] = 5"
   ]
  },
  {
   "cell_type": "code",
   "execution_count": null,
   "metadata": {},
   "outputs": [],
   "source": [
    "df_lor[['PobAcum','quintil']]"
   ]
  },
  {
   "cell_type": "code",
   "execution_count": null,
   "metadata": {},
   "outputs": [],
   "source": [
    "df_lor.groupby('quintil').apply(lambda x: (x['P21']*x['PONDERA']).sum()/x['PONDERA'].sum())"
   ]
  },
  {
   "cell_type": "code",
   "execution_count": null,
   "metadata": {},
   "outputs": [],
   "source": [
    "# GINI\n",
    "# Filtramos los ingresos negativos\n",
    "gini = df\n",
    "gini = df.drop(df[(df['P21']<=0)].index)\n",
    "\n",
    "\n"
   ]
  },
  {
   "cell_type": "code",
   "execution_count": null,
   "metadata": {},
   "outputs": [],
   "source": []
  },
  {
   "cell_type": "code",
   "execution_count": null,
   "metadata": {},
   "outputs": [],
   "source": []
  },
  {
   "cell_type": "code",
   "execution_count": null,
   "metadata": {},
   "outputs": [],
   "source": []
  }
 ],
 "metadata": {
  "colab": {
   "collapsed_sections": [],
   "name": "Análisis EPH 1er Trimestre 2021.ipynb",
   "provenance": []
  },
  "hide_input": false,
  "kernelspec": {
   "display_name": "Python 3 (ipykernel)",
   "language": "python",
   "name": "python3"
  },
  "language_info": {
   "codemirror_mode": {
    "name": "ipython",
    "version": 3
   },
   "file_extension": ".py",
   "mimetype": "text/x-python",
   "name": "python",
   "nbconvert_exporter": "python",
   "pygments_lexer": "ipython3",
   "version": "3.10.6"
  },
  "vscode": {
   "interpreter": {
    "hash": "31f2aee4e71d21fbe5cf8b01ff0e069b9275f58929596ceb00d14d90e3e16cd6"
   }
  }
 },
 "nbformat": 4,
 "nbformat_minor": 1
}
