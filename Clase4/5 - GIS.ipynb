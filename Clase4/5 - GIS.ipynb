{
 "cells": [
  {
   "cell_type": "markdown",
   "id": "f494d387",
   "metadata": {},
   "source": [
    "[![Open In Colab](https://colab.research.google.com/assets/colab-badge.svg)](https://colab.research.google.com/github/matog/Flacso_ciencia_de_datos_python_2022/blob/main/Clase4/5%20-%20GIS.ipynb)\n"
   ]
  },
  {
   "cell_type": "markdown",
   "id": "15d0da1d",
   "metadata": {},
   "source": [
    "# GIS con GEOPANDAS "
   ]
  },
  {
   "cell_type": "markdown",
   "id": "9129ed45",
   "metadata": {},
   "source": [
    "https://www.ign.gob.ar/NuestrasActividades/InformacionGeoespacial/CapasSIG"
   ]
  },
  {
   "cell_type": "markdown",
   "id": "92af4e48",
   "metadata": {},
   "source": [
    "Intro a sistemas de coordenadas y proyecciones: \n",
    "- [Video](https://www.youtube.com/watch?v=mNG2vIBs7bU) \n",
    "- [ArcGis](https://pro.arcgis.com/es/pro-app/latest/help/mapping/properties/coordinate-systems-and-projections.htm)\n",
    "- [MappingGis](https://mappinggis.com/2022/02/diferencias-entre-los-sistemas-de-coordenadas-geograficas-y-proyectadas/)\n"
   ]
  },
  {
   "cell_type": "markdown",
   "id": "1d40fc7d",
   "metadata": {},
   "source": [
    "### Carga de módulos"
   ]
  },
  {
   "cell_type": "code",
   "execution_count": null,
   "id": "0e681e84",
   "metadata": {},
   "outputs": [],
   "source": [
    "# Librerias necesarias para librerías de goepython\n",
    "!apt install gdal-bin python-gdal python3-gdal \n",
    "# Instalamos rtree (requerimiento de Geopandas)\n",
    "!apt install python3-rtree \n",
    "# Instalamos Geopandas desde el repositorio, para tomar la última versión\n",
    "!pip install git+git://github.com/geopandas/geopandas.git\n",
    "# !pip install geopandas"
   ]
  },
  {
   "cell_type": "code",
   "execution_count": null,
   "id": "dc4e8c43",
   "metadata": {},
   "outputs": [],
   "source": [
    "import pandas as pd\n",
    "import geopandas as gpd\n",
    "import matplotlib.pyplot as plt"
   ]
  },
  {
   "cell_type": "markdown",
   "id": "bc244c92",
   "metadata": {},
   "source": [
    "Vamos a trabajar con varios dataframe espaciales (GDF). Son dataframes que contienen información espacial, ya sea de un punto, una línea o un polígono. Esta información está contenida en la columna `geometry` de los GDF.\n",
    "\n",
    "La carga es similar a un dataframe, con el comando `.read_file`."
   ]
  },
  {
   "cell_type": "code",
   "execution_count": null,
   "id": "c9eaa18a",
   "metadata": {},
   "outputs": [],
   "source": [
    "# Departamentos de Argentina\n",
    "gdf_depart = gpd.read_file('https://github.com/matog/Flacso_ciencia_de_datos_python_2022/blob/main/Clase4/data/departamento.zip?raw=true')\n",
    "# Limites provinciales\n",
    "gdf_prov = gpd.read_file('https://github.com/matog/Flacso_ciencia_de_datos_python_2022/blob/main/Clase4/data/provincia.zip?raw=true')"
   ]
  },
  {
   "cell_type": "markdown",
   "id": "20639347",
   "metadata": {},
   "source": [
    "### Geopandas Atributos "
   ]
  },
  {
   "cell_type": "markdown",
   "id": "6829a1bc",
   "metadata": {},
   "source": [
    "    - area: superficie (en unidades de la proyección, ver https://geopandas.org/en/stable/docs/user_guide/projections.html)\n",
    "    - bounds: tupla de las coordinadas max y min de cada eje\n",
    "    - total_bounds: tupla de coordinadas max y min en cada eje, para el total de la geoserie\n",
    "    - geom_type: tipo de geometría.\n",
    "    - is_valid: testea si las coordinadsa forman una figura qeu es una figura geométrica razonable (de acuerdo a https://www.ogc.org/standards/sfa)"
   ]
  },
  {
   "cell_type": "code",
   "execution_count": null,
   "id": "5ebf5167",
   "metadata": {},
   "outputs": [],
   "source": [
    "gdf_prov.loc[gdf_prov['nam'] == 'Catamarca'].is_valid"
   ]
  },
  {
   "cell_type": "markdown",
   "id": "b7d04941",
   "metadata": {},
   "source": [
    "### Geopandas Métodos:"
   ]
  },
  {
   "cell_type": "markdown",
   "id": "99b8e5f1",
   "metadata": {},
   "source": [
    "    - distance(): Devuelve una serie con la distancia mínima entre cada registro\n",
    "    - centroid: devuelve una GeoSeries de centroides\n",
    "    - representative_point(): devuelve una GeoSeries con puntos que se encuentran dentro de cada geometria. No devuelve centroides.\n",
    "    - to_crs(): cambia el sistema de coordenadsa\n",
    "    - plot(): Grafica la geoserie."
   ]
  },
  {
   "cell_type": "code",
   "execution_count": null,
   "id": "1bb65803",
   "metadata": {},
   "outputs": [],
   "source": [
    "# uni['distancia del anterio'] = uni.distance(uni.shift(1))"
   ]
  },
  {
   "cell_type": "code",
   "execution_count": null,
   "id": "5c4f20ad",
   "metadata": {
    "scrolled": true
   },
   "outputs": [],
   "source": [
    "gdf_prov.centroid"
   ]
  },
  {
   "cell_type": "markdown",
   "id": "a52047f4",
   "metadata": {},
   "source": [
    "Vamos a intentar graficar un mapa [coropletico](https://es.wikipedia.org/wiki/Mapa_coropl%C3%A9tico), con la población 2010 de los departamentos de la provincia de Mendoza.\n",
    "\n",
    "Mas arriba en este notebook cargamos los departamentos de toda la Argentina. Vamos a quedarnos solo con los de Mendoza"
   ]
  },
  {
   "cell_type": "code",
   "execution_count": null,
   "id": "3e310936",
   "metadata": {},
   "outputs": [],
   "source": [
    "gdf_mendoza = gdf_depart.loc[gdf_depart['fdc'] == 'IDE Mendoza']"
   ]
  },
  {
   "cell_type": "code",
   "execution_count": null,
   "id": "ebb0c825",
   "metadata": {},
   "outputs": [],
   "source": [
    "plt.figure(figsize=(20,12))\n",
    "gdf_mendoza.plot();"
   ]
  },
  {
   "cell_type": "code",
   "execution_count": null,
   "id": "cd9b35d6",
   "metadata": {},
   "outputs": [],
   "source": [
    "tables=pd.read_html('https://es.wikipedia.org/wiki/Anexo:Municipios_de_la_provincia_de_Mendoza')"
   ]
  },
  {
   "cell_type": "code",
   "execution_count": null,
   "id": "87ae2dec",
   "metadata": {},
   "outputs": [],
   "source": [
    "type(tables)"
   ]
  },
  {
   "cell_type": "code",
   "execution_count": null,
   "id": "1235b397",
   "metadata": {},
   "outputs": [],
   "source": [
    "tables[0]"
   ]
  },
  {
   "cell_type": "code",
   "execution_count": null,
   "id": "494a2b8f",
   "metadata": {},
   "outputs": [],
   "source": [
    "table = tables[0]"
   ]
  },
  {
   "cell_type": "code",
   "execution_count": null,
   "id": "4a266100",
   "metadata": {},
   "outputs": [],
   "source": [
    "table.rename(columns = {\n",
    "                      'Municipio (departamento)': 'departamento',\n",
    "                      'Población (2010)[4]​': 'poblacion_2010',\n",
    "                      'Superficie (km²)': 'Superficie_km2', \n",
    "                      'Densidad (hab./km²)':'densidad',\n",
    "                      'Distritos':'distritos',\n",
    "                      'Número de concejales':'concejales'}, \n",
    "                inplace = True)\n"
   ]
  },
  {
   "cell_type": "code",
   "execution_count": null,
   "id": "e28228dc",
   "metadata": {},
   "outputs": [],
   "source": [
    "table.columns"
   ]
  },
  {
   "cell_type": "code",
   "execution_count": null,
   "id": "17c3707b",
   "metadata": {},
   "outputs": [],
   "source": [
    "table = table[['departamento', 'poblacion_2010', 'Superficie_km2', 'densidad', 'distritos', 'concejales']]"
   ]
  },
  {
   "cell_type": "code",
   "execution_count": null,
   "id": "9b7bd855",
   "metadata": {},
   "outputs": [],
   "source": [
    "gdf_mendoza = pd.merge(gdf_mendoza, \n",
    "               table,\n",
    "               left_on = 'nam',\n",
    "               right_on = 'departamento',\n",
    "               how= 'left')"
   ]
  },
  {
   "cell_type": "code",
   "execution_count": null,
   "id": "f79ddcfa",
   "metadata": {},
   "outputs": [],
   "source": [
    "gdf_mendoza.loc[gdf_mendoza['departamento'].isna()]"
   ]
  },
  {
   "cell_type": "code",
   "execution_count": null,
   "id": "8e749d0a",
   "metadata": {},
   "outputs": [],
   "source": [
    "table.loc[table['departamento'] == 'Mendoza (municipio)/ Capital (departamento)' , 'departamento'] = 'Capital'"
   ]
  },
  {
   "cell_type": "code",
   "execution_count": null,
   "id": "660bdcf5",
   "metadata": {},
   "outputs": [],
   "source": [
    "gdf_mendoza.columns"
   ]
  },
  {
   "cell_type": "code",
   "execution_count": null,
   "id": "55a1d998",
   "metadata": {},
   "outputs": [],
   "source": [
    "gdf_mendoza = gdf_mendoza[['gid', 'nam', 'geometry','poblacion_2010', 'Superficie_km2', 'densidad',\n",
    "       'distritos', 'concejales']]"
   ]
  },
  {
   "cell_type": "code",
   "execution_count": null,
   "id": "d9ede0b2",
   "metadata": {},
   "outputs": [],
   "source": [
    "gdf_mendoza.plot(column = 'poblacion_2010',\n",
    "         legend = True,\n",
    "         figsize=(10, 10),\n",
    "         cmap='YlGnBu',\n",
    "        );"
   ]
  },
  {
   "cell_type": "code",
   "execution_count": null,
   "id": "76d9fe66",
   "metadata": {},
   "outputs": [],
   "source": [
    "# Colormaps = https://matplotlib.org/stable/tutorials/colors/colormaps.html# plt.set_cmap('jet')\n",
    "fig, ax = plt.subplots(figsize=(10, 10))\n",
    "\n",
    "gdf_mendoza.plot(column = 'poblacion_2010',\n",
    "             legend = True,\n",
    "             cmap='YlGnBu',\n",
    "             ax = ax\n",
    "            );\n",
    "ax.set(title='Mapa coroplético de la  población por departamento - Mendoza (2010)')\n",
    "\n",
    "ax.set_axis_off()\n",
    "plt.show()"
   ]
  },
  {
   "cell_type": "markdown",
   "id": "fde72481",
   "metadata": {},
   "source": [
    "#### Localidades censales "
   ]
  },
  {
   "cell_type": "markdown",
   "id": "d2aa2299",
   "metadata": {},
   "source": [
    "https://datos.gob.ar/ar/dataset/jgm-servicio-normalizacion-datos-geograficos/archivo/jgm_8.9"
   ]
  },
  {
   "cell_type": "markdown",
   "id": "a938b3b6",
   "metadata": {},
   "source": [
    "Cargamos un csv con localidades censales. No es GDF, a pesar que contiene columnas con latitud y longitud, son columnas de un dataframe estandar."
   ]
  },
  {
   "cell_type": "code",
   "execution_count": null,
   "id": "d2f73c6d",
   "metadata": {},
   "outputs": [],
   "source": [
    "localidades = pd.read_csv('https://infra.datos.gob.ar/catalog/modernizacion/dataset/7/distribution/7.29/download/localidades-censales.csv')"
   ]
  },
  {
   "cell_type": "code",
   "execution_count": null,
   "id": "bcdaad06",
   "metadata": {},
   "outputs": [],
   "source": [
    "localidades.head(3)"
   ]
  },
  {
   "cell_type": "markdown",
   "id": "14adef27",
   "metadata": {},
   "source": [
    "Nos quedamos sólo con los registros de Mendoza"
   ]
  },
  {
   "cell_type": "code",
   "execution_count": null,
   "id": "fae801d4",
   "metadata": {},
   "outputs": [],
   "source": [
    "localidades = localidades.loc[localidades['provincia_nombre']=='Mendoza']"
   ]
  },
  {
   "cell_type": "markdown",
   "id": "91c4421f",
   "metadata": {},
   "source": [
    "Y con tres columnas. La latitud y longitud del centroide de la localidad, y su nombre."
   ]
  },
  {
   "cell_type": "code",
   "execution_count": null,
   "id": "666d927a",
   "metadata": {},
   "outputs": [],
   "source": [
    "localidades = localidades[['centroide_lat','centroide_lon', 'nombre']]"
   ]
  },
  {
   "cell_type": "code",
   "execution_count": null,
   "id": "be7d02f5",
   "metadata": {},
   "outputs": [],
   "source": [
    "localidades.head(3)"
   ]
  },
  {
   "cell_type": "markdown",
   "id": "f5fb5515",
   "metadata": {},
   "source": [
    "Ahora convertimos el dataframe tradicional en un GDF, indicandole que columna indica la latitud, y cual la longitud."
   ]
  },
  {
   "cell_type": "code",
   "execution_count": null,
   "id": "8aafc34d",
   "metadata": {},
   "outputs": [],
   "source": [
    "gdf_localidades = gpd.GeoDataFrame(localidades, \n",
    "                                   geometry=gpd.points_from_xy(localidades['centroide_lon'], \n",
    "                                                               localidades['centroide_lat']),\n",
    "                                   crs='EPSG:4326')"
   ]
  },
  {
   "cell_type": "code",
   "execution_count": null,
   "id": "af5fdf14",
   "metadata": {},
   "outputs": [],
   "source": [
    "gdf_localidades.head(3)"
   ]
  },
  {
   "cell_type": "code",
   "execution_count": null,
   "id": "1e3a6312",
   "metadata": {},
   "outputs": [],
   "source": [
    "gdf_localidades.plot()"
   ]
  },
  {
   "cell_type": "code",
   "execution_count": null,
   "id": "72a119af",
   "metadata": {},
   "outputs": [],
   "source": [
    "fig, ax = plt.subplots(figsize=(10, 10))\n",
    "\n",
    "gdf_mendoza.plot(ax = ax);\n",
    "\n",
    "gdf_localidades.plot(marker='o', color='red', markersize=15, ax = ax);\n",
    "\n",
    "ax.set(title='Localidades Censales - Mendoza (2010)')\n",
    "\n",
    "# Eliminamos los ejes\n",
    "ax.set_axis_off()\n",
    "plt.show()"
   ]
  },
  {
   "cell_type": "markdown",
   "id": "400ad4f5",
   "metadata": {},
   "source": [
    "### Contextily"
   ]
  },
  {
   "cell_type": "markdown",
   "id": "1f8a8165",
   "metadata": {},
   "source": [
    "http://darribas.org/gds19/content/labs/lab_03.html"
   ]
  },
  {
   "cell_type": "code",
   "execution_count": null,
   "id": "d16f3299",
   "metadata": {},
   "outputs": [],
   "source": [
    "!pip install contextily"
   ]
  },
  {
   "cell_type": "code",
   "execution_count": null,
   "id": "febd85a3",
   "metadata": {},
   "outputs": [],
   "source": [
    "import contextily as cx"
   ]
  },
  {
   "cell_type": "code",
   "execution_count": null,
   "id": "f07dd36f",
   "metadata": {},
   "outputs": [],
   "source": [
    "gdf_mendoza_crs = gdf_mendoza.to_crs(epsg=3857)\n",
    "gdf_loc = gdf_localidades.to_crs(epsg=3857)"
   ]
  },
  {
   "cell_type": "code",
   "execution_count": null,
   "id": "9cf97617",
   "metadata": {},
   "outputs": [],
   "source": [
    "gdf_mendoza"
   ]
  },
  {
   "cell_type": "code",
   "execution_count": null,
   "id": "b119134c",
   "metadata": {},
   "outputs": [],
   "source": [
    "# Filtramos departamentos del Gran Mendoza: Capital, Godoy Cruz, Guaymallén , Las Heras, Lavalle, Luján y Maipú\n",
    "gdf_dep_gm = gdf_mendoza.loc[(gdf_mendoza['nam']=='Las Heras') | \n",
    "                             (gdf_mendoza['nam']=='Capital') | \n",
    "                             (gdf_mendoza['nam']=='Godoy Cruz') |\n",
    "                             (gdf_mendoza['nam']=='Guaymallén') |\n",
    "                             (gdf_mendoza['nam']=='Lavalle') |\n",
    "                             (gdf_mendoza['nam']=='Luján de Cuyo') |\n",
    "                             (gdf_mendoza['nam']=='Maipú')]\n",
    "\n",
    "\n"
   ]
  },
  {
   "cell_type": "code",
   "execution_count": null,
   "id": "a4a7ed71",
   "metadata": {},
   "outputs": [],
   "source": [
    "f, ax = plt.subplots(1, figsize=(9, 9))\n",
    "gdf_mendoza.plot(ax = ax, alpha=0.5)\n",
    "gdf_dep_gm.plot(ax=ax, facecolor = 'green', alpha = 0.5)\n",
    "gdf_localidades.plot(alpha=0.3, marker='o', color='red', markersize=15, ax=ax)\n",
    "cx.add_basemap(ax, crs=gdf_localidades.crs)\n",
    "ax.set(title='Localidades Censales - Mendoza (2010) - Resaltado: Gran Mendoza');\n",
    "ax.set_axis_off()\n"
   ]
  },
  {
   "cell_type": "markdown",
   "id": "5e479984",
   "metadata": {},
   "source": [
    "### Geocoding"
   ]
  },
  {
   "cell_type": "markdown",
   "id": "e96dc0e9",
   "metadata": {},
   "source": [
    "[Documentacion](https://automating-gis-processes.github.io/site/notebooks/L3/geocoding_in_geopandas.html)\n",
    "\n",
    "Que ocurre si no tenés la latitud y la longitud de los puntos que queremos marcar, pero si su dirección postal?\n",
    "\n",
    "Podemos utilizar algún servicio de _geocodificación_, al cual le pasamos las direcciones lo mas completas posibles, y nos devuelve la latitud y la longitud del punto.\n",
    "\n",
    "Geopandas tiene una herramienta para eso, que permite utilizar varios servicios como nominatim, google, bing, yahoo, y openmapquest.\n",
    "\n",
    "Nosotrs vamos a utilizar el servicio de `nominatim` ([link](https://nominatim.org)), que se basa en [OpenStreetMap](https://www.openstreetmap.org) para geocodificar.\n",
    "\n",
    "Existen otros paquete que prestan servicios similares, con una mayor cantidad de proveedores gratuitos o pagos, como [geocoder](https://geocoder.readthedocs.io/)"
   ]
  },
  {
   "cell_type": "code",
   "execution_count": null,
   "id": "eb62dd76",
   "metadata": {},
   "outputs": [],
   "source": [
    "from geopandas.tools import geocode"
   ]
  },
  {
   "cell_type": "code",
   "execution_count": null,
   "id": "78aad22d",
   "metadata": {},
   "outputs": [],
   "source": [
    "tabla = pd.read_html('https://es.wikipedia.org/wiki/Anexo:Universidades_nacionales_de_Argentina', header =1)"
   ]
  },
  {
   "cell_type": "code",
   "execution_count": null,
   "id": "be4f7272",
   "metadata": {},
   "outputs": [],
   "source": [
    "universidades  = tabla[0]"
   ]
  },
  {
   "cell_type": "code",
   "execution_count": null,
   "id": "39f8278a",
   "metadata": {},
   "outputs": [],
   "source": [
    "universidades"
   ]
  },
  {
   "cell_type": "code",
   "execution_count": null,
   "id": "2bd19feb",
   "metadata": {},
   "outputs": [],
   "source": [
    "universidades['addr'] = universidades['Dirección'] + ', ' + universidades['Ciudad'] + ', ' + universidades['Provincia'] + ', Argentina'"
   ]
  },
  {
   "cell_type": "code",
   "execution_count": null,
   "id": "76b4e0b4",
   "metadata": {},
   "outputs": [],
   "source": [
    "universidades.columns"
   ]
  },
  {
   "cell_type": "code",
   "execution_count": null,
   "id": "7904f1f1",
   "metadata": {},
   "outputs": [],
   "source": [
    "universidades = universidades[['Nombre', 'Acrónimo', 'addr']]"
   ]
  },
  {
   "cell_type": "code",
   "execution_count": null,
   "id": "7691c29f",
   "metadata": {},
   "outputs": [],
   "source": [
    "universidades.head(3)"
   ]
  },
  {
   "cell_type": "markdown",
   "id": "aa4f4d14",
   "metadata": {},
   "source": [
    "Geocodificamos las direcciones con Nominatim. En el parámetro `user_agent` se debería poner el nombre de la app a modo de descripción."
   ]
  },
  {
   "cell_type": "code",
   "execution_count": null,
   "id": "74b3ef0a",
   "metadata": {},
   "outputs": [],
   "source": [
    "geo = geocode(universidades['addr'], provider='nominatim', user_agent='test_flacso', timeout=4)"
   ]
  },
  {
   "cell_type": "code",
   "execution_count": null,
   "id": "259398ae",
   "metadata": {},
   "outputs": [],
   "source": [
    "geo.head(3)"
   ]
  },
  {
   "cell_type": "markdown",
   "id": "e597fb90",
   "metadata": {},
   "source": [
    "\"al costado\" de la base de universidades, le pegamos los parametros geolocalizados mediante un `join`"
   ]
  },
  {
   "cell_type": "code",
   "execution_count": null,
   "id": "ec6034ce",
   "metadata": {},
   "outputs": [],
   "source": [
    "gdf_uni = geo.join(universidades)"
   ]
  },
  {
   "cell_type": "code",
   "execution_count": null,
   "id": "e31fc910",
   "metadata": {},
   "outputs": [],
   "source": [
    "type(gdf_uni)"
   ]
  },
  {
   "cell_type": "markdown",
   "id": "8152d67b",
   "metadata": {},
   "source": [
    "Graficamos las universidades:"
   ]
  },
  {
   "cell_type": "code",
   "execution_count": null,
   "id": "07d1cfd7",
   "metadata": {},
   "outputs": [],
   "source": [
    "gdf_uni.plot();"
   ]
  },
  {
   "cell_type": "markdown",
   "id": "0928e98e",
   "metadata": {},
   "source": [
    "Vamos a graficar la capa universidades arriba de la capa de límites provinciales."
   ]
  },
  {
   "cell_type": "code",
   "execution_count": null,
   "id": "966548f6",
   "metadata": {},
   "outputs": [],
   "source": [
    "f, ax = plt.subplots(1, figsize=(9, 9))\n",
    "gdf_prov.plot(ax = ax, alpha=0.5)\n",
    "# dep.plot(ax=ax, facecolor = 'green', alpha = 0.5)\n",
    "gdf_uni.plot(alpha=0.3, marker='o', color='red', markersize=15, ax=ax)\n",
    "\n",
    "ax.set_axis_off();"
   ]
  },
  {
   "cell_type": "markdown",
   "id": "596a5e3c",
   "metadata": {},
   "source": [
    "Claramente un punto no se logró geocodificar correctamente, devolviendo valores erroneos de lat y lon para la dirección registrada. Existe algunas formas de lidiar con esto:"
   ]
  },
  {
   "cell_type": "markdown",
   "id": "1ca91e3b",
   "metadata": {},
   "source": [
    "#### **Acotando el mapa a la superficie del mapa de Argentina (es todo el cuadro, no sólo el territorio):**"
   ]
  },
  {
   "cell_type": "code",
   "execution_count": null,
   "id": "d6e68c14",
   "metadata": {},
   "outputs": [],
   "source": [
    "f, ax = plt.subplots(1, figsize=(9, 9))\n",
    "\n",
    "# Graficamos las provincias\n",
    "gdf_prov.plot(ax = ax, alpha=0.5)\n",
    "\n",
    "# Graficamos las universidades\n",
    "gdf_uni.plot(alpha=0.3, marker='o', color='red', markersize=15, ax=ax)\n",
    "\n",
    "# Titulo\n",
    "ax.set(title='Localidades Censales - Mendoza (2010)')\n",
    "\n",
    "# Limites del mapa de provincias\n",
    "ax.set_ylim(gdf_prov.bounds.miny.min(), gdf_prov.bounds.maxy.max())\n",
    "ax.set_xlim(gdf_prov.bounds.minx.min(), gdf_prov.bounds.maxx.max())\n",
    "\n",
    "# Borramos los ejes\n",
    "ax.set_axis_off();"
   ]
  },
  {
   "cell_type": "markdown",
   "id": "2ff27e4b",
   "metadata": {},
   "source": [
    "El punto que estaba fuera de Argentina sigue estando en el geodataframe de las universidades, pero no lo mostramos porque está fuera de los límites del mapa de provincias. Para tener una solución definitiva deberíamos eliminarlo del GDF. \n",
    "Podemos hacerlo teniendo en cuenta que su latitud y su longitud están por afuera de los límites del mapa de Argentina"
   ]
  },
  {
   "cell_type": "code",
   "execution_count": null,
   "id": "05fe57b4",
   "metadata": {},
   "outputs": [],
   "source": [
    "# Limites del mapa de Argentina\n",
    "prov_miny = gdf_prov.bounds.miny.min()\n",
    "prov_maxy = gdf_prov.bounds.maxy.max()\n",
    "prov_minx = gdf_prov.bounds.minx.min()\n",
    "prov_maxx = gdf_prov.bounds.maxx.max()"
   ]
  },
  {
   "cell_type": "code",
   "execution_count": null,
   "id": "eca09569",
   "metadata": {},
   "outputs": [],
   "source": [
    "# Nos quedamos con las universidades geocodificadas, incluso con las que están fuera de los límites. \n",
    "# Pero eliminamos las que devolvieron Nan\n",
    "gdf_uni = gdf_uni.loc[gdf_uni['address'].notna()]"
   ]
  },
  {
   "cell_type": "code",
   "execution_count": null,
   "id": "f3c8c6f5",
   "metadata": {},
   "outputs": [],
   "source": [
    "# Creamos un campo lon y lat para cada universidad, para comparar con los limites del mapa.\n",
    "# Simplemente tomamos el valor x e y de la columna geometry (esto es posible porque es un geodataframe)\n",
    "gdf_uni['lon'] = gdf_uni['geometry'].x\n",
    "gdf_uni['lat'] = gdf_uni['geometry'].y"
   ]
  },
  {
   "cell_type": "code",
   "execution_count": null,
   "id": "8405dfcd",
   "metadata": {},
   "outputs": [],
   "source": [
    "# Filtramos los que tienen una longitud mayor al límite\n",
    "gdf_uni.loc[gdf_uni['lon']>prov_maxx]"
   ]
  },
  {
   "cell_type": "code",
   "execution_count": null,
   "id": "f4371b92",
   "metadata": {},
   "outputs": [],
   "source": [
    "# Nos quedamos con el resto de los puntos, salvo los dos que están fuera del límite..\n",
    "gdf_uni = gdf_uni.loc[gdf_uni['lon']<prov_maxx]"
   ]
  },
  {
   "cell_type": "code",
   "execution_count": null,
   "id": "5cadb067",
   "metadata": {},
   "outputs": [],
   "source": [
    "# Guardamos el GDF de las universidades como GDF (no como DF)\n",
    "gdf_uni.to_file('data/uni.geojson', driver='GeoJSON')  "
   ]
  },
  {
   "cell_type": "code",
   "execution_count": null,
   "id": "7f47a7e5",
   "metadata": {},
   "outputs": [],
   "source": [
    "f, ax = plt.subplots(1, figsize=(30, 20))\n",
    "\n",
    "# Graficamos las provincias\n",
    "gdf_prov.plot(ax = ax, alpha=0.5)\n",
    "\n",
    "# Graficamos las universidades\n",
    "gdf_uni.plot(alpha=0.3, marker='o', color='red', markersize=15, ax=ax)\n",
    "\n",
    "# Titulo\n",
    "ax.set(title='Universidades Nacionales')\n",
    "\n",
    "# Marcamos cada punto con su acrónimo\n",
    "for x, y, label in zip(gdf_uni['geometry'].x, gdf_uni['geometry'].y, gdf_uni['Acrónimo']):\n",
    "    ax.annotate(label, xy=(x, y), xytext=(3, 3), textcoords=\"offset points\")\n",
    "\n",
    "\n",
    "# Borramos los ejes\n",
    "ax.set_axis_off();"
   ]
  },
  {
   "cell_type": "markdown",
   "id": "f891e52a",
   "metadata": {},
   "source": [
    "### Buffers"
   ]
  },
  {
   "cell_type": "markdown",
   "id": "864b63b9",
   "metadata": {},
   "source": [
    "El análisis de buffers es una importante tarea en el geoprocesamiento. Se utiliza para obtener una distancia alrededor de un punto. \n",
    "\n",
    "En este ejemplo, crearemos un buffer alrededor de cada universidad, como proxy de la zona de influencia.\n",
    "\n",
    "Es necesario saber qué CRS/proyección se está utilizando para obtener el resultado correcto. Necesitamos usar una proyección que mida en metros, no en grados ni en ninguna otra alternativa. Este es un error clásico en el mundo de Geodata.\n",
    "\n",
    "En una primera aproximación, vamos a seguir trabajando con los puntos localizados en Mendoza Capital."
   ]
  },
  {
   "cell_type": "code",
   "execution_count": null,
   "id": "c587fdf0",
   "metadata": {},
   "outputs": [],
   "source": [
    "gdf_uni = gpd.read_file('https://raw.githubusercontent.com/matog/Flacso_ciencia_de_datos_python_2022/main/Clase4/data/uni.geojson')"
   ]
  },
  {
   "cell_type": "code",
   "execution_count": null,
   "id": "40118cd9",
   "metadata": {},
   "outputs": [],
   "source": [
    "gdf_caba = gpd.read_file('https://raw.githubusercontent.com/mgaitan/departamentos_argentina/master/departamentos-ciudad_autonoma_de_buenos_aires.json')"
   ]
  },
  {
   "cell_type": "code",
   "execution_count": null,
   "id": "89e552da",
   "metadata": {},
   "outputs": [],
   "source": [
    "gdf_caba.plot()"
   ]
  },
  {
   "cell_type": "code",
   "execution_count": null,
   "id": "ca5f414e",
   "metadata": {},
   "outputs": [],
   "source": [
    "gdf_uba = gdf_uni.loc[gdf_uni['Acrónimo']=='UBA']"
   ]
  },
  {
   "cell_type": "code",
   "execution_count": null,
   "id": "e3a8c280",
   "metadata": {},
   "outputs": [],
   "source": [
    "gdf_uba.crs = {\"init\": \"EPSG:4326\"}\n",
    "gdf_caba.crs = {\"init\": \"EPSG:4326\"}\n",
    "gdf_uba = gdf_uba.to_crs(epsg = 5343)\n",
    "gdf_caba = gdf_caba.to_crs(epsg = 5343)"
   ]
  },
  {
   "cell_type": "markdown",
   "id": "7d5c89c0",
   "metadata": {},
   "source": [
    "Podemos crear un buffer para todos los registros del GDF (aunque en este caso tenemos solo la UBA), creando una columna para ese fin. El buffer se mide en unidades de medida de del sistema de coordenadas que estemos utilizando en la capa:"
   ]
  },
  {
   "cell_type": "code",
   "execution_count": null,
   "id": "f09a8707",
   "metadata": {},
   "outputs": [],
   "source": [
    "gdf_uba['buffer'] = gdf_uba['geometry'].buffer(1500)"
   ]
  },
  {
   "cell_type": "markdown",
   "id": "877db8ff",
   "metadata": {},
   "source": [
    "O podemos crear varios buffer individuales para el mismo punto:"
   ]
  },
  {
   "cell_type": "code",
   "execution_count": null,
   "id": "ce7e1c73",
   "metadata": {},
   "outputs": [],
   "source": [
    "uba_300 = gdf_uba.buffer(300)\n",
    "uba_800 = gdf_uba.buffer(800)\n",
    "uba_1000 = gdf_uba.buffer(1000)"
   ]
  },
  {
   "cell_type": "code",
   "execution_count": null,
   "id": "855dfa43",
   "metadata": {},
   "outputs": [],
   "source": [
    "fig, ax = plt.subplots(figsize=(8,6))\n",
    "\n",
    "gdf_caba.plot(ax=ax)\n",
    "\n",
    "gdf_uba['buffer'].plot(ax=ax, color='lightblue')\n",
    "gdf_uba.plot(ax=ax, color='yellow', markersize=10); # Universidad\n",
    "\n",
    "ax.set(title='Buffer en columna')\n",
    "\n",
    "ax.set_axis_off();"
   ]
  },
  {
   "cell_type": "code",
   "execution_count": null,
   "id": "145c4bac",
   "metadata": {},
   "outputs": [],
   "source": [
    "fig, ax = plt.subplots(figsize=(8,6))\n",
    "\n",
    "gdf_caba.plot(ax=ax)\n",
    "\n",
    "# Ordenas los buffers de los mas amplios al los mas pequeños, para que los grandes no tapen a los chicos. \n",
    "# O ajustar el alpha, que genera transparencia\n",
    "uba_1000.plot(ax=ax, color='red')\n",
    "uba_800.plot(ax=ax, color='green', alpha = 0.3)\n",
    "uba_300.plot(ax=ax, color='gray', alpha = 0.3) # Este buffer es tapado por el punto amarillo de la UBA\n",
    "\n",
    "gdf_uba.plot(ax=ax, color='yellow', markersize=3); # Universidad\n",
    "ax.set(title='Buffers individuales')\n",
    "\n",
    "ax.set_axis_off();"
   ]
  },
  {
   "cell_type": "markdown",
   "id": "84861a41",
   "metadata": {},
   "source": [
    "Nos quedamos con las provincias de Mendoza, San Juan, San Luis y La Rioja, sólo a efectos prácticos y para mejorar la visualización de la información"
   ]
  },
  {
   "cell_type": "code",
   "execution_count": null,
   "id": "f49025d7",
   "metadata": {},
   "outputs": [],
   "source": [
    "gdf_prov_sel = gdf_prov.loc[(gdf_prov['nam']=='Mendoza') | \n",
    "                    (gdf_prov['nam']=='San Juan') | \n",
    "                    (gdf_prov['nam']=='San Luis') | \n",
    "                    (gdf_prov['nam']=='La Rioja')]"
   ]
  },
  {
   "cell_type": "markdown",
   "id": "0cf78655",
   "metadata": {},
   "source": [
    "Acá viene un paso clave. Tenemos que convertir los sistemas de coordenadas de referencias a uno que mida distancias en metros (no en grados, ni ninguna otra medida), para poder definir el buffer en metros. Para eso, primero con `init` definimos un sistema de inicio, y con `to_crs`  lo convertimos al epsg 5343, que mide distancias en metros.\n",
    "Esto debemos correrlos una sola vez, porque si lo corremos dos veces, borramos la información de `geometry`. Si asi ocurriese, volvemos a cargar el GDF."
   ]
  },
  {
   "cell_type": "code",
   "execution_count": null,
   "id": "b7d6db79",
   "metadata": {},
   "outputs": [],
   "source": [
    "gdf_uni.crs = {\"init\": \"EPSG:4326\"}\n",
    "gdf_prov_sel.crs = {\"init\": \"EPSG:4326\"}\n",
    "gdf_uni = gdf_uni.to_crs(epsg = 5343)\n",
    "gdf_prov_sel = gdf_prov_sel.to_crs(epsg = 5343)"
   ]
  },
  {
   "cell_type": "code",
   "execution_count": null,
   "id": "5f06e39a",
   "metadata": {},
   "outputs": [],
   "source": [
    "# Chequeamos que la información de geometry esté ok\n",
    "gdf_uni.head(3)"
   ]
  },
  {
   "cell_type": "markdown",
   "id": "50d7a660",
   "metadata": {},
   "source": [
    "Como queremos generar un buffer para cada universidad, generemos una columna."
   ]
  },
  {
   "cell_type": "code",
   "execution_count": null,
   "id": "d0330688",
   "metadata": {},
   "outputs": [],
   "source": [
    "gdf_uni['buffer'] = gdf_uni['geometry'].buffer(30000)"
   ]
  },
  {
   "cell_type": "code",
   "execution_count": null,
   "id": "b7e8b3a7",
   "metadata": {},
   "outputs": [],
   "source": [
    "gdf_prov_sel"
   ]
  },
  {
   "cell_type": "code",
   "execution_count": null,
   "id": "64efd000",
   "metadata": {},
   "outputs": [],
   "source": [
    "fig, ax = plt.subplots(figsize=(20,12))\n",
    "# cx.add_basemap(ax, crs='epsg:5343')\n",
    "\n",
    "# prov.plot(ax=ax, color = 'gray')\n",
    "gdf_prov_sel.plot(ax=ax, color = 'gray')\n",
    "\n",
    "gdf_uni['buffer'].plot(ax=ax, color='red', cmap='winter')\n",
    "\n",
    "# Limites del mapa de provincias\n",
    "ax.set_ylim(gdf_prov_sel.bounds.miny.min(), gdf_prov_sel.bounds.maxy.max())\n",
    "ax.set_xlim(gdf_prov_sel.bounds.minx.min(), gdf_prov_sel.bounds.maxx.max())\n",
    "\n",
    "ax.set(title='Buffers para cada universidad en expresado en metros')\n",
    "\n",
    "\n",
    "# Borramos los ejes\n",
    "ax.set_axis_off();"
   ]
  },
  {
   "cell_type": "markdown",
   "id": "d2ae6612",
   "metadata": {},
   "source": [
    "Link a documentación de cmpa: https://geopandas.org/en/stable/docs/user_guide/mapping.html"
   ]
  },
  {
   "cell_type": "markdown",
   "id": "2b4e0154",
   "metadata": {},
   "source": [
    "Por mas que hayamos cortado el gráfico según los límites de la capa provincia, quedan algunos puntos que deberíamos borrarlos. Ahora exploraremos operaciones para hacerlo"
   ]
  },
  {
   "cell_type": "markdown",
   "id": "5148f798",
   "metadata": {},
   "source": [
    "### Overlays y Spatial Joins "
   ]
  },
  {
   "cell_type": "markdown",
   "id": "13c1cebf",
   "metadata": {},
   "source": [
    "La principal diferencia entre `spatial join` y `overlay` es que el primer mezcla (_merge_) atributos de otro `geodataframe` a la geometría existente y el segundo, crea una nueva geometría (intersercción, diferencia, etc)"
   ]
  },
  {
   "cell_type": "markdown",
   "id": "64639630",
   "metadata": {},
   "source": [
    "#### Overlays "
   ]
  },
  {
   "cell_type": "markdown",
   "id": "b8fa02f3",
   "metadata": {},
   "source": [
    "https://geopandas.org/en/stable/docs/user_guide/set_operations.html"
   ]
  },
  {
   "cell_type": "code",
   "execution_count": null,
   "id": "34f00be0",
   "metadata": {},
   "outputs": [],
   "source": [
    "gdf_uni_buffer = gpd.GeoDataFrame()\n",
    "gdf_uni_buffer['geometry'] = gdf_uni['buffer']"
   ]
  },
  {
   "cell_type": "code",
   "execution_count": null,
   "id": "64ca86a5",
   "metadata": {},
   "outputs": [],
   "source": [
    "gdf_uni_buffer.head(3)"
   ]
  },
  {
   "cell_type": "code",
   "execution_count": null,
   "id": "5755bfde",
   "metadata": {},
   "outputs": [],
   "source": [
    "overlay_prov_inter = gpd.overlay(gdf_uni_buffer, gdf_prov_sel, how='intersection')"
   ]
  },
  {
   "cell_type": "code",
   "execution_count": null,
   "id": "885e535a",
   "metadata": {},
   "outputs": [],
   "source": [
    "fig, ax = plt.subplots(figsize=(20,12))\n",
    "\n",
    "# gdf_prov_sel.plot(ax=ax, color = 'gray', edgecolor='k', cmap='tab10')\n",
    "overlay_prov_inter.plot(ax = ax, color = 'green')\n",
    "\n",
    "# Borramos los ejes\n",
    "ax.set_axis_off();\n"
   ]
  },
  {
   "cell_type": "code",
   "execution_count": null,
   "id": "7ae2bb77",
   "metadata": {},
   "outputs": [],
   "source": [
    "overlay_prov_diff = gpd.overlay(gdf_prov_sel, gdf_uni_buffer, how='difference')"
   ]
  },
  {
   "cell_type": "code",
   "execution_count": null,
   "id": "f7112ac7",
   "metadata": {},
   "outputs": [],
   "source": [
    "fig, ax = plt.subplots(figsize=(20,12))\n",
    "\n",
    "overlay_prov_diff.plot(ax = ax, color = 'red')\n",
    "\n",
    "# Borramos los ejes\n",
    "ax.set_axis_off();\n"
   ]
  },
  {
   "cell_type": "code",
   "execution_count": null,
   "id": "cf88aaf8",
   "metadata": {},
   "outputs": [],
   "source": [
    "gdf_prov_sel_disolve = gdf_prov_sel.dissolve()"
   ]
  },
  {
   "cell_type": "code",
   "execution_count": null,
   "id": "ecb67305",
   "metadata": {},
   "outputs": [],
   "source": [
    "localidades = pd.read_csv('https://infra.datos.gob.ar/catalog/modernizacion/dataset/7/distribution/7.29/download/localidades-censales.csv')"
   ]
  },
  {
   "cell_type": "code",
   "execution_count": null,
   "id": "be18c33a",
   "metadata": {},
   "outputs": [],
   "source": [
    "localidades = localidades[['centroide_lat','centroide_lon', 'nombre']]"
   ]
  },
  {
   "cell_type": "code",
   "execution_count": null,
   "id": "d0a6d148",
   "metadata": {},
   "outputs": [],
   "source": [
    "gdf_localidades = gpd.GeoDataFrame(localidades, \n",
    "                                   geometry=gpd.points_from_xy(localidades['centroide_lon'], \n",
    "                                                               localidades['centroide_lat']),\n",
    "                                   crs='EPSG:4326')"
   ]
  },
  {
   "cell_type": "code",
   "execution_count": null,
   "id": "9af0e193",
   "metadata": {},
   "outputs": [],
   "source": [
    "gdf_localidades.crs = {\"init\": \"EPSG:4326\"}\n",
    "gdf_localidades = gdf_localidades.to_crs(epsg = 5343)\n",
    "# prov_sel_disolve.crs = {\"init\": \"EPSG:4326\"}\n",
    "# prov_sel_disolve = prov_sel_disolve.to_crs(epsg = 5343)"
   ]
  },
  {
   "cell_type": "code",
   "execution_count": null,
   "id": "252d3232",
   "metadata": {},
   "outputs": [],
   "source": [
    "gdf_localidades.head(3)"
   ]
  },
  {
   "cell_type": "markdown",
   "id": "9ec29849",
   "metadata": {},
   "source": [
    "#### Spatial Joins "
   ]
  },
  {
   "cell_type": "code",
   "execution_count": null,
   "id": "1efbf220",
   "metadata": {},
   "outputs": [],
   "source": [
    "s_join = gdf_localidades.sjoin(gdf_prov_sel_disolve, how=\"inner\", predicate='intersects')"
   ]
  },
  {
   "cell_type": "code",
   "execution_count": null,
   "id": "eb2a0c8a",
   "metadata": {},
   "outputs": [],
   "source": [
    "s_join"
   ]
  },
  {
   "cell_type": "code",
   "execution_count": null,
   "id": "af09ed65",
   "metadata": {},
   "outputs": [],
   "source": [
    "fig, ax = plt.subplots(figsize=(20,12))\n",
    "\n",
    "gdf_prov_sel_disolve.plot(ax=ax, color = 'gray', alpha = 0.6)\n",
    "s_join.plot(ax=ax, color = 'red', alpha = 0.5)\n",
    "\n",
    "# Borramos los ejes\n",
    "ax.set_axis_off();"
   ]
  },
  {
   "cell_type": "markdown",
   "id": "7b1f6af8",
   "metadata": {},
   "source": [
    "Ahora vamos a pegarle a estos puntos que están en mendoza, el nombre del departamento. Ya está en el GDF esa info, por lo que la vamos a borrar, y buscar en la capa de departamentos con un `spatial_join`."
   ]
  },
  {
   "cell_type": "code",
   "execution_count": null,
   "id": "2475c578",
   "metadata": {},
   "outputs": [],
   "source": [
    "gdf_depart = gpd.read_file('https://github.com/matog/Flacso_ciencia_de_datos_python_2022/blob/main/Clase4/data/departamento.zip?raw=true')"
   ]
  },
  {
   "cell_type": "code",
   "execution_count": null,
   "id": "5feb616d",
   "metadata": {},
   "outputs": [],
   "source": [
    "gdf_depart.crs = {\"init\": \"EPSG:4326\"}\n",
    "gdf_depart = gdf_depart.to_crs(epsg = 5343)"
   ]
  },
  {
   "cell_type": "markdown",
   "id": "6d119ba2",
   "metadata": {},
   "source": [
    "Nos quedamos solo con el campo geometry, que tiene la lat y lon de cada punto. A ese campo, le vamos a pegar el resto de la info de la capa de departamentos"
   ]
  },
  {
   "cell_type": "code",
   "execution_count": null,
   "id": "cc5e83dc",
   "metadata": {},
   "outputs": [],
   "source": [
    "s_join = s_join[['geometry']]"
   ]
  },
  {
   "cell_type": "code",
   "execution_count": null,
   "id": "c52a8031",
   "metadata": {},
   "outputs": [],
   "source": [
    "# Solo quedo la columna necesaria para el spatial join\n",
    "s_join"
   ]
  },
  {
   "cell_type": "code",
   "execution_count": null,
   "id": "f8458eab",
   "metadata": {},
   "outputs": [],
   "source": [
    "gdf_depar_join = s_join.sjoin(gdf_depart, how=\"inner\", predicate='intersects')"
   ]
  },
  {
   "cell_type": "code",
   "execution_count": null,
   "id": "425e1797",
   "metadata": {},
   "outputs": [],
   "source": [
    "gdf_depar_join"
   ]
  },
  {
   "cell_type": "code",
   "execution_count": null,
   "id": "3b27ee94",
   "metadata": {},
   "outputs": [],
   "source": [
    "fig, ax = plt.subplots(figsize=(20,12))\n",
    "\n",
    "gdf_depar_join.plot(ax=ax, color = 'gray', alpha = 0.6)\n",
    "gdf_depart.plot(ax=ax, color = 'yellow', alpha = 0.5)\n",
    "\n",
    "# Borramos los ejes\n",
    "ax.set_axis_off();"
   ]
  },
  {
   "cell_type": "code",
   "execution_count": null,
   "id": "029da1d1",
   "metadata": {},
   "outputs": [],
   "source": []
  }
 ],
 "metadata": {
  "hide_input": false,
  "kernelspec": {
   "display_name": "Python 3 (ipykernel)",
   "language": "python",
   "name": "python3"
  },
  "language_info": {
   "codemirror_mode": {
    "name": "ipython",
    "version": 3
   },
   "file_extension": ".py",
   "mimetype": "text/x-python",
   "name": "python",
   "nbconvert_exporter": "python",
   "pygments_lexer": "ipython3",
   "version": "3.10.4"
  }
 },
 "nbformat": 4,
 "nbformat_minor": 5
}
