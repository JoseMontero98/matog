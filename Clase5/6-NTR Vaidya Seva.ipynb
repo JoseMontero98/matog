{
 "cells": [
  {
   "cell_type": "markdown",
   "metadata": {
    "id": "2dYqoYWbm0cN"
   },
   "source": [
    "Fuente: \n",
    "- https://www.kaggle.com/scratchpad/notebook4031fa4176/edit\n",
    "- https://www.kaggle.com/srikarkashyap/analyzing-healthcare-data-tutorial"
   ]
  },
  {
   "cell_type": "markdown",
   "metadata": {
    "_cell_guid": "b1076dfc-b9ad-4769-8c92-a6c4dae69d19",
    "_uuid": "8f2839f25d086af736a60e9eeb907d3b93b6e0e5",
    "id": "rugX7hRem0cP"
   },
   "source": [
    "# Analizando datos de programas de salud (EDA)"
   ]
  },
  {
   "cell_type": "markdown",
   "metadata": {
    "_uuid": "aea8db27e486c1c26418a782a8a081c50d7da7f3",
    "id": "kUksJlpWm0cS"
   },
   "source": [
    "## Introducción"
   ]
  },
  {
   "cell_type": "markdown",
   "metadata": {
    "_uuid": "c3634a5da5eb2b84bab4c4f2912c8d6d8a0df46a",
    "id": "HscBixpIm0cT"
   },
   "source": [
    "NTR Vaidya Seva (o Arogya Seva) es el programa de salud insignia del gobierno de Anhra Pradesh (India), con el cual las personas de bajos ingresos de ese estado pueden obtener salud pública de forma gratuita para muchas enfermedades y dolencias importantes"
   ]
  },
  {
   "cell_type": "markdown",
   "metadata": {
    "_uuid": "44db94a8c4fb80c1198142503f13be5ac8b59977",
    "id": "bF5G8gWum0cT"
   },
   "source": [
    "## A meter código!"
   ]
  },
  {
   "cell_type": "markdown",
   "metadata": {
    "_uuid": "2096876a1726710169d7532650d02ba5e6fb6a27",
    "id": "lv902rxAm0cV"
   },
   "source": [
    "Comenzamos importando las librerias necesarias:\n",
    "* *Pandas* para cargar datos y explorar los datos\n",
    "* *Matplotlib, Seaborn* para su visualización."
   ]
  },
  {
   "cell_type": "code",
   "execution_count": 1,
   "metadata": {
    "_uuid": "d9a347c9f1d9e2417f882e80145701e44499de16",
    "id": "l9f01wbbm0cW"
   },
   "outputs": [],
   "source": [
    "# Importamos las librerias \n",
    "import pandas as pd\n",
    "import matplotlib.pyplot as plt\n",
    "%matplotlib inline\n",
    "import seaborn as sns\n"
   ]
  },
  {
   "cell_type": "markdown",
   "metadata": {
    "_uuid": "c1aa9fc946bc3551c4627928f37e0a628cc0a972",
    "id": "OtJmOHPUm0cY"
   },
   "source": [
    "Vamos a leer el archivo de datos usando la función *read_csv* de Pandas. *read_csv* puede leer de manera sencilla archivos de valores separados por comas (csv).\n",
    "\n",
    "No existen restricciones para nombrar las variables. *df*, *data* son los términos genéricos más comunes. Arrancamos con *data*."
   ]
  },
  {
   "cell_type": "code",
   "execution_count": 2,
   "metadata": {
    "_uuid": "281f7407d81726f5658ce4eb26e03df2998dab26",
    "id": "9pCxfsTYm0cZ"
   },
   "outputs": [],
   "source": [
    "# Leemos el dataframe\n",
    "data = pd.read_csv('https://github.com/matog/iSalud-IntroCienciaDeDatos/raw/main/ntrarogyaseva.zip')\n",
    "# data = pd.read_csv('data/ntrarogyaseva.csv')"
   ]
  },
  {
   "cell_type": "markdown",
   "metadata": {
    "_uuid": "949c0003ecd61b2028abb2e7bc0bd8143c78e349",
    "id": "QTqlKlNqm0cZ"
   },
   "source": [
    "Explotamos los datos con la función *head()* que por defecto, muestra los primeros 5 datos."
   ]
  },
  {
   "cell_type": "code",
   "execution_count": 3,
   "metadata": {
    "id": "U83AI5cZm0cb",
    "outputId": "4058b92c-7ab5-400b-ebde-4684775d9171"
   },
   "outputs": [
    {
     "data": {
      "text/html": [
       "<div>\n",
       "<style scoped>\n",
       "    .dataframe tbody tr th:only-of-type {\n",
       "        vertical-align: middle;\n",
       "    }\n",
       "\n",
       "    .dataframe tbody tr th {\n",
       "        vertical-align: top;\n",
       "    }\n",
       "\n",
       "    .dataframe thead th {\n",
       "        text-align: right;\n",
       "    }\n",
       "</style>\n",
       "<table border=\"1\" class=\"dataframe\">\n",
       "  <thead>\n",
       "    <tr style=\"text-align: right;\">\n",
       "      <th></th>\n",
       "      <th></th>\n",
       "      <th>AGE</th>\n",
       "      <th>SEX</th>\n",
       "      <th>CASTE_NAME</th>\n",
       "      <th>CATEGORY_CODE</th>\n",
       "      <th>CATEGORY_NAME</th>\n",
       "      <th>SURGERY_CODE</th>\n",
       "      <th>SURGERY</th>\n",
       "      <th>VILLAGE</th>\n",
       "      <th>MANDAL_NAME</th>\n",
       "      <th>...</th>\n",
       "      <th>CLAIM_AMOUNT</th>\n",
       "      <th>HOSP_NAME</th>\n",
       "      <th>HOSP_TYPE</th>\n",
       "      <th>HOSP_LOCATION</th>\n",
       "      <th>HOSP_DISTRICT</th>\n",
       "      <th>SURGERY_DATE</th>\n",
       "      <th>DISCHARGE_DATE</th>\n",
       "      <th>Mortality Y / N</th>\n",
       "      <th>MORTALITY_DATE</th>\n",
       "      <th>SRC_REGISTRATION</th>\n",
       "    </tr>\n",
       "  </thead>\n",
       "  <tbody>\n",
       "    <tr>\n",
       "      <th>12820</th>\n",
       "      <td>12821</td>\n",
       "      <td>45</td>\n",
       "      <td>Female</td>\n",
       "      <td>SC</td>\n",
       "      <td>S7</td>\n",
       "      <td>CARDIAC AND CARDIOTHORACIC SURGERY</td>\n",
       "      <td>S7.1.2.1</td>\n",
       "      <td>ASD Device Closure</td>\n",
       "      <td>Konakanamitla</td>\n",
       "      <td>Konakanamitla</td>\n",
       "      <td>...</td>\n",
       "      <td>80000</td>\n",
       "      <td>Government General Hospital, Guntur</td>\n",
       "      <td>G</td>\n",
       "      <td>GUNTUR</td>\n",
       "      <td>Guntur</td>\n",
       "      <td>29/06/2016 00:00:00</td>\n",
       "      <td>01/07/2016 00:00:00</td>\n",
       "      <td>NO</td>\n",
       "      <td>NaN</td>\n",
       "      <td>CMO</td>\n",
       "    </tr>\n",
       "    <tr>\n",
       "      <th>247993</th>\n",
       "      <td>247994</td>\n",
       "      <td>56</td>\n",
       "      <td>Female</td>\n",
       "      <td>OC</td>\n",
       "      <td>S13</td>\n",
       "      <td>RADIATION ONCOLOGY</td>\n",
       "      <td>S13.3.1.1</td>\n",
       "      <td>Brachytherapy Intracavitary I. Ldr Per Applica...</td>\n",
       "      <td>Ward-44</td>\n",
       "      <td>Vijayawada</td>\n",
       "      <td>...</td>\n",
       "      <td>5850</td>\n",
       "      <td>Guntur Cancer Care Centre Limited</td>\n",
       "      <td>C</td>\n",
       "      <td>GUNTUR</td>\n",
       "      <td>Guntur</td>\n",
       "      <td>24/03/2017 00:00:00</td>\n",
       "      <td>27/03/2017 00:00:00</td>\n",
       "      <td>NO</td>\n",
       "      <td>NaN</td>\n",
       "      <td>D</td>\n",
       "    </tr>\n",
       "    <tr>\n",
       "      <th>123864</th>\n",
       "      <td>123865</td>\n",
       "      <td>39</td>\n",
       "      <td>Male</td>\n",
       "      <td>BC</td>\n",
       "      <td>S2</td>\n",
       "      <td>ENT  SURGERY</td>\n",
       "      <td>S2.3.1</td>\n",
       "      <td>Endoscopic Sinus Surgery</td>\n",
       "      <td>Ward-23</td>\n",
       "      <td>Vijayawada</td>\n",
       "      <td>...</td>\n",
       "      <td>10000</td>\n",
       "      <td>Govt. General Hospital- Vijayawada</td>\n",
       "      <td>G</td>\n",
       "      <td>VIJAYAWADA</td>\n",
       "      <td>Krishna</td>\n",
       "      <td>10/12/2016 00:00:00</td>\n",
       "      <td>19/12/2016 00:00:00</td>\n",
       "      <td>NO</td>\n",
       "      <td>NaN</td>\n",
       "      <td>D</td>\n",
       "    </tr>\n",
       "    <tr>\n",
       "      <th>431272</th>\n",
       "      <td>431273</td>\n",
       "      <td>59</td>\n",
       "      <td>Male</td>\n",
       "      <td>SC</td>\n",
       "      <td>S1</td>\n",
       "      <td>GENERAL SURGERY</td>\n",
       "      <td>S1.3.1.10</td>\n",
       "      <td>Herinoplasty with Mesh Direct Inguinal Hernia</td>\n",
       "      <td>Pernamitta</td>\n",
       "      <td>Santhanuthlapadu</td>\n",
       "      <td>...</td>\n",
       "      <td>25500</td>\n",
       "      <td>Nalluri Nursing Home</td>\n",
       "      <td>C</td>\n",
       "      <td>Ongole</td>\n",
       "      <td>Prakasam</td>\n",
       "      <td>30/08/2017 00:00:00</td>\n",
       "      <td>11/09/2017 00:00:00</td>\n",
       "      <td>NO</td>\n",
       "      <td>NaN</td>\n",
       "      <td>D</td>\n",
       "    </tr>\n",
       "    <tr>\n",
       "      <th>79051</th>\n",
       "      <td>79052</td>\n",
       "      <td>50</td>\n",
       "      <td>Female</td>\n",
       "      <td>SC</td>\n",
       "      <td>S13</td>\n",
       "      <td>RADIATION ONCOLOGY</td>\n",
       "      <td>S13.2.1</td>\n",
       "      <td>Radical Treatment With Photons External Beam R...</td>\n",
       "      <td>Anjuru</td>\n",
       "      <td>K.V.B.Puram</td>\n",
       "      <td>...</td>\n",
       "      <td>64838</td>\n",
       "      <td>Sri Venkateswara Institute Of Medical Sciences</td>\n",
       "      <td>G</td>\n",
       "      <td>TIRUPATHI</td>\n",
       "      <td>Chittoor</td>\n",
       "      <td>29/11/2016 00:00:00</td>\n",
       "      <td>29/11/2016 00:00:00</td>\n",
       "      <td>NO</td>\n",
       "      <td>NaN</td>\n",
       "      <td>D</td>\n",
       "    </tr>\n",
       "  </tbody>\n",
       "</table>\n",
       "<p>5 rows × 24 columns</p>\n",
       "</div>"
      ],
      "text/plain": [
       "                AGE     SEX CASTE_NAME CATEGORY_CODE  \\\n",
       "12820    12821   45  Female         SC            S7   \n",
       "247993  247994   56  Female         OC           S13   \n",
       "123864  123865   39    Male         BC            S2   \n",
       "431272  431273   59    Male         SC            S1   \n",
       "79051    79052   50  Female         SC           S13   \n",
       "\n",
       "                             CATEGORY_NAME SURGERY_CODE  \\\n",
       "12820   CARDIAC AND CARDIOTHORACIC SURGERY     S7.1.2.1   \n",
       "247993                  RADIATION ONCOLOGY    S13.3.1.1   \n",
       "123864                        ENT  SURGERY       S2.3.1   \n",
       "431272                     GENERAL SURGERY    S1.3.1.10   \n",
       "79051                   RADIATION ONCOLOGY      S13.2.1   \n",
       "\n",
       "                                                  SURGERY        VILLAGE  \\\n",
       "12820                                  ASD Device Closure  Konakanamitla   \n",
       "247993  Brachytherapy Intracavitary I. Ldr Per Applica...        Ward-44   \n",
       "123864                           Endoscopic Sinus Surgery        Ward-23   \n",
       "431272      Herinoplasty with Mesh Direct Inguinal Hernia     Pernamitta   \n",
       "79051   Radical Treatment With Photons External Beam R...         Anjuru   \n",
       "\n",
       "             MANDAL_NAME  ... CLAIM_AMOUNT  \\\n",
       "12820      Konakanamitla  ...        80000   \n",
       "247993        Vijayawada  ...         5850   \n",
       "123864        Vijayawada  ...        10000   \n",
       "431272  Santhanuthlapadu  ...        25500   \n",
       "79051        K.V.B.Puram  ...        64838   \n",
       "\n",
       "                                             HOSP_NAME  HOSP_TYPE  \\\n",
       "12820              Government General Hospital, Guntur          G   \n",
       "247993               Guntur Cancer Care Centre Limited          C   \n",
       "123864              Govt. General Hospital- Vijayawada          G   \n",
       "431272                            Nalluri Nursing Home          C   \n",
       "79051   Sri Venkateswara Institute Of Medical Sciences          G   \n",
       "\n",
       "       HOSP_LOCATION  HOSP_DISTRICT         SURGERY_DATE       DISCHARGE_DATE  \\\n",
       "12820         GUNTUR         Guntur  29/06/2016 00:00:00  01/07/2016 00:00:00   \n",
       "247993        GUNTUR         Guntur  24/03/2017 00:00:00  27/03/2017 00:00:00   \n",
       "123864    VIJAYAWADA        Krishna  10/12/2016 00:00:00  19/12/2016 00:00:00   \n",
       "431272        Ongole       Prakasam  30/08/2017 00:00:00  11/09/2017 00:00:00   \n",
       "79051      TIRUPATHI       Chittoor  29/11/2016 00:00:00  29/11/2016 00:00:00   \n",
       "\n",
       "       Mortality Y / N MORTALITY_DATE SRC_REGISTRATION  \n",
       "12820               NO            NaN              CMO  \n",
       "247993              NO            NaN                D  \n",
       "123864              NO            NaN                D  \n",
       "431272              NO            NaN                D  \n",
       "79051               NO            NaN                D  \n",
       "\n",
       "[5 rows x 24 columns]"
      ]
     },
     "execution_count": 3,
     "metadata": {},
     "output_type": "execute_result"
    }
   ],
   "source": [
    "data.sample(5)"
   ]
  },
  {
   "cell_type": "code",
   "execution_count": 4,
   "metadata": {},
   "outputs": [
    {
     "data": {
      "text/plain": [
       "Index(['   ', 'AGE', 'SEX', 'CASTE_NAME', 'CATEGORY_CODE', 'CATEGORY_NAME',\n",
       "       'SURGERY_CODE', 'SURGERY', 'VILLAGE', 'MANDAL_NAME', 'DISTRICT_NAME',\n",
       "       'PREAUTH_DATE', 'PREAUTH_AMT', 'CLAIM_DATE', 'CLAIM_AMOUNT',\n",
       "       'HOSP_NAME', 'HOSP_TYPE', 'HOSP_LOCATION', 'HOSP_DISTRICT',\n",
       "       'SURGERY_DATE', 'DISCHARGE_DATE', 'Mortality Y / N', 'MORTALITY_DATE',\n",
       "       'SRC_REGISTRATION'],\n",
       "      dtype='object')"
      ]
     },
     "execution_count": 4,
     "metadata": {},
     "output_type": "execute_result"
    }
   ],
   "source": [
    "data.columns"
   ]
  },
  {
   "cell_type": "markdown",
   "metadata": {
    "_uuid": "ad5cb3a33ba0a2d3e28dfbca46379fd58288c511",
    "id": "ZLVETQBsm0cc"
   },
   "source": [
    "Ahora vamos a mostrar algunas estadisticas simples de las columnas numéricas del dataset. Utilizamos la función *describe* de los datos para obtenerlas.."
   ]
  },
  {
   "cell_type": "code",
   "execution_count": 5,
   "metadata": {
    "_uuid": "7df4c2f7e8da9f29fa2ee72ccf5ff6324b264bca",
    "id": "ZVDwhriim0cc",
    "outputId": "cc2cb92d-47d6-4fec-f5f5-24656e52004b"
   },
   "outputs": [
    {
     "data": {
      "text/html": [
       "<div>\n",
       "<style scoped>\n",
       "    .dataframe tbody tr th:only-of-type {\n",
       "        vertical-align: middle;\n",
       "    }\n",
       "\n",
       "    .dataframe tbody tr th {\n",
       "        vertical-align: top;\n",
       "    }\n",
       "\n",
       "    .dataframe thead th {\n",
       "        text-align: right;\n",
       "    }\n",
       "</style>\n",
       "<table border=\"1\" class=\"dataframe\">\n",
       "  <thead>\n",
       "    <tr style=\"text-align: right;\">\n",
       "      <th></th>\n",
       "      <th></th>\n",
       "      <th>AGE</th>\n",
       "      <th>PREAUTH_AMT</th>\n",
       "      <th>CLAIM_AMOUNT</th>\n",
       "    </tr>\n",
       "  </thead>\n",
       "  <tbody>\n",
       "    <tr>\n",
       "      <th>count</th>\n",
       "      <td>479688.000000</td>\n",
       "      <td>479688.000000</td>\n",
       "      <td>479688.000000</td>\n",
       "      <td>479688.000000</td>\n",
       "    </tr>\n",
       "    <tr>\n",
       "      <th>mean</th>\n",
       "      <td>239844.500000</td>\n",
       "      <td>44.912264</td>\n",
       "      <td>30428.941698</td>\n",
       "      <td>27652.205861</td>\n",
       "    </tr>\n",
       "    <tr>\n",
       "      <th>std</th>\n",
       "      <td>138474.142301</td>\n",
       "      <td>18.961084</td>\n",
       "      <td>27441.592281</td>\n",
       "      <td>25951.706037</td>\n",
       "    </tr>\n",
       "    <tr>\n",
       "      <th>min</th>\n",
       "      <td>1.000000</td>\n",
       "      <td>0.000000</td>\n",
       "      <td>5.000000</td>\n",
       "      <td>2.000000</td>\n",
       "    </tr>\n",
       "    <tr>\n",
       "      <th>25%</th>\n",
       "      <td>119922.750000</td>\n",
       "      <td>34.000000</td>\n",
       "      <td>12500.000000</td>\n",
       "      <td>12500.000000</td>\n",
       "    </tr>\n",
       "    <tr>\n",
       "      <th>50%</th>\n",
       "      <td>239844.500000</td>\n",
       "      <td>47.000000</td>\n",
       "      <td>25000.000000</td>\n",
       "      <td>23200.000000</td>\n",
       "    </tr>\n",
       "    <tr>\n",
       "      <th>75%</th>\n",
       "      <td>359766.250000</td>\n",
       "      <td>59.000000</td>\n",
       "      <td>35000.000000</td>\n",
       "      <td>30600.000000</td>\n",
       "    </tr>\n",
       "    <tr>\n",
       "      <th>max</th>\n",
       "      <td>479688.000000</td>\n",
       "      <td>107.000000</td>\n",
       "      <td>520000.000000</td>\n",
       "      <td>520000.000000</td>\n",
       "    </tr>\n",
       "  </tbody>\n",
       "</table>\n",
       "</div>"
      ],
      "text/plain": [
       "                                AGE    PREAUTH_AMT   CLAIM_AMOUNT\n",
       "count  479688.000000  479688.000000  479688.000000  479688.000000\n",
       "mean   239844.500000      44.912264   30428.941698   27652.205861\n",
       "std    138474.142301      18.961084   27441.592281   25951.706037\n",
       "min         1.000000       0.000000       5.000000       2.000000\n",
       "25%    119922.750000      34.000000   12500.000000   12500.000000\n",
       "50%    239844.500000      47.000000   25000.000000   23200.000000\n",
       "75%    359766.250000      59.000000   35000.000000   30600.000000\n",
       "max    479688.000000     107.000000  520000.000000  520000.000000"
      ]
     },
     "execution_count": 5,
     "metadata": {},
     "output_type": "execute_result"
    }
   ],
   "source": [
    "# Estadísticas descriptivas\n",
    "# data.describe(include='all') # Incluye todas las variables\n",
    "data.describe()"
   ]
  },
  {
   "cell_type": "markdown",
   "metadata": {
    "_uuid": "f46a3e2d51b788921ff9667aeefeae4acf5b0900",
    "id": "NYgdCUp9m0cd"
   },
   "source": [
    "Ahora analizamos los nombres de las columnas"
   ]
  },
  {
   "cell_type": "code",
   "execution_count": 6,
   "metadata": {
    "colab": {
     "base_uri": "https://localhost:8080/",
     "height": 356
    },
    "id": "rxUIAW17m0ca",
    "outputId": "83ca4c27-dfb5-4c02-86cc-98c22a7e8eff"
   },
   "outputs": [
    {
     "data": {
      "image/png": "[encoded data removed]",
      "text/plain": [
       "<Figure size 432x288 with 2 Axes>"
      ]
     },
     "metadata": {
      "needs_background": "light"
     },
     "output_type": "display_data"
    }
   ],
   "source": [
    "# Matriz de correlación. Texto y grafica. Descomentar la que se quiera ejecutar, y comentar la restante.\n",
    "# data.corr()\n",
    "sns.heatmap(data.corr());"
   ]
  },
  {
   "cell_type": "code",
   "execution_count": 7,
   "metadata": {
    "_kg_hide-input": false,
    "_kg_hide-output": false,
    "_uuid": "3994dacd6627fe5fd89832fd4d355eb114fd55b8",
    "id": "8mkQnWnvm0cd",
    "outputId": "517a4428-d5d3-419c-af6a-cab83cfe93f8"
   },
   "outputs": [
    {
     "data": {
      "text/plain": [
       "Index(['   ', 'AGE', 'SEX', 'CASTE_NAME', 'CATEGORY_CODE', 'CATEGORY_NAME',\n",
       "       'SURGERY_CODE', 'SURGERY', 'VILLAGE', 'MANDAL_NAME', 'DISTRICT_NAME',\n",
       "       'PREAUTH_DATE', 'PREAUTH_AMT', 'CLAIM_DATE', 'CLAIM_AMOUNT',\n",
       "       'HOSP_NAME', 'HOSP_TYPE', 'HOSP_LOCATION', 'HOSP_DISTRICT',\n",
       "       'SURGERY_DATE', 'DISCHARGE_DATE', 'Mortality Y / N', 'MORTALITY_DATE',\n",
       "       'SRC_REGISTRATION'],\n",
       "      dtype='object')"
      ]
     },
     "execution_count": 7,
     "metadata": {},
     "output_type": "execute_result"
    }
   ],
   "source": [
    "# Muestra los nombres de las columnas en el dataset _data_\n",
    "data.columns"
   ]
  },
  {
   "cell_type": "code",
   "execution_count": 8,
   "metadata": {
    "id": "ssQT6iDdm0cf",
    "outputId": "4be354b2-cd91-4576-e46f-5a6c7037f23b"
   },
   "outputs": [
    {
     "name": "stdout",
     "output_type": "stream",
     "text": [
      "<class 'pandas.core.frame.DataFrame'>\n",
      "RangeIndex: 479688 entries, 0 to 479687\n",
      "Data columns (total 24 columns):\n",
      " #   Column            Non-Null Count   Dtype \n",
      "---  ------            --------------   ----- \n",
      " 0                     479688 non-null  int64 \n",
      " 1   AGE               479688 non-null  int64 \n",
      " 2   SEX               479688 non-null  object\n",
      " 3   CASTE_NAME        479688 non-null  object\n",
      " 4   CATEGORY_CODE     479688 non-null  object\n",
      " 5   CATEGORY_NAME     479688 non-null  object\n",
      " 6   SURGERY_CODE      479688 non-null  object\n",
      " 7   SURGERY           479688 non-null  object\n",
      " 8   VILLAGE           479688 non-null  object\n",
      " 9   MANDAL_NAME       479688 non-null  object\n",
      " 10  DISTRICT_NAME     479688 non-null  object\n",
      " 11  PREAUTH_DATE      479688 non-null  object\n",
      " 12  PREAUTH_AMT       479688 non-null  int64 \n",
      " 13  CLAIM_DATE        479688 non-null  object\n",
      " 14  CLAIM_AMOUNT      479688 non-null  int64 \n",
      " 15  HOSP_NAME         479688 non-null  object\n",
      " 16  HOSP_TYPE         479688 non-null  object\n",
      " 17  HOSP_LOCATION     479688 non-null  object\n",
      " 18  HOSP_DISTRICT     479688 non-null  object\n",
      " 19  SURGERY_DATE      479688 non-null  object\n",
      " 20  DISCHARGE_DATE    475128 non-null  object\n",
      " 21  Mortality Y / N   479688 non-null  object\n",
      " 22  MORTALITY_DATE    10122 non-null   object\n",
      " 23  SRC_REGISTRATION  479688 non-null  object\n",
      "dtypes: int64(4), object(20)\n",
      "memory usage: 87.8+ MB\n"
     ]
    }
   ],
   "source": [
    "data.info()"
   ]
  },
  {
   "cell_type": "markdown",
   "metadata": {
    "id": "wJtf1VfHm0cf"
   },
   "source": [
    "### Tamaño del dataframe"
   ]
  },
  {
   "cell_type": "code",
   "execution_count": 10,
   "metadata": {
    "id": "aNrlj1wFm0cf",
    "outputId": "a2a2ede2-7533-4065-fcab-e28e9c922b98"
   },
   "outputs": [
    {
     "data": {
      "text/plain": [
       "SURGERY                                                    \n",
       "Maintenance Hemodialysis For Crf                               65378\n",
       "Surgical Correction Of Longbone Fracture                       55752\n",
       "Coronary Balloon Angioplasty with Drug eluting stent(00.45)    17175\n",
       "Chemotherapy for Cervical Cancer with Weekly Cisplatin         17123\n",
       "ursl                                                           15499\n",
       "                                                               ...  \n",
       "Excision of Carotid Body Tumours                                   1\n",
       "Surgical management of Malrotation                                 1\n",
       "Surgical management of Empyema Thoracis                            1\n",
       "Surgical Correction of Hemifacial Atrophy                          1\n",
       "Femoro- Ileal Bypass Without Graft                                 1\n",
       "Length: 923, dtype: int64"
      ]
     },
     "execution_count": 10,
     "metadata": {},
     "output_type": "execute_result"
    }
   ],
   "source": [
    "data[['SURGERY']].value_counts()"
   ]
  },
  {
   "cell_type": "code",
   "execution_count": 11,
   "metadata": {
    "id": "tBhYBzEzm0cg",
    "outputId": "90856a5b-68d5-4f8d-9892-99db259d0690"
   },
   "outputs": [
    {
     "data": {
      "text/plain": [
       "(479688, 24)"
      ]
     },
     "execution_count": 11,
     "metadata": {},
     "output_type": "execute_result"
    }
   ],
   "source": [
    "data.shape"
   ]
  },
  {
   "cell_type": "markdown",
   "metadata": {
    "id": "ffC0_S1zm0cg"
   },
   "source": [
    "### Creación de variables\n",
    "Es muy útil trabajar con las variables existentes para generar nueva información."
   ]
  },
  {
   "cell_type": "code",
   "execution_count": 13,
   "metadata": {
    "id": "kJbZuWytm0cg",
    "outputId": "2441c55b-709c-4a14-ca3d-94e8479b245f"
   },
   "outputs": [
    {
     "data": {
      "text/html": [
       "<div>\n",
       "<style scoped>\n",
       "    .dataframe tbody tr th:only-of-type {\n",
       "        vertical-align: middle;\n",
       "    }\n",
       "\n",
       "    .dataframe tbody tr th {\n",
       "        vertical-align: top;\n",
       "    }\n",
       "\n",
       "    .dataframe thead th {\n",
       "        text-align: right;\n",
       "    }\n",
       "</style>\n",
       "<table border=\"1\" class=\"dataframe\">\n",
       "  <thead>\n",
       "    <tr style=\"text-align: right;\">\n",
       "      <th></th>\n",
       "      <th>CATEGORY_CODE</th>\n",
       "      <th>CATEGORY_NAME</th>\n",
       "      <th>CATEGORY</th>\n",
       "    </tr>\n",
       "  </thead>\n",
       "  <tbody>\n",
       "    <tr>\n",
       "      <th>278972</th>\n",
       "      <td>M5</td>\n",
       "      <td>CARDIOLOGY</td>\n",
       "      <td>M5 - CARDIOLOGY</td>\n",
       "    </tr>\n",
       "    <tr>\n",
       "      <th>252941</th>\n",
       "      <td>S7</td>\n",
       "      <td>CARDIAC AND CARDIOTHORACIC SURGERY</td>\n",
       "      <td>S7 - CARDIAC AND CARDIOTHORACIC SURGERY</td>\n",
       "    </tr>\n",
       "    <tr>\n",
       "      <th>340610</th>\n",
       "      <td>M4</td>\n",
       "      <td>PEDIATRICS</td>\n",
       "      <td>M4 - PEDIATRICS</td>\n",
       "    </tr>\n",
       "    <tr>\n",
       "      <th>337903</th>\n",
       "      <td>S11</td>\n",
       "      <td>SURGICAL ONCOLOGY</td>\n",
       "      <td>S11 - SURGICAL ONCOLOGY</td>\n",
       "    </tr>\n",
       "    <tr>\n",
       "      <th>36422</th>\n",
       "      <td>M6</td>\n",
       "      <td>NEPHROLOGY</td>\n",
       "      <td>M6 - NEPHROLOGY</td>\n",
       "    </tr>\n",
       "    <tr>\n",
       "      <th>148685</th>\n",
       "      <td>S12</td>\n",
       "      <td>MEDICAL ONCOLOGY</td>\n",
       "      <td>S12 - MEDICAL ONCOLOGY</td>\n",
       "    </tr>\n",
       "    <tr>\n",
       "      <th>294179</th>\n",
       "      <td>S15</td>\n",
       "      <td>POLY TRAUMA</td>\n",
       "      <td>S15 - POLY TRAUMA</td>\n",
       "    </tr>\n",
       "    <tr>\n",
       "      <th>165367</th>\n",
       "      <td>M6</td>\n",
       "      <td>NEPHROLOGY</td>\n",
       "      <td>M6 - NEPHROLOGY</td>\n",
       "    </tr>\n",
       "    <tr>\n",
       "      <th>171211</th>\n",
       "      <td>S15</td>\n",
       "      <td>POLY TRAUMA</td>\n",
       "      <td>S15 - POLY TRAUMA</td>\n",
       "    </tr>\n",
       "    <tr>\n",
       "      <th>139921</th>\n",
       "      <td>S9</td>\n",
       "      <td>GENITO URINARY SURGERIES</td>\n",
       "      <td>S9 - GENITO URINARY SURGERIES</td>\n",
       "    </tr>\n",
       "  </tbody>\n",
       "</table>\n",
       "</div>"
      ],
      "text/plain": [
       "       CATEGORY_CODE                       CATEGORY_NAME  \\\n",
       "278972            M5                          CARDIOLOGY   \n",
       "252941            S7  CARDIAC AND CARDIOTHORACIC SURGERY   \n",
       "340610            M4                          PEDIATRICS   \n",
       "337903           S11                   SURGICAL ONCOLOGY   \n",
       "36422             M6                          NEPHROLOGY   \n",
       "148685           S12                    MEDICAL ONCOLOGY   \n",
       "294179           S15                         POLY TRAUMA   \n",
       "165367            M6                          NEPHROLOGY   \n",
       "171211           S15                         POLY TRAUMA   \n",
       "139921            S9            GENITO URINARY SURGERIES   \n",
       "\n",
       "                                       CATEGORY  \n",
       "278972                          M5 - CARDIOLOGY  \n",
       "252941  S7 - CARDIAC AND CARDIOTHORACIC SURGERY  \n",
       "340610                          M4 - PEDIATRICS  \n",
       "337903                  S11 - SURGICAL ONCOLOGY  \n",
       "36422                           M6 - NEPHROLOGY  \n",
       "148685                   S12 - MEDICAL ONCOLOGY  \n",
       "294179                        S15 - POLY TRAUMA  \n",
       "165367                          M6 - NEPHROLOGY  \n",
       "171211                        S15 - POLY TRAUMA  \n",
       "139921            S9 - GENITO URINARY SURGERIES  "
      ]
     },
     "execution_count": 13,
     "metadata": {},
     "output_type": "execute_result"
    }
   ],
   "source": [
    "data['CATEGORY'] = data['CATEGORY_CODE'] + ' - ' + data['CATEGORY_NAME']\n",
    "data[['CATEGORY_CODE', 'CATEGORY_NAME', 'CATEGORY']].sample(10)"
   ]
  },
  {
   "cell_type": "code",
   "execution_count": 14,
   "metadata": {
    "id": "GUuF1A2Gm0ci"
   },
   "outputs": [],
   "source": [
    "data['DIFF'] = data['CLAIM_AMOUNT'] - data['PREAUTH_AMT']"
   ]
  },
  {
   "cell_type": "code",
   "execution_count": 15,
   "metadata": {
    "id": "urPnA6Unm0ci",
    "outputId": "a634e1cc-a946-4171-9ce7-9a875578fea6"
   },
   "outputs": [
    {
     "data": {
      "text/html": [
       "<div>\n",
       "<style scoped>\n",
       "    .dataframe tbody tr th:only-of-type {\n",
       "        vertical-align: middle;\n",
       "    }\n",
       "\n",
       "    .dataframe tbody tr th {\n",
       "        vertical-align: top;\n",
       "    }\n",
       "\n",
       "    .dataframe thead th {\n",
       "        text-align: right;\n",
       "    }\n",
       "</style>\n",
       "<table border=\"1\" class=\"dataframe\">\n",
       "  <thead>\n",
       "    <tr style=\"text-align: right;\">\n",
       "      <th></th>\n",
       "      <th>CLAIM_AMOUNT</th>\n",
       "      <th>PREAUTH_AMT</th>\n",
       "      <th>DIFF</th>\n",
       "    </tr>\n",
       "  </thead>\n",
       "  <tbody>\n",
       "    <tr>\n",
       "      <th>0</th>\n",
       "      <td>11000</td>\n",
       "      <td>12500</td>\n",
       "      <td>-1500</td>\n",
       "    </tr>\n",
       "    <tr>\n",
       "      <th>1</th>\n",
       "      <td>11000</td>\n",
       "      <td>12500</td>\n",
       "      <td>-1500</td>\n",
       "    </tr>\n",
       "    <tr>\n",
       "      <th>2</th>\n",
       "      <td>11500</td>\n",
       "      <td>12500</td>\n",
       "      <td>-1000</td>\n",
       "    </tr>\n",
       "    <tr>\n",
       "      <th>3</th>\n",
       "      <td>11000</td>\n",
       "      <td>12500</td>\n",
       "      <td>-1500</td>\n",
       "    </tr>\n",
       "    <tr>\n",
       "      <th>4</th>\n",
       "      <td>11000</td>\n",
       "      <td>12500</td>\n",
       "      <td>-1500</td>\n",
       "    </tr>\n",
       "    <tr>\n",
       "      <th>...</th>\n",
       "      <td>...</td>\n",
       "      <td>...</td>\n",
       "      <td>...</td>\n",
       "    </tr>\n",
       "    <tr>\n",
       "      <th>479683</th>\n",
       "      <td>24910</td>\n",
       "      <td>24910</td>\n",
       "      <td>0</td>\n",
       "    </tr>\n",
       "    <tr>\n",
       "      <th>479684</th>\n",
       "      <td>45910</td>\n",
       "      <td>45910</td>\n",
       "      <td>0</td>\n",
       "    </tr>\n",
       "    <tr>\n",
       "      <th>479685</th>\n",
       "      <td>30000</td>\n",
       "      <td>30000</td>\n",
       "      <td>0</td>\n",
       "    </tr>\n",
       "    <tr>\n",
       "      <th>479686</th>\n",
       "      <td>23020</td>\n",
       "      <td>23020</td>\n",
       "      <td>0</td>\n",
       "    </tr>\n",
       "    <tr>\n",
       "      <th>479687</th>\n",
       "      <td>23020</td>\n",
       "      <td>23020</td>\n",
       "      <td>0</td>\n",
       "    </tr>\n",
       "  </tbody>\n",
       "</table>\n",
       "<p>479688 rows × 3 columns</p>\n",
       "</div>"
      ],
      "text/plain": [
       "        CLAIM_AMOUNT  PREAUTH_AMT  DIFF\n",
       "0              11000        12500 -1500\n",
       "1              11000        12500 -1500\n",
       "2              11500        12500 -1000\n",
       "3              11000        12500 -1500\n",
       "4              11000        12500 -1500\n",
       "...              ...          ...   ...\n",
       "479683         24910        24910     0\n",
       "479684         45910        45910     0\n",
       "479685         30000        30000     0\n",
       "479686         23020        23020     0\n",
       "479687         23020        23020     0\n",
       "\n",
       "[479688 rows x 3 columns]"
      ]
     },
     "execution_count": 15,
     "metadata": {},
     "output_type": "execute_result"
    }
   ],
   "source": [
    "data[['CLAIM_AMOUNT','PREAUTH_AMT', 'DIFF']]"
   ]
  },
  {
   "cell_type": "code",
   "execution_count": null,
   "metadata": {
    "id": "Ws1krQMEm0cj"
   },
   "outputs": [],
   "source": [
    "# Eliminamos las variables recién creadas\n",
    "# data.drop(['DIFF', 'CATEGORY_NAME'], axis = 1, inplace = True)"
   ]
  },
  {
   "cell_type": "code",
   "execution_count": 16,
   "metadata": {},
   "outputs": [
    {
     "data": {
      "text/html": [
       "<div>\n",
       "<style scoped>\n",
       "    .dataframe tbody tr th:only-of-type {\n",
       "        vertical-align: middle;\n",
       "    }\n",
       "\n",
       "    .dataframe tbody tr th {\n",
       "        vertical-align: top;\n",
       "    }\n",
       "\n",
       "    .dataframe thead th {\n",
       "        text-align: right;\n",
       "    }\n",
       "</style>\n",
       "<table border=\"1\" class=\"dataframe\">\n",
       "  <thead>\n",
       "    <tr style=\"text-align: right;\">\n",
       "      <th></th>\n",
       "      <th></th>\n",
       "      <th>AGE</th>\n",
       "      <th>SEX</th>\n",
       "      <th>CASTE_NAME</th>\n",
       "      <th>CATEGORY_CODE</th>\n",
       "      <th>CATEGORY_NAME</th>\n",
       "      <th>SURGERY_CODE</th>\n",
       "      <th>SURGERY</th>\n",
       "      <th>VILLAGE</th>\n",
       "      <th>MANDAL_NAME</th>\n",
       "      <th>...</th>\n",
       "      <th>HOSP_TYPE</th>\n",
       "      <th>HOSP_LOCATION</th>\n",
       "      <th>HOSP_DISTRICT</th>\n",
       "      <th>SURGERY_DATE</th>\n",
       "      <th>DISCHARGE_DATE</th>\n",
       "      <th>Mortality Y / N</th>\n",
       "      <th>MORTALITY_DATE</th>\n",
       "      <th>SRC_REGISTRATION</th>\n",
       "      <th>CATEGORY</th>\n",
       "      <th>DIFF</th>\n",
       "    </tr>\n",
       "  </thead>\n",
       "  <tbody>\n",
       "    <tr>\n",
       "      <th>0</th>\n",
       "      <td>1</td>\n",
       "      <td>56</td>\n",
       "      <td>Female</td>\n",
       "      <td>BC</td>\n",
       "      <td>M6</td>\n",
       "      <td>NEPHROLOGY</td>\n",
       "      <td>M6.5</td>\n",
       "      <td>Maintenance Hemodialysis For Crf</td>\n",
       "      <td>Lolugu</td>\n",
       "      <td>Ponduru</td>\n",
       "      <td>...</td>\n",
       "      <td>G</td>\n",
       "      <td>SRIKAKULAM</td>\n",
       "      <td>Srikakulam</td>\n",
       "      <td>06/08/2013 00:00:00</td>\n",
       "      <td>07/09/2013 00:00:00</td>\n",
       "      <td>NO</td>\n",
       "      <td>NaN</td>\n",
       "      <td>D</td>\n",
       "      <td>M6 - NEPHROLOGY</td>\n",
       "      <td>-1500</td>\n",
       "    </tr>\n",
       "    <tr>\n",
       "      <th>1</th>\n",
       "      <td>2</td>\n",
       "      <td>37</td>\n",
       "      <td>Male</td>\n",
       "      <td>BC</td>\n",
       "      <td>M6</td>\n",
       "      <td>NEPHROLOGY</td>\n",
       "      <td>M6.5</td>\n",
       "      <td>Maintenance Hemodialysis For Crf</td>\n",
       "      <td>Borivanka</td>\n",
       "      <td>Kaviti</td>\n",
       "      <td>...</td>\n",
       "      <td>G</td>\n",
       "      <td>SRIKAKULAM</td>\n",
       "      <td>Srikakulam</td>\n",
       "      <td>08/08/2013 00:00:00</td>\n",
       "      <td>09/09/2013 00:00:00</td>\n",
       "      <td>NO</td>\n",
       "      <td>NaN</td>\n",
       "      <td>D</td>\n",
       "      <td>M6 - NEPHROLOGY</td>\n",
       "      <td>-1500</td>\n",
       "    </tr>\n",
       "  </tbody>\n",
       "</table>\n",
       "<p>2 rows × 26 columns</p>\n",
       "</div>"
      ],
      "text/plain": [
       "        AGE     SEX CASTE_NAME CATEGORY_CODE CATEGORY_NAME SURGERY_CODE  \\\n",
       "0    1   56  Female         BC            M6    NEPHROLOGY         M6.5   \n",
       "1    2   37    Male         BC            M6    NEPHROLOGY         M6.5   \n",
       "\n",
       "                            SURGERY    VILLAGE MANDAL_NAME  ... HOSP_TYPE  \\\n",
       "0  Maintenance Hemodialysis For Crf     Lolugu     Ponduru  ...         G   \n",
       "1  Maintenance Hemodialysis For Crf  Borivanka      Kaviti  ...         G   \n",
       "\n",
       "  HOSP_LOCATION  HOSP_DISTRICT         SURGERY_DATE       DISCHARGE_DATE  \\\n",
       "0    SRIKAKULAM     Srikakulam  06/08/2013 00:00:00  07/09/2013 00:00:00   \n",
       "1    SRIKAKULAM     Srikakulam  08/08/2013 00:00:00  09/09/2013 00:00:00   \n",
       "\n",
       "  Mortality Y / N MORTALITY_DATE SRC_REGISTRATION         CATEGORY  DIFF  \n",
       "0              NO            NaN                D  M6 - NEPHROLOGY -1500  \n",
       "1              NO            NaN                D  M6 - NEPHROLOGY -1500  \n",
       "\n",
       "[2 rows x 26 columns]"
      ]
     },
     "execution_count": 16,
     "metadata": {},
     "output_type": "execute_result"
    }
   ],
   "source": [
    "data.head(2)"
   ]
  },
  {
   "cell_type": "markdown",
   "metadata": {
    "id": "T-7ElObvm0cj"
   },
   "source": [
    "### Corrección de formatos "
   ]
  },
  {
   "cell_type": "code",
   "execution_count": null,
   "metadata": {},
   "outputs": [],
   "source": [
    "data.info()"
   ]
  },
  {
   "cell_type": "markdown",
   "metadata": {
    "id": "JKadB5nTm0cj"
   },
   "source": [
    "Las columnas PREAUTH_DATE, CLAIM_DATE, SURGERY_DATE, DISCHARGE_DATE y MORTALITY_DATE son cargadas como si fueran del tipo Object, cuando en realidad deberían ser levantadas como fechas"
   ]
  },
  {
   "cell_type": "code",
   "execution_count": null,
   "metadata": {
    "id": "MqGBV_8Jm0ck"
   },
   "outputs": [],
   "source": [
    "from datetime import datetime"
   ]
  },
  {
   "cell_type": "code",
   "execution_count": null,
   "metadata": {
    "id": "sbkyv1SCm0ck",
    "outputId": "9ea7ce08-1071-4fa3-a9ed-15e7cfcb07d4"
   },
   "outputs": [],
   "source": [
    "# Convertimos el campo DISCHARGE_DATE a fecha. Tira un error\n",
    "data['DISCHARGE_DATE'] = pd.to_datetime(data['DISCHARGE_DATE'])"
   ]
  },
  {
   "cell_type": "code",
   "execution_count": null,
   "metadata": {
    "id": "-faT8zrmm0ck"
   },
   "outputs": [],
   "source": [
    "# Buscamos el error:\n",
    "# Alternativa I:\n",
    "data.loc[data['DISCHARGE_DATE'].str.contains('116', na=False)]"
   ]
  },
  {
   "cell_type": "code",
   "execution_count": null,
   "metadata": {
    "id": "wxYWU9BVm0cl"
   },
   "outputs": [],
   "source": [
    "# Buscamos el error:\n",
    "# Alternativa II\n",
    "data.loc[data['DISCHARGE_DATE']=='30/04/0116 00:00:00']"
   ]
  },
  {
   "cell_type": "code",
   "execution_count": null,
   "metadata": {
    "id": "1ORIbwUum0cl"
   },
   "outputs": [],
   "source": [
    "# Reemplazamos los datos erroneos:\n",
    "# Alternativa I\n",
    "mappings = {'30/04/0116 00:00:00':'30/04/2016 00:00:00'}"
   ]
  },
  {
   "cell_type": "code",
   "execution_count": null,
   "metadata": {
    "id": "1ORIbwUum0cl"
   },
   "outputs": [],
   "source": [
    "data['DISCHARGE_DATE'] = data['DISCHARGE_DATE'].replace(mappings)"
   ]
  },
  {
   "cell_type": "code",
   "execution_count": null,
   "metadata": {
    "id": "1ORIbwUum0cl"
   },
   "outputs": [],
   "source": [
    "# Alternativa II\n",
    "data.loc[data['AGE']=='30/04/0116 00:00:00', 'DISCHARGE_DATE'] = '30/04/2016 00:00:00'"
   ]
  },
  {
   "cell_type": "code",
   "execution_count": null,
   "metadata": {
    "id": "PmHeI5zBm0cl"
   },
   "outputs": [],
   "source": [
    "# Convertimos el campo DISCHARGE_DATE a fecha nuevamente\n",
    "data['DISCHARGE_DATE'] = pd.to_datetime(data['DISCHARGE_DATE'])"
   ]
  },
  {
   "cell_type": "code",
   "execution_count": null,
   "metadata": {
    "id": "I6qvvCgCm0cm"
   },
   "outputs": [],
   "source": [
    "data['PREAUTH_DATE'] = pd.to_datetime(data['PREAUTH_DATE'])"
   ]
  },
  {
   "cell_type": "code",
   "execution_count": null,
   "metadata": {
    "id": "I6qvvCgCm0cm"
   },
   "outputs": [],
   "source": [
    "data['CLAIM_DATE'] = pd.to_datetime(data['CLAIM_DATE'])"
   ]
  },
  {
   "cell_type": "code",
   "execution_count": null,
   "metadata": {
    "id": "I6qvvCgCm0cm"
   },
   "outputs": [],
   "source": [
    "data['MORTALITY_DATE'] = pd.to_datetime(data['MORTALITY_DATE'])"
   ]
  },
  {
   "cell_type": "code",
   "execution_count": null,
   "metadata": {
    "id": "I6qvvCgCm0cm"
   },
   "outputs": [],
   "source": [
    "data['SURGERY_DATE'] = pd.to_datetime(data['SURGERY_DATE'])"
   ]
  },
  {
   "cell_type": "code",
   "execution_count": null,
   "metadata": {
    "id": "CKFZZ63cm0cm"
   },
   "outputs": [],
   "source": [
    "# Borramos la columna que tiene el índice del CSV \n",
    "data = data.drop('   ', axis = 1)"
   ]
  },
  {
   "cell_type": "code",
   "execution_count": null,
   "metadata": {
    "id": "bYoYMs4Hm0cm"
   },
   "outputs": [],
   "source": [
    "# data.to_csv('data/ntrarogyaseva_fixed.csv', index = False)"
   ]
  },
  {
   "cell_type": "markdown",
   "metadata": {
    "id": "7gzqu5nsm0co"
   },
   "source": [
    "### NAN Values "
   ]
  },
  {
   "cell_type": "code",
   "execution_count": null,
   "metadata": {
    "id": "rOwLy8eGm0co",
    "outputId": "f2c8767b-45b2-4aaf-c85b-03d4b644feaf"
   },
   "outputs": [],
   "source": [
    "data.isnull().sum()\n",
    "# data['DISCHARGE_DATE'].isnull().sum()"
   ]
  },
  {
   "cell_type": "code",
   "execution_count": null,
   "metadata": {
    "id": "eMiVVjLum0cp"
   },
   "outputs": [],
   "source": [
    "# DISCHARGE_DATE tiene NAs porque pueden referirse a los pacientes que siguen internados o no tienen el alta\n",
    "data.loc[data['DISCHARGE_DATE'].isna()]"
   ]
  },
  {
   "cell_type": "code",
   "execution_count": null,
   "metadata": {
    "id": "Fvb1gqUfm0cp"
   },
   "outputs": [],
   "source": [
    "# Podemos chequear si hay pacientes con DISCHARGE_DATE NA y que hallan fallecido\n",
    "data.loc[(data['Mortality Y / N']=='YES') & (data['DISCHARGE_DATE'].isna())]"
   ]
  },
  {
   "cell_type": "code",
   "execution_count": null,
   "metadata": {
    "id": "Q17MKmHBm0cp"
   },
   "outputs": [],
   "source": [
    "# Los MORTALITY_DATE en blanco, es porque no falleció o por error en la base\n",
    "data.loc[(data['Mortality Y / N']=='NO') & (data['MORTALITY_DATE'].isna())]"
   ]
  },
  {
   "cell_type": "markdown",
   "metadata": {
    "id": "iKy_6WVgm0cp"
   },
   "source": [
    "### map, apply, mapapply "
   ]
  },
  {
   "cell_type": "code",
   "execution_count": null,
   "metadata": {
    "id": "ztAnnDZNm0cp"
   },
   "outputs": [],
   "source": [
    "# data = pd.read_csv('data/ntrarogyaseva_fixed.csv')"
   ]
  },
  {
   "cell_type": "code",
   "execution_count": null,
   "metadata": {
    "id": "EbDbw2Lqm0cq"
   },
   "outputs": [],
   "source": [
    "data['CASTE_NAME'].value_counts()"
   ]
  },
  {
   "cell_type": "markdown",
   "metadata": {
    "id": "erYimR7om0cq"
   },
   "source": [
    "| Sigla       | Definición|\n",
    "|-----------|---------------------|\n",
    "| OC:       | other category |\n",
    "| BC:       | backward class    |\n",
    "| SC:       | scheduded caste    |\n",
    "| ST:       | scheduled tribes   |\n",
    "| obc       |other backward class    |"
   ]
  },
  {
   "cell_type": "code",
   "execution_count": null,
   "metadata": {
    "id": "yYeG4tLMm0cq"
   },
   "outputs": [],
   "source": [
    "# map: mapea valores de una serie\n",
    "caste_mapper = { 'OC':'other category',\n",
    "                 'BC':'backward class',\n",
    "                 'SC':'scheduled caste',\n",
    "                 'ST':'scheduled tribes',\n",
    "                 'Minorities':'Minorities',\n",
    "                 'Others':'Others'\n",
    "}\n",
    "\n",
    "data['CASTE_NAME'] = data['CASTE_NAME'].map(caste_mapper)"
   ]
  },
  {
   "cell_type": "code",
   "execution_count": null,
   "metadata": {
    "id": "C10AeO16m0cs"
   },
   "outputs": [],
   "source": [
    "# Apply\n",
    "# 'Aplica' una función a un eje del DataFrame\n",
    "#     axis=0: Aplica la función a cada fila\n",
    "#     axis=1: Aplica la función a cada columna\n",
    "\n",
    "\n",
    "# Supongamos que el programa aplica una serie de descuentos sobre los costos de la operación según la edad\n",
    "def calculate_total_cost(row):\n",
    "    total_cost = 0\n",
    "    if (row['AGE']<80) & (row['AGE']>69):\n",
    "        total_cost = row['PREAUTH_AMT'] - row['PREAUTH_AMT']*0.20\n",
    "    if (row['AGE']<70) & (row['AGE']>59):\n",
    "        total_cost = row['PREAUTH_AMT'] - row['PREAUTH_AMT']*0.15\n",
    "    if (row['AGE']<60) & (row['AGE']>49):\n",
    "        total_cost = row['PREAUTH_AMT'] - row['PREAUTH_AMT']*0.10\n",
    "    return total_cost\n",
    "\n",
    "\n",
    "def calculate_group_age(row):\n",
    "    AGE_CAT = ''\n",
    "    if (row['AGE']<10) :\n",
    "        AGE_CAT = 'Child'\n",
    "    if (row['AGE']<18) & (row['AGE']>9):\n",
    "        AGE_CAT = 'Young'\n",
    "    return AGE_CAT"
   ]
  },
  {
   "cell_type": "code",
   "execution_count": null,
   "metadata": {
    "id": "JOEUNqFwm0cs"
   },
   "outputs": [],
   "source": [
    "# data.apply(calculate_total_cost, axis=1)\n",
    "data['DISCOUNT_COST'] = data.apply(calculate_total_cost, axis=1)\n",
    "\n",
    "# data['GROUP_AGE'] = data.apply(calculate_group_age, axis=1)\n"
   ]
  },
  {
   "cell_type": "code",
   "execution_count": null,
   "metadata": {},
   "outputs": [],
   "source": [
    "data[['AGE', 'PREAUTH_AMT', 'DISCOUNT_COST']]"
   ]
  },
  {
   "cell_type": "code",
   "execution_count": null,
   "metadata": {
    "id": "Y4qWjK1Em0ct"
   },
   "outputs": [],
   "source": [
    "# Generamos un dataframe mas chico para poder trabajar de manera rápida\n",
    "data_cut = data.groupby(['CASTE_NAME']).median().reset_index()\n",
    "# data_cut.to_csv('data/data_cut_caste_groupby.csv', index = False)\n",
    "data_cut"
   ]
  },
  {
   "cell_type": "code",
   "execution_count": null,
   "metadata": {
    "id": "nmzaKu6cm0cu"
   },
   "outputs": [],
   "source": [
    "# Si queremos sumar los valores de una columna  y crear una columna total, usamos axis=0\n",
    "\n",
    "def add_everything(column):\n",
    "    return column.sum()"
   ]
  },
  {
   "cell_type": "code",
   "execution_count": null,
   "metadata": {
    "id": "A0B0s1K1m0cu"
   },
   "outputs": [],
   "source": [
    "data_cut.loc['sum'] = data_cut.apply(add_everything, axis=0)\n",
    "data_cut"
   ]
  },
  {
   "cell_type": "code",
   "execution_count": null,
   "metadata": {
    "id": "8wjuciZPm0cv"
   },
   "outputs": [],
   "source": [
    "# Applymap: Aplica una función a todo el dataframe\n",
    "\n",
    "def show_len(element):\n",
    "    return len(str(element))\n",
    "\n",
    "data_cut.applymap(show_len)"
   ]
  },
  {
   "cell_type": "markdown",
   "metadata": {
    "_uuid": "c62aea5ceff3e742443abe2fa8ce43c914a1f50c",
    "id": "Who6haMIm0cv"
   },
   "source": [
    "## Analizando un poco mas profundo..."
   ]
  },
  {
   "cell_type": "markdown",
   "metadata": {
    "_uuid": "bffee16b17d1eaade1d9038bcce91f17f0b37e57",
    "id": "LMXq1soRm0cw"
   },
   "source": [
    "### Cual es la distribución de la variable SEX?"
   ]
  },
  {
   "cell_type": "markdown",
   "metadata": {
    "_uuid": "57643886b47dfe5b4c1ede755944617d8196df9e",
    "id": "aXMnmGwem0cw"
   },
   "source": [
    "*value_counts()* es una función de Pandas que puede ser usada para obtener la distribución de los datos, en la columna que se especifique."
   ]
  },
  {
   "cell_type": "code",
   "execution_count": null,
   "metadata": {
    "_uuid": "f5fe97a1545fa7e0ff484e70ea06c7696ce192f8",
    "id": "KM88ihKom0cw",
    "outputId": "c344fff0-379e-4c63-952f-9262f7766bb5"
   },
   "outputs": [],
   "source": [
    "# Cantidad de cada valor en la columna SEX\n",
    "data['SEX'].value_counts()"
   ]
  },
  {
   "cell_type": "markdown",
   "metadata": {
    "_uuid": "e194cef08961d651834ed9bfaceccfb97402bf30",
    "id": "LVE0JmV7m0cx"
   },
   "source": [
    "*CUIDADO*: Existe valores que están ingresados de forma diferente, que refieren al mismo valor. *Male* and *MALE* no representan valores diferentes! \n",
    "\n",
    "Es posible hacer un *replace* de los valores mal ingresados para normalizar la variable.\n",
    "(Ademas de reemplazar Male (Child) -> Boy and Female (Child) -> Girl por conveniencia)"
   ]
  },
  {
   "cell_type": "code",
   "execution_count": null,
   "metadata": {
    "_uuid": "99a7772d15e3a171ab6e48a423eb43afa7831e8f",
    "id": "tq2mIglQm0cx"
   },
   "outputs": [],
   "source": [
    "# Mapeamos para normalizar\n",
    "mappings = {'MALE' : 'Male', 'FEMALE' : 'Female', 'Male(Child)' : 'Boy', 'Female(Child)' : 'Girl'}"
   ]
  },
  {
   "cell_type": "code",
   "execution_count": null,
   "metadata": {
    "_uuid": "79f45ad169d6a28068bff0d7b41264701c400a18",
    "id": "LgmPGszzm0cx",
    "outputId": "6a6240b8-d66d-4d8c-f31c-840313d9ce64"
   },
   "outputs": [],
   "source": [
    "# Reemplazamos los valores utilizando el mapping arriba definido\n",
    "data['SEX'] = data['SEX'].replace(mappings)\n",
    "data['SEX'].value_counts()"
   ]
  },
  {
   "cell_type": "markdown",
   "metadata": {
    "_uuid": "d0240556a5b1f04e24ec9fd934deeefed64738c8",
    "id": "xaIcX1q_m0cx"
   },
   "source": [
    "La visualización de esta información se puede hacer de manera sencilla utilizando la función gráfica que incluye Pandas."
   ]
  },
  {
   "cell_type": "code",
   "execution_count": null,
   "metadata": {},
   "outputs": [],
   "source": [
    "data_sex = data['SEX'].value_counts()\n",
    "data_sex"
   ]
  },
  {
   "cell_type": "code",
   "execution_count": null,
   "metadata": {
    "_uuid": "dcda1f0b90c7be08de6afe1b793c98798fe1f36b",
    "id": "LEdJyTlem0cy",
    "outputId": "b9bc7264-c015-461f-def0-9ca0de7a0e8e"
   },
   "outputs": [],
   "source": [
    "# Value count de Sex de forma gráfica\n",
    "# data_sex.value_counts().plot.bar()\n",
    "data['SEX'].value_counts().plot.bar();"
   ]
  },
  {
   "cell_type": "markdown",
   "metadata": {
    "_uuid": "054bd96effe714b478ce136b7e39fb3970d0b5b8",
    "id": "qNinNy6Bm0cz"
   },
   "source": [
    "### Cual es la distribución de la variable AGE?"
   ]
  },
  {
   "cell_type": "markdown",
   "metadata": {
    "_uuid": "f9970fbf7c21aff98cba076ba47e3a46b2430085",
    "id": "ZxmjgOWkm0cz"
   },
   "source": [
    "Media, mediana y moda:"
   ]
  },
  {
   "cell_type": "code",
   "execution_count": null,
   "metadata": {
    "_uuid": "ec00f8bb13699429867785ec79d42b78d1a13739",
    "id": "VjlFxf-rm0cz",
    "outputId": "f43d72e9-b56c-42dc-cce5-d50ef8567fc4"
   },
   "outputs": [],
   "source": [
    "# print the mean, median and mode of the age distribution\n",
    "print(\"Media: {}\".format(data['AGE'].mean()))\n",
    "print(\"Mediana: {}\".format(data['AGE'].median()))\n",
    "print(\"Moda: {}\".format(data['AGE'].mode()))"
   ]
  },
  {
   "cell_type": "markdown",
   "metadata": {
    "_uuid": "83ad4c4247b0293100eb08cee636837b17d9d7a7",
    "id": "8gCrJXslm0c0"
   },
   "source": [
    "Top 10 de las edades mas repetidas."
   ]
  },
  {
   "cell_type": "code",
   "execution_count": null,
   "metadata": {
    "_uuid": "9eb0488d786f60d452568411aea1982fa7997d10",
    "id": "MAXhqHZvm0dA",
    "outputId": "d003cec7-1ffe-4a81-c22f-d62bcd9fb0a5"
   },
   "outputs": [],
   "source": [
    "# top 10 age\n",
    "data['AGE'].value_counts().head(10)"
   ]
  },
  {
   "cell_type": "code",
   "execution_count": null,
   "metadata": {
    "_uuid": "2e720e15a7bdc74cf3f5a3937bc30e0ac7c24cea",
    "id": "dBtL_WVPm0dA",
    "outputId": "c47620a1-0914-4d68-c84c-539003f10494"
   },
   "outputs": [],
   "source": [
    "# boxplot para AGE\n",
    "data['AGE'].plot.box()"
   ]
  },
  {
   "cell_type": "markdown",
   "metadata": {
    "_uuid": "ce0456471733af1564ae8ed4a387babf82461962",
    "id": "rPfl0-xym0dA"
   },
   "source": [
    "En el grafico de arriba, la caja representa el **[Rango Intercuatilico (IQR, en inglés)](https://es.wikipedia.org/wiki/Rango_intercuart%C3%ADlico)** de los datos. \n",
    "\n",
    "\n",
    "El IQR representa la región donde cae el 50% de los datos. Por ejemplo del 25% al 75% del dataframe.\n",
    "Todo dato que cae fuera de 1.5 veces el IQR es considerado, en general, una anomalía (OJO, NO SIEMPRE, DEPENDE DEL CONOCIMIENTO DE LOS DATOS POR PARTE DEL ANALISTA)\n",
    "\n",
    "Los círculos se considerarían _outliers_\n",
    "\n",
    "La librería _Seaborn_ ofrece visualizaciones mejores, de forma sencilla.\n"
   ]
  },
  {
   "cell_type": "code",
   "execution_count": null,
   "metadata": {
    "id": "7enwaWLjm0dB",
    "outputId": "a9389567-dca1-4a11-a03d-5388c5269442"
   },
   "outputs": [],
   "source": [
    "# sns.boxplot(data['AGE']) # Devuelve un warning, que se solucina definiendo x e y.\n",
    "sns.boxplot(x=data['AGE']); # El ; evita la impresión de texto previo al gráfico."
   ]
  },
  {
   "cell_type": "markdown",
   "metadata": {
    "_uuid": "e920506fd8b4015db64a9e561c65cf3040cc1c11",
    "id": "d61kFcTym0dB"
   },
   "source": [
    "### Preguntando y respondiendo con los datos"
   ]
  },
  {
   "cell_type": "markdown",
   "metadata": {
    "_uuid": "80f9d6152640714c896924754e6f92798064b070",
    "id": "z0xXpRjLm0dC"
   },
   "source": [
    "Una vez que hayamos realizado una pequeña exploración en los datos, ahora avancemos a realizarnos algunas preguntas para entender mejor el dataframe."
   ]
  },
  {
   "cell_type": "markdown",
   "metadata": {
    "_uuid": "a783ae63d8383ffc47b13567c81c9d7de722434e",
    "id": "0JqUk1xKm0dC"
   },
   "source": [
    "**Qué debería hacer si sólo quiero analizar los registros que pertenecen al distrito de Krishna?**\n",
    "\n",
    "Debería selecciononar un subconjunto de datos pertenencientes a Krishna. Pandas lo hace en dos sencillos pasos:\n",
    "\n",
    "    1. Condición que se debe satisfacer: data['DISTRICT_NAME']=='Krishna'\n",
    "    2. Insertamos la condición en el dataframe: [data['DISTRICT_NAME']=='Krishna']\n",
    "      "
   ]
  },
  {
   "cell_type": "code",
   "execution_count": null,
   "metadata": {
    "_uuid": "7856e814e3611237be2daca829949c342776265b",
    "id": "pfbqNpGUm0dC",
    "outputId": "3d920bf5-b4d3-4bb7-d6a0-97a36b4f2d3c"
   },
   "outputs": [],
   "source": [
    "# subset de datos que pertenecen al distrito de Krishna\n",
    "krishna = data.loc[data['DISTRICT_NAME']=='Krishna']\n",
    "krishna.to_csv('data/krishna_cut.csv', index = False)"
   ]
  },
  {
   "cell_type": "code",
   "execution_count": null,
   "metadata": {},
   "outputs": [],
   "source": [
    "data.loc[data['DISTRICT_NAME']=='Krishna'].to_csv('data/krishna_cut.csv', index = False)"
   ]
  },
  {
   "cell_type": "markdown",
   "metadata": {
    "_uuid": "0b41795fc91b7eb47b5a3c17a13bec8815fdde74",
    "id": "rBE_EgY0m0dD"
   },
   "source": [
    "**Estadísticas por categoria de operación**\n",
    "\n",
    "Vamos a utilizar el _groupby_ de Pandas para construir estadísticas, agrupando los datos por la categoría de operación. El _groupby_ trabaja de forma similar al comando de _SQL_ del mismo nombre"
   ]
  },
  {
   "cell_type": "code",
   "execution_count": null,
   "metadata": {},
   "outputs": [],
   "source": [
    "data.columns"
   ]
  },
  {
   "cell_type": "code",
   "execution_count": null,
   "metadata": {
    "_uuid": "017c61dd85a6157ccd2eca1e362220da917b5abd",
    "id": "LHLFf7mQm0dD",
    "outputId": "5be53ff1-10ab-4124-bbe5-d3f22773ed62"
   },
   "outputs": [],
   "source": [
    "# group by surgery para obtener estadísticas\n",
    "data.groupby(['CATEGORY_NAME','SEX']).mean()\n",
    "#data.groupby(['CATEGORY_NAME','HOSP_DISTRICT']).mean()"
   ]
  },
  {
   "cell_type": "markdown",
   "metadata": {
    "_uuid": "470cdfbcf914cc518d1525c384be7895436bb2e4",
    "id": "V_5fX74Fm0dD"
   },
   "source": [
    "Cochlear Implant Surgery es el que tiene la operación mas costosa. (₹520000 en promedio). Las Protesis (Prostheses) cuestan ₹1200 (las mas baratas). A su vez, el grupo mas joven también para ser el que demanada la Cochlear Implant Surgery: 1.58 años, mientras que Neurology  tiene pacientes de, en promedio, ~56."
   ]
  },
  {
   "cell_type": "code",
   "execution_count": null,
   "metadata": {
    "_uuid": "017c61dd85a6157ccd2eca1e362220da917b5abd",
    "id": "MDqePIaHm0dE",
    "outputId": "ffeb47e8-63e0-459c-9545-bac85040ea63"
   },
   "outputs": [],
   "source": [
    "#data.groupby(['HOSP_DISTRICT','CATEGORY_NAME'])['AGE'].mean().reset_index()\n",
    "data.groupby(['CATEGORY_NAME','SEX']).agg({'AGE':'mean','MORTALITY_DATE':'count', 'DISCHARGE_DATE':'max'}).reset_index()\n",
    "\n"
   ]
  },
  {
   "cell_type": "markdown",
   "metadata": {
    "id": "4Xlso3gZm0dE"
   },
   "source": [
    "**Que intervenciones están vinculadas a SURGERY**"
   ]
  },
  {
   "cell_type": "code",
   "execution_count": null,
   "metadata": {
    "id": "V_UtxoWlm0dF",
    "outputId": "918269df-e8ca-4485-b6c5-d31404740c11"
   },
   "outputs": [],
   "source": [
    "data.loc[data['CATEGORY_NAME'].str.contains('SURGERY')].groupby(['SEX']).mean()"
   ]
  },
  {
   "cell_type": "markdown",
   "metadata": {
    "id": "lW2HFJaMm0dF"
   },
   "source": [
    "**Edad minima y maxima por CATEGORY**"
   ]
  },
  {
   "cell_type": "code",
   "execution_count": null,
   "metadata": {
    "_uuid": "017c61dd85a6157ccd2eca1e362220da917b5abd",
    "id": "WyXaUnsom0dF",
    "outputId": "6ff36a56-0b7c-4b1d-cbe7-32a9f02a2688"
   },
   "outputs": [],
   "source": [
    "data.groupby(['CATEGORY_NAME']).agg(\n",
    "    **{\n",
    "        'Edad Promedio': ('AGE', 'mean'),\n",
    "        'Edad Maxima': ('AGE', 'max'),\n",
    "    }).reset_index()"
   ]
  },
  {
   "cell_type": "markdown",
   "metadata": {
    "_uuid": "7010a66455e53939062a0530a3468eca2cf003d0",
    "id": "Q8_bF-Xhm0dG"
   },
   "source": [
    "**Operación mas común por grupo de edad**\n",
    "\n",
    "Para encontrar la operación mas común por grupo de edad, vamos a redondear las edades al valor múltiplo de 10 mas cercano.\n",
    "\n",
    "Hacemos una copia del dataframe para no _ensuciar_ el dataframe original."
   ]
  },
  {
   "cell_type": "code",
   "execution_count": null,
   "metadata": {
    "_uuid": "87545ae3eb1a4a4221e741037d57eb4603bc45f2",
    "id": "eT7Iav50m0dG"
   },
   "outputs": [],
   "source": [
    "dataround = data.copy()"
   ]
  },
  {
   "cell_type": "markdown",
   "metadata": {
    "_uuid": "299226d237b866bebee79abf06173393e09eb1c7",
    "id": "DH0S794Jm0dG"
   },
   "source": [
    "Utilizamos la función _round_ de Pandas para redonder el valor de la edad. *-1* indica que redondeamos hasta1 dígito a la izquierda del valor decimal."
   ]
  },
  {
   "cell_type": "code",
   "execution_count": null,
   "metadata": {
    "_uuid": "ad4f2cc897cbbab1f682ed2f36d9b77abc41527b",
    "id": "V8FE3aZ5m0dG"
   },
   "outputs": [],
   "source": [
    "# round a la edad en 0 o 1\n",
    "dataround['AGE'] = dataround['AGE'].round(-1)"
   ]
  },
  {
   "cell_type": "markdown",
   "metadata": {
    "_uuid": "cf785a57d4529ab715db2a7cd1973e35249850d1",
    "id": "ST-0iamQm0dG"
   },
   "source": [
    "Visualizamos los grupos de edad utilizando la función _Seaborn countplot_ "
   ]
  },
  {
   "cell_type": "code",
   "execution_count": null,
   "metadata": {
    "_uuid": "5cc771e7f23696b1c097ac749d2a41458d06234b",
    "id": "cgDZTs2tm0dH",
    "outputId": "d3f429af-f900-4586-e62e-6eb95734417a"
   },
   "outputs": [],
   "source": [
    "# frequency plot\n",
    "sns.countplot(x=dataround['AGE']);"
   ]
  },
  {
   "cell_type": "code",
   "execution_count": null,
   "metadata": {
    "id": "ROiOd3aUm0dH",
    "outputId": "3a93c514-b3f6-4e2e-d889-9d7dac56e2d5"
   },
   "outputs": [],
   "source": [
    "res = dataround.groupby(['AGE', 'CATEGORY_NAME'], as_index=False)['SEX'].count()\\\n",
    "        .sort_values('SEX', ascending=False)\\\n",
    "        .drop_duplicates('AGE')\\\n",
    "        .sort_values('AGE')\n",
    "        \n",
    "res"
   ]
  },
  {
   "cell_type": "markdown",
   "metadata": {
    "id": "iYLl2I61m0dH"
   },
   "source": [
    "#### Unir dataframes\n",
    "\n",
    "Vamos a descargar la tabla de distritos del estado de Andhra Pradesh (https://en.wikipedia.org/wiki/List_of_districts_of_Andhra_Pradesh) con algunas variables adicionales, para pegarle datos del dataframe original a nivel distrito."
   ]
  },
  {
   "cell_type": "code",
   "execution_count": null,
   "metadata": {
    "id": "2rt6bRZDm0dI",
    "outputId": "6d9c8787-98cc-4de8-dbdb-c7256374edbc"
   },
   "outputs": [],
   "source": [
    "wiki_url = 'https://en.wikipedia.org/wiki/List_of_districts_of_Andhra_Pradesh'\n",
    "df_wiki = pd.read_html(wiki_url)[2]\n",
    "df_wiki"
   ]
  },
  {
   "cell_type": "markdown",
   "metadata": {
    "id": "PKlTGHiEm0dI"
   },
   "source": [
    "Vamos a agregar ua columna en la tabla extraída de wikipedia con la cantidad de personas de cada Distrito, que aparece en la base del programa de salud.\n",
    "\n",
    "Para poder hacerlo, vamos a crear un nuevo dataframe que es el resultado de agrupar en la base del programa la cantidad de registros por distrito."
   ]
  },
  {
   "cell_type": "code",
   "execution_count": null,
   "metadata": {
    "id": "Ry4ZQUXGm0dI",
    "outputId": "8b4bf904-adac-4237-9f69-6d9796407cf2"
   },
   "outputs": [],
   "source": [
    "df_new = data.groupby(['HOSP_DISTRICT'])['AGE'].count().reset_index()\n",
    "df_new"
   ]
  },
  {
   "cell_type": "markdown",
   "metadata": {
    "id": "NLloKPwem0dJ"
   },
   "source": [
    "Vamos a cambiar el nombre de la columna AGE:"
   ]
  },
  {
   "cell_type": "code",
   "execution_count": null,
   "metadata": {
    "id": "YaRarUA0m0dJ"
   },
   "outputs": [],
   "source": [
    "df_new.rename(columns = {'AGE': 'Cantidad de Personas en el programa'}, \n",
    "                inplace = True)"
   ]
  },
  {
   "cell_type": "code",
   "execution_count": null,
   "metadata": {},
   "outputs": [],
   "source": [
    "df_new['HOSP_DISTRICT'].unique()"
   ]
  },
  {
   "cell_type": "code",
   "execution_count": null,
   "metadata": {},
   "outputs": [],
   "source": [
    "df_new"
   ]
  },
  {
   "cell_type": "code",
   "execution_count": null,
   "metadata": {
    "id": "-VZb-TEhm0dK"
   },
   "outputs": [],
   "source": [
    "df_merged = pd.merge(df_wiki,\n",
    "                    df_new,\n",
    "                    left_on = 'Official name',\n",
    "                    right_on = 'HOSP_DISTRICT',\n",
    "                    how = 'left')"
   ]
  },
  {
   "cell_type": "code",
   "execution_count": null,
   "metadata": {
    "id": "Ro_Bj345m0dK",
    "outputId": "e0aa2eee-f596-48d4-c8e7-4daa58363a73"
   },
   "outputs": [],
   "source": [
    "df_merged.reset_index()"
   ]
  },
  {
   "cell_type": "markdown",
   "metadata": {
    "id": "EQkxxFmcm0dL"
   },
   "source": [
    "Borramos la columna HOSP_DISTRICT"
   ]
  },
  {
   "cell_type": "code",
   "execution_count": null,
   "metadata": {
    "id": "200eeXGpm0dM"
   },
   "outputs": [],
   "source": [
    "df_merged = df_merged[['Code[10]', 'Official name', 'Headquarters', 'Revenuedivisions',\n",
    "       'Mandals', 'Population', 'Area(in sq.km)', 'Density(per sq.km)', 'Cantidad de Personas en el programa']]"
   ]
  },
  {
   "cell_type": "code",
   "execution_count": null,
   "metadata": {
    "id": "Wa2lMFaam0dN",
    "outputId": "54a428b1-9fe2-4e6c-9697-8c71e8c982e7"
   },
   "outputs": [],
   "source": [
    "df_merged"
   ]
  },
  {
   "cell_type": "code",
   "execution_count": null,
   "metadata": {},
   "outputs": [],
   "source": [
    "df_merged.to_csv('data/ntrarogyasev_merged.csv', index = False)"
   ]
  },
  {
   "cell_type": "markdown",
   "metadata": {
    "id": "Ou-CNscum0dP"
   },
   "source": [
    "### Anomalías\n",
    "Fuente: https://towardsdatascience.com/5-ways-to-detect-outliers-that-every-data-scientist-should-know-python-code-70a54335a623"
   ]
  },
  {
   "cell_type": "code",
   "execution_count": null,
   "metadata": {
    "id": "0zk4JFYSm0dP"
   },
   "outputs": [],
   "source": [
    "# Leemos el dataset\n",
    "# data = pd.read_csv('data/ntrarogyaseva_fixed.csv')"
   ]
  },
  {
   "cell_type": "code",
   "execution_count": null,
   "metadata": {
    "id": "fC-Qkks-m0dP",
    "outputId": "22ec6957-3d40-4a24-ae49-92f4d90817b9",
    "scrolled": true
   },
   "outputs": [],
   "source": [
    "plt.figure(figsize=(20, 6))\n",
    "sns.lineplot(data=data, x=\"AGE\", y=\"CLAIM_AMOUNT\", ci=95, hue=\"Mortality Y / N\")\n",
    "# sns.scatterplot(x='AGE', \n",
    "#              y='CLAIM_AMOUNT', \n",
    "#              data=data, \n",
    "#              color='g')"
   ]
  },
  {
   "cell_type": "code",
   "execution_count": null,
   "metadata": {
    "id": "TSXNtuIem0dQ",
    "outputId": "37735466-3f93-4165-f92f-094ae86f503e"
   },
   "outputs": [],
   "source": [
    "# Reducimos el DF para trabajar con mayor velocidad\n",
    "# d1 = pd.to_datetime('2016-06-01')\n",
    "# data_graph = data.loc[data['PREAUTH_DATE']<d1]\n",
    "\n",
    "data_graph = data.loc[data['SURGERY_DATE']>'29/12/2016 00:00:00']\n",
    "\n",
    "#data_graph = data_graph.copy()\n",
    "data_graph.shape"
   ]
  },
  {
   "cell_type": "code",
   "execution_count": null,
   "metadata": {
    "id": "K5fK6x7lm0dQ",
    "outputId": "68cefd0e-5155-41bc-8ad4-20e88bbe018f"
   },
   "outputs": [],
   "source": [
    "plt.figure(figsize=(20, 6))\n",
    "ax = sns.lineplot(data=data_graph, x=\"SURGERY_DATE\", y=\"CLAIM_AMOUNT\")\n",
    "plt.xticks(rotation=45); # el ; oculta el texto previo al gráfico. El mismo resultado se logra con plt.show()"
   ]
  },
  {
   "cell_type": "code",
   "execution_count": null,
   "metadata": {
    "id": "yt6L75phm0dQ",
    "outputId": "6b7c9c36-9412-4924-edca-abaf6cc18eaf"
   },
   "outputs": [],
   "source": [
    "# Para tomar la media movil, primero es necesario ordenar los datos por fecha.\n",
    "data_graph.sort_values(by='SURGERY_DATE', ascending=False)\n",
    "# Tomamos la media movil de 5 observaciones hacia atrás, y le sumamos/restamos 3 desvíos de esa media movil.\n",
    "data_graph['CLAIM_AMOUNT_min'] = data_graph['CLAIM_AMOUNT'].rolling(5).mean() - 3*data_graph['CLAIM_AMOUNT'].rolling(5).std()\n",
    "data_graph['CLAIM_AMOUNT_max'] = data_graph['CLAIM_AMOUNT'].rolling(5).mean() + 3*data_graph['CLAIM_AMOUNT'].rolling(5).std()\n",
    "data_graph['CLAIM_AMOUNT_RM'] = data_graph['CLAIM_AMOUNT'].rolling(5).mean()\n",
    "\n",
    "#data_graph['CLAIM_AMOUNT_min'] = data_graph['CLAIM_AMOUNT'] - 3*data_graph['CLAIM_AMOUNT']\n",
    "#data_graph['CLAIM_AMOUNT_max'] = data_graph['CLAIM_AMOUNT'] + 3*data_graph['CLAIM_AMOUNT']\n",
    "# data_graph['CLAIM_AMOUNT_RM'] = data_graph['CLAIM_AMOUNT'].rolling(5).mean()"
   ]
  },
  {
   "cell_type": "code",
   "execution_count": null,
   "metadata": {
    "id": "s0YMSnmBm0dQ",
    "outputId": "9f12c262-76f5-4c5c-de48-9d5a3fb35753"
   },
   "outputs": [],
   "source": [
    "fig, ax = plt.subplots(figsize=(20, 6))\n",
    "\n",
    "sns.lineplot(x='SURGERY_DATE',\n",
    "             y='CLAIM_AMOUNT_max',\n",
    "             data=data_graph,\n",
    "             ci=False)\n",
    "\n",
    "sns.lineplot(x='SURGERY_DATE',\n",
    "             y='CLAIM_AMOUNT_min',\n",
    "             data=data_graph,\n",
    "             color='y',\n",
    "             ci=False)\n",
    "\n",
    "sns.lineplot(x='SURGERY_DATE', \n",
    "             y='CLAIM_AMOUNT', \n",
    "             data=data_graph, \n",
    "             color='g')\n",
    "\n",
    "# sns.scatterplot(x='SURGERY_DATE', \n",
    "#              y='CLAIM_AMOUNT', \n",
    "#              data=data_graph, \n",
    "#              color='g')\n",
    "\n",
    "# ax.axes.set_title(\"Date and Claim Amount\",fontsize=20)\n",
    "# ax.set_xlabel(\"Date\",fontsize=15)\n",
    "# ax.set_ylabel(\"Claim Amount\",fontsize=15)\n",
    "# ax.tick_params(labelsize=5)\n",
    "# plt.xticks(rotation=45)\n",
    "\n",
    "plt.show()"
   ]
  },
  {
   "cell_type": "code",
   "execution_count": null,
   "metadata": {
    "id": "3PW09Lnym0dR",
    "outputId": "19f850bb-c82a-4571-df8d-86a6e198325c"
   },
   "outputs": [],
   "source": [
    "# Agrupamos los datos por fecha, con el promedio del CLAIM_AMOUNT\n",
    "graph = data_graph.groupby(['SURGERY_DATE']).agg({'CLAIM_AMOUNT': 'mean'}).reset_index()\n",
    "\n",
    "# Calculamos la media movil para el CLAIM_AMOUNT y -+ 3 desvíos\n",
    "graph.sort_values(by='SURGERY_DATE', ascending=False)\n",
    "graph['CLAIM_AMOUNT_min'] = graph['CLAIM_AMOUNT'].rolling(5).mean() - 3*graph['CLAIM_AMOUNT'].rolling(5).std()\n",
    "graph['CLAIM_AMOUNT_max'] = graph['CLAIM_AMOUNT'].rolling(5).mean() + 3*graph['CLAIM_AMOUNT'].rolling(5).std()\n",
    "graph['CLAIM_AMOUNT_RM'] = graph['CLAIM_AMOUNT'].rolling(5).mean()\n",
    "\n",
    "fig, ax = plt.subplots(figsize=(20, 6))\n",
    "\n",
    "sns.lineplot(x='SURGERY_DATE',\n",
    "             y='CLAIM_AMOUNT_max',\n",
    "             data=graph,\n",
    "             ci=False)\n",
    "\n",
    "sns.lineplot(x='SURGERY_DATE',\n",
    "             y='CLAIM_AMOUNT_min',\n",
    "             data=graph,\n",
    "             color='y',\n",
    "             ci=False)\n",
    "\n",
    "sns.lineplot(x='SURGERY_DATE', \n",
    "             y='CLAIM_AMOUNT_RM', \n",
    "             data=graph, \n",
    "             color='g')\n",
    "\n",
    "sns.scatterplot(x='SURGERY_DATE', \n",
    "             y='CLAIM_AMOUNT', \n",
    "             data=data_graph, \n",
    "             color='g');"
   ]
  },
  {
   "cell_type": "markdown",
   "metadata": {
    "id": "VtbAdSulm0dR"
   },
   "source": [
    "#### Eliminar outliers"
   ]
  },
  {
   "cell_type": "markdown",
   "metadata": {
    "id": "yCStbSIvm0dS"
   },
   "source": [
    "- Computamos el Z-score para la columna seleccionada, relativo a la media y al STD de esa columna\n",
    "- Tomamos el valor absoluto del Z-score.\n",
    "\n",
    "Si queremos calcular para todas las variables\n",
    "- df[(np.abs(stats.zscore(df)) < 3).all(axis=1)]\n",
    "  \n",
    "_all(axis=1)_  garantiza que para cada fila, todas las columnas satisfacen la restricciónensures that for each row, all column satisfy the constraint.\n"
   ]
  },
  {
   "cell_type": "code",
   "execution_count": null,
   "metadata": {
    "id": "JfImt5X_m0dS"
   },
   "outputs": [],
   "source": [
    "from scipy import stats\n",
    "import numpy as np\n",
    "# graph_graph = data_graph.groupby(['SURGERY_DATE']).agg({'CLAIM_AMOUNT': 'mean'}).reset_index()\n",
    "\n",
    "data_graph = data_graph[(np.abs(stats.zscore(data_graph['CLAIM_AMOUNT'])) < 3)]"
   ]
  },
  {
   "cell_type": "code",
   "execution_count": null,
   "metadata": {
    "id": "9jeavSkbm0dS",
    "outputId": "46908226-cc1b-4f74-fadf-7c58fc90dd1b"
   },
   "outputs": [],
   "source": [
    "# fig, ax = plt.subplots(figsize=(20, 6))\n",
    "\n",
    "# sns.boxplot(x=data_graph['DISTRICT_NAME'], y=data_graph['CLAIM_AMOUNT']);"
   ]
  },
  {
   "cell_type": "code",
   "execution_count": null,
   "metadata": {
    "id": "eG1TVzbom0dS",
    "outputId": "01b1e756-0331-448e-e097-37210dcfa290"
   },
   "outputs": [],
   "source": [
    "# Graficamos las series sin los valores que exceden el z-score\n",
    "fig, ax = plt.subplots(figsize=(20, 6))\n",
    "\n",
    "sns.lineplot(x='SURGERY_DATE',\n",
    "             y='CLAIM_AMOUNT_max',\n",
    "             data=data_graph,\n",
    "             ci=False)\n",
    "\n",
    "sns.lineplot(x='SURGERY_DATE',\n",
    "             y='CLAIM_AMOUNT_min',\n",
    "             data=data_graph,\n",
    "             color='y',\n",
    "             ci=False)\n",
    "\n",
    "sns.lineplot(x='SURGERY_DATE', \n",
    "             y='CLAIM_AMOUNT_RM', \n",
    "             data=data_graph, \n",
    "             color='g',\n",
    "             ci=False)\n",
    "\n",
    "sns.scatterplot(x='SURGERY_DATE', \n",
    "             y='CLAIM_AMOUNT', \n",
    "             data=data_graph, \n",
    "             color='g');"
   ]
  },
  {
   "cell_type": "markdown",
   "metadata": {
    "id": "pQqvyR0Qm0dT"
   },
   "source": [
    "### MAPA"
   ]
  },
  {
   "cell_type": "markdown",
   "metadata": {},
   "source": [
    "Los mapas _shp_ necesarios para correr esta sección se pueden descargar siguiendo [este enlace](http://projects.datameet.org/maps/districts/) o directamente desde [acá](https://github.com/datameet/maps/archive/master.zip). Sólo vamos a utilizar los archivos de la carpeta ``/maps-master/Districts/Census_2011``"
   ]
  },
  {
   "cell_type": "code",
   "execution_count": null,
   "metadata": {
    "id": "NocWifPkm0dT"
   },
   "outputs": [],
   "source": [
    "import geopandas\n",
    "import pandas as pd"
   ]
  },
  {
   "cell_type": "code",
   "execution_count": null,
   "metadata": {},
   "outputs": [],
   "source": [
    "df_merged = pd.read_csv('https://raw.githubusercontent.com/matog/Flacso_ciencia_de_datos_python_2022/main/Clase5/data/ntrarogyasev_merged.csv')"
   ]
  },
  {
   "cell_type": "code",
   "execution_count": null,
   "metadata": {},
   "outputs": [],
   "source": [
    "df_merged"
   ]
  },
  {
   "cell_type": "code",
   "execution_count": null,
   "metadata": {
    "id": "pdV23X-Ym0dT"
   },
   "outputs": [],
   "source": [
    "dfg = geopandas.read_file('https://github.com/matog/Flacso_ciencia_de_datos_python_2022/raw/main/Clase5/data/India.geojson')"
   ]
  },
  {
   "cell_type": "code",
   "execution_count": null,
   "metadata": {
    "id": "lTek3qnnm0dU",
    "outputId": "6614384e-ce35-492a-e9e4-88e079c70028"
   },
   "outputs": [],
   "source": [
    "type(dfg)"
   ]
  },
  {
   "cell_type": "code",
   "execution_count": null,
   "metadata": {
    "id": "0N3CNZRom0dU",
    "outputId": "e96989b7-7f59-4bd0-b9f7-af752f79f6c8"
   },
   "outputs": [],
   "source": [
    "dfg.head()"
   ]
  },
  {
   "cell_type": "code",
   "execution_count": null,
   "metadata": {
    "id": "psLRvMkVm0dV",
    "outputId": "574e343e-2065-439b-e95d-c80f97fdc660"
   },
   "outputs": [],
   "source": [
    "dfg['geometry'].plot()"
   ]
  },
  {
   "cell_type": "code",
   "execution_count": null,
   "metadata": {
    "id": "Og3Gkj_gm0dV"
   },
   "outputs": [],
   "source": [
    "df = pd.merge(dfg,\n",
    "              df_merged,\n",
    "              left_on = 'DISTRICT',\n",
    "              right_on ='Official name',\n",
    "              how = 'left'\n",
    "             )"
   ]
  },
  {
   "cell_type": "code",
   "execution_count": null,
   "metadata": {
    "id": "mhly4edhm0dW",
    "outputId": "baf5a31d-25c2-4d98-8bb8-96e598a266d9"
   },
   "outputs": [],
   "source": [
    "df"
   ]
  },
  {
   "cell_type": "code",
   "execution_count": null,
   "metadata": {
    "id": "5bDYDez8m0dW"
   },
   "outputs": [],
   "source": [
    "# df = df.loc[df['Population']>0]"
   ]
  },
  {
   "cell_type": "code",
   "execution_count": null,
   "metadata": {
    "id": "Af-R3nQJm0dW",
    "outputId": "8977f022-ed65-4045-e356-39684afa8053"
   },
   "outputs": [],
   "source": [
    "df"
   ]
  },
  {
   "cell_type": "code",
   "execution_count": null,
   "metadata": {
    "id": "cHxPas1jm0dX",
    "outputId": "fde2e187-6d19-43cb-aa33-2026fa1c159a"
   },
   "outputs": [],
   "source": [
    "fig, ax = plt.subplots(1, figsize=(20,12))\n",
    "df.plot(column='Population', cmap='Blues', linewidth=1, ax=ax, edgecolor='0.9', legend = True)\n",
    "ax.axis('off')"
   ]
  },
  {
   "cell_type": "markdown",
   "metadata": {
    "id": "I5hfl-Ugm0dX"
   },
   "source": [
    "## Exportar Notebook \n",
    "Primero, obtenemos el nombre del archivo"
   ]
  },
  {
   "cell_type": "code",
   "execution_count": null,
   "metadata": {
    "id": "Wy6S5cYKm0dX",
    "tags": [
     "no"
    ]
   },
   "outputs": [],
   "source": [
    "%%javascript\n",
    "IPython.notebook.kernel.execute('nb_name = \"' + IPython.notebook.notebook_name + '\"')"
   ]
  },
  {
   "cell_type": "markdown",
   "metadata": {
    "id": "t1UOrk6dm0dY",
    "tags": [
     "no"
    ]
   },
   "source": [
    "Exportamos todo el notebook. Código y resultados"
   ]
  },
  {
   "cell_type": "code",
   "execution_count": null,
   "metadata": {
    "id": "D09n2bnKm0dY",
    "tags": [
     "no"
    ]
   },
   "outputs": [],
   "source": [
    "!jupyter nbconvert --TagRemovePreprocessor.enabled=True --to html $nb_name "
   ]
  },
  {
   "cell_type": "markdown",
   "metadata": {
    "id": "tGYsUWXEm0dY",
    "tags": [
     "no"
    ]
   },
   "source": [
    "Exportamos solo los resultados"
   ]
  },
  {
   "cell_type": "code",
   "execution_count": null,
   "metadata": {
    "id": "doxleaoFm0dY",
    "tags": [
     "no"
    ]
   },
   "outputs": [],
   "source": [
    "!jupyter nbconvert --TagRemovePreprocessor.enabled=True --no-input --to html $nb_name "
   ]
  },
  {
   "cell_type": "markdown",
   "metadata": {
    "id": "7KuXNfoYm0dZ",
    "tags": [
     "no"
    ]
   },
   "source": [
    "Exportamos solo resultados, y sólo celdas que no tengan _tag=no_"
   ]
  },
  {
   "cell_type": "code",
   "execution_count": null,
   "metadata": {
    "id": "2sHVPMClm0dZ",
    "tags": [
     "no"
    ]
   },
   "outputs": [],
   "source": [
    "!jupyter nbconvert --TagRemovePreprocessor.enabled=True --TagRemovePreprocessor.remove_cell_tags='{\"no\"}' --no-input --to html $nb_name "
   ]
  },
  {
   "cell_type": "markdown",
   "metadata": {},
   "source": [
    "## Geolocalización de hospitales"
   ]
  },
  {
   "cell_type": "code",
   "execution_count": null,
   "metadata": {},
   "outputs": [],
   "source": [
    "data.head(3)"
   ]
  },
  {
   "cell_type": "code",
   "execution_count": null,
   "metadata": {},
   "outputs": [],
   "source": [
    "data.columns"
   ]
  },
  {
   "cell_type": "code",
   "execution_count": null,
   "metadata": {},
   "outputs": [],
   "source": [
    "data['add'] = data['HOSP_NAME'] +', ' + data['HOSP_LOCATION'] + ', ' + data['HOSP_DISTRICT'] + ', India'"
   ]
  },
  {
   "cell_type": "code",
   "execution_count": null,
   "metadata": {},
   "outputs": [],
   "source": [
    "hosp = data['add'].unique()"
   ]
  },
  {
   "cell_type": "code",
   "execution_count": null,
   "metadata": {},
   "outputs": [],
   "source": [
    "from geopandas.tools import geocode"
   ]
  },
  {
   "cell_type": "code",
   "execution_count": null,
   "metadata": {},
   "outputs": [],
   "source": [
    "geo = geocode(hosp, provider='nominatim', user_agent='test_flacso', timeout=4)"
   ]
  },
  {
   "cell_type": "code",
   "execution_count": null,
   "metadata": {},
   "outputs": [],
   "source": [
    "hospital = pd.DataFrame(hosp, columns = ['hospital'])"
   ]
  },
  {
   "cell_type": "code",
   "execution_count": null,
   "metadata": {},
   "outputs": [],
   "source": [
    "geo = geo.join(hospital,rsuffix='_right')"
   ]
  },
  {
   "cell_type": "code",
   "execution_count": null,
   "metadata": {},
   "outputs": [],
   "source": [
    "geo = geo.loc[geo['address'].notna()]"
   ]
  },
  {
   "cell_type": "code",
   "execution_count": null,
   "metadata": {},
   "outputs": [],
   "source": [
    "type(geo)"
   ]
  },
  {
   "cell_type": "code",
   "execution_count": null,
   "metadata": {},
   "outputs": [],
   "source": [
    "fig, ax = plt.subplots(1, figsize=(20,12))\n",
    "df.plot(column='Population', cmap='Blues', linewidth=1, ax=ax, edgecolor='0.9', legend = True)\n",
    "geo.plot(ax=ax)\n",
    "ax.axis('off')"
   ]
  },
  {
   "cell_type": "code",
   "execution_count": null,
   "metadata": {},
   "outputs": [],
   "source": [
    "import altair as alt"
   ]
  },
  {
   "cell_type": "code",
   "execution_count": null,
   "metadata": {},
   "outputs": [],
   "source": [
    "geo['lon'] = geo['geometry'].x\n",
    "geo['lat'] = geo['geometry'].y"
   ]
  },
  {
   "cell_type": "code",
   "execution_count": null,
   "metadata": {},
   "outputs": [],
   "source": [
    "geo"
   ]
  },
  {
   "cell_type": "code",
   "execution_count": null,
   "metadata": {},
   "outputs": [],
   "source": [
    "geo['name'] = geo['hospital'].str.split(pat = ',', expand=True)[0]"
   ]
  },
  {
   "cell_type": "code",
   "execution_count": null,
   "metadata": {},
   "outputs": [],
   "source": []
  },
  {
   "cell_type": "code",
   "execution_count": null,
   "metadata": {},
   "outputs": [],
   "source": [
    "df_join = df.loc[df['Population']>0]\n",
    "spatial_join = geopandas.sjoin(geo, df_join, op='within')"
   ]
  },
  {
   "cell_type": "code",
   "execution_count": null,
   "metadata": {},
   "outputs": [],
   "source": [
    "spatial_join"
   ]
  },
  {
   "cell_type": "code",
   "execution_count": null,
   "metadata": {},
   "outputs": [],
   "source": [
    "points = alt.Chart(spatial_join).mark_circle().encode(\n",
    "    longitude='lon:Q',\n",
    "    latitude='lat:Q',\n",
    "    tooltip=['name'],\n",
    ")\n",
    "\n",
    "\n",
    "\n",
    "fondo = alt.Chart(df.loc[df['Population']>0]).mark_geoshape(stroke='white',\n",
    "                            fill='lightgray').encode(tooltip =['DISTRICT']).properties(width=800,\n",
    "                                                                 height=800).project('mercator')\n",
    "\n",
    "fondo+points\n",
    "# points\n",
    "\n"
   ]
  },
  {
   "cell_type": "code",
   "execution_count": null,
   "metadata": {},
   "outputs": [],
   "source": [
    "df_join"
   ]
  },
  {
   "cell_type": "code",
   "execution_count": null,
   "metadata": {},
   "outputs": [],
   "source": []
  }
 ],
 "metadata": {
  "colab": {
   "name": "Clase2-India.ipynb",
   "provenance": []
  },
  "hide_input": false,
  "kernelspec": {
   "display_name": "Python 3 (ipykernel)",
   "language": "python",
   "name": "python3"
  },
  "language_info": {
   "codemirror_mode": {
    "name": "ipython",
    "version": 3
   },
   "file_extension": ".py",
   "mimetype": "text/x-python",
   "name": "python",
   "nbconvert_exporter": "python",
   "pygments_lexer": "ipython3",
   "version": "3.10.4"
  }
 },
 "nbformat": 4,
 "nbformat_minor": 1
}
