{
 "cells": [
  {
   "cell_type": "code",
   "execution_count": 1,
   "metadata": {
    "id": "kMEw-026eZg8"
   },
   "outputs": [
    {
     "name": "stderr",
     "output_type": "stream",
     "text": [
      "/tmp/ipykernel_1387509/1531337231.py:13: DtypeWarning: Columns (102) have mixed types. Specify dtype option on import or set low_memory=False.\n",
      "  df = pd.read_csv(archivo_txt, sep=\";\")\n"
     ]
    }
   ],
   "source": [
    "from urllib.request import urlopen\n",
    "from io import BytesIO\n",
    "from zipfile import ZipFile\n",
    "\n",
    "url_zip = \"https://www.indec.gob.ar/ftp/cuadros/menusuperior/eph/EPH_usu_4_Trim_2021_txt.zip\"\n",
    "           \n",
    "http_response = urlopen(url_zip)\n",
    "zipfile = ZipFile(BytesIO(http_response.read()))\n",
    "\n",
    "archivo_txt = zipfile.open(\"EPH_usu_4_Trim_2021_txt/usu_individual_T421.txt\")\n",
    "\n",
    "import pandas as pd\n",
    "df = pd.read_csv(archivo_txt, sep=\";\")"
   ]
  },
  {
   "cell_type": "code",
   "execution_count": 2,
   "metadata": {},
   "outputs": [],
   "source": [
    "columna_edad = \"CH06\"\n",
    "columna_educacion = \"NIVEL_ED\" # 6 \n",
    "columna_ocup = \"CAT_OCUP\" # 3\n",
    "columna_ingresos = \"P47T\""
   ]
  },
  {
   "cell_type": "code",
   "execution_count": 3,
   "metadata": {
    "colab": {
     "base_uri": "https://localhost:8080/"
    },
    "id": "Tbapz2BIA634",
    "outputId": "be198477-38ce-4af6-ef29-038230eb6ae4"
   },
   "outputs": [],
   "source": [
    "# ajuste_inflacion = 85.02/67.73\n",
    "# ajuste_inflacion"
   ]
  },
  {
   "cell_type": "code",
   "execution_count": 4,
   "metadata": {
    "colab": {
     "base_uri": "https://localhost:8080/",
     "height": 516
    },
    "id": "hGMKpUWDodbv",
    "outputId": "586a704f-9220-4ec1-de3f-1829072e5009"
   },
   "outputs": [
    {
     "data": {
      "text/plain": [
       "<matplotlib.lines.Line2D at 0x7f34c82f0310>"
      ]
     },
     "execution_count": 4,
     "metadata": {},
     "output_type": "execute_result"
    },
    {
     "data": {
      "image/png": "[encoded data removed]",
      "text/plain": [
       "<Figure size 864x576 with 1 Axes>"
      ]
     },
     "metadata": {
      "needs_background": "light"
     },
     "output_type": "display_data"
    }
   ],
   "source": [
    "filtro_edad = (25 <= df[columna_edad]) & (33 >= df[columna_edad])\n",
    "filtro_educ = df[columna_educacion] == 6\n",
    "filtro_ocup = df[columna_ocup] == 3\n",
    "filtro_ingresos_positivos = df[columna_ingresos ] >0\n",
    "\n",
    "df_jovenes = df[filtro_educ & filtro_edad & filtro_ocup & filtro_ingresos_positivos][columna_ingresos]\n",
    "ax = df_jovenes.hist(bins=50, figsize=(12, 8))\n",
    "ax.set_title(\"Sueldos 4to Trimestre 2021: Jóvenes de 25 a 33 años con estudios superiores\")\n",
    "ax.axvline(df_jovenes.median(), color=\"red\")"
   ]
  },
  {
   "cell_type": "code",
   "execution_count": 5,
   "metadata": {
    "colab": {
     "base_uri": "https://localhost:8080/"
    },
    "id": "iIiw_lLaoeVj",
    "outputId": "917dc552-9cd5-4284-fb63-cd015b7fab8d"
   },
   "outputs": [
    {
     "name": "stdout",
     "output_type": "stream",
     "text": [
      "60000.0\n"
     ]
    }
   ],
   "source": [
    "print(df_jovenes.median())"
   ]
  },
  {
   "cell_type": "code",
   "execution_count": 6,
   "metadata": {},
   "outputs": [
    {
     "data": {
      "text/html": [
       "<div>\n",
       "<style scoped>\n",
       "    .dataframe tbody tr th:only-of-type {\n",
       "        vertical-align: middle;\n",
       "    }\n",
       "\n",
       "    .dataframe tbody tr th {\n",
       "        vertical-align: top;\n",
       "    }\n",
       "\n",
       "    .dataframe thead th {\n",
       "        text-align: right;\n",
       "    }\n",
       "</style>\n",
       "<table border=\"1\" class=\"dataframe\">\n",
       "  <thead>\n",
       "    <tr style=\"text-align: right;\">\n",
       "      <th></th>\n",
       "      <th>CODUSU</th>\n",
       "      <th>ANO4</th>\n",
       "      <th>TRIMESTRE</th>\n",
       "      <th>NRO_HOGAR</th>\n",
       "      <th>COMPONENTE</th>\n",
       "      <th>H15</th>\n",
       "      <th>REGION</th>\n",
       "      <th>MAS_500</th>\n",
       "      <th>AGLOMERADO</th>\n",
       "      <th>PONDERA</th>\n",
       "      <th>...</th>\n",
       "      <th>PDECIFR</th>\n",
       "      <th>ADECIFR</th>\n",
       "      <th>IPCF</th>\n",
       "      <th>DECCFR</th>\n",
       "      <th>IDECCFR</th>\n",
       "      <th>RDECCFR</th>\n",
       "      <th>GDECCFR</th>\n",
       "      <th>PDECCFR</th>\n",
       "      <th>ADECCFR</th>\n",
       "      <th>PONDIH</th>\n",
       "    </tr>\n",
       "  </thead>\n",
       "  <tbody>\n",
       "    <tr>\n",
       "      <th>0</th>\n",
       "      <td>TQRMNOPPQHMOLPCDEGNFJ00714305</td>\n",
       "      <td>2021</td>\n",
       "      <td>4</td>\n",
       "      <td>1</td>\n",
       "      <td>4</td>\n",
       "      <td>1</td>\n",
       "      <td>44</td>\n",
       "      <td>N</td>\n",
       "      <td>17</td>\n",
       "      <td>309</td>\n",
       "      <td>...</td>\n",
       "      <td>9.0</td>\n",
       "      <td>7</td>\n",
       "      <td>33500</td>\n",
       "      <td>6</td>\n",
       "      <td>7.0</td>\n",
       "      <td>5</td>\n",
       "      <td>NaN</td>\n",
       "      <td>7.0</td>\n",
       "      <td>5</td>\n",
       "      <td>411</td>\n",
       "    </tr>\n",
       "    <tr>\n",
       "      <th>1</th>\n",
       "      <td>TQRMNOQPYHKMPUCDEIJAH00663642</td>\n",
       "      <td>2021</td>\n",
       "      <td>4</td>\n",
       "      <td>1</td>\n",
       "      <td>1</td>\n",
       "      <td>1</td>\n",
       "      <td>1</td>\n",
       "      <td>S</td>\n",
       "      <td>33</td>\n",
       "      <td>1573</td>\n",
       "      <td>...</td>\n",
       "      <td>NaN</td>\n",
       "      <td>4</td>\n",
       "      <td>32000</td>\n",
       "      <td>6</td>\n",
       "      <td>NaN</td>\n",
       "      <td>6</td>\n",
       "      <td>6.0</td>\n",
       "      <td>NaN</td>\n",
       "      <td>6</td>\n",
       "      <td>2285</td>\n",
       "    </tr>\n",
       "    <tr>\n",
       "      <th>2</th>\n",
       "      <td>TQRMNOQPYHKMPUCDEIJAH00663642</td>\n",
       "      <td>2021</td>\n",
       "      <td>4</td>\n",
       "      <td>1</td>\n",
       "      <td>2</td>\n",
       "      <td>1</td>\n",
       "      <td>1</td>\n",
       "      <td>S</td>\n",
       "      <td>33</td>\n",
       "      <td>1573</td>\n",
       "      <td>...</td>\n",
       "      <td>NaN</td>\n",
       "      <td>4</td>\n",
       "      <td>32000</td>\n",
       "      <td>6</td>\n",
       "      <td>NaN</td>\n",
       "      <td>6</td>\n",
       "      <td>6.0</td>\n",
       "      <td>NaN</td>\n",
       "      <td>6</td>\n",
       "      <td>2285</td>\n",
       "    </tr>\n",
       "    <tr>\n",
       "      <th>3</th>\n",
       "      <td>TQRMNOQYRHMOQRCDEIJAH00718661</td>\n",
       "      <td>2021</td>\n",
       "      <td>4</td>\n",
       "      <td>1</td>\n",
       "      <td>1</td>\n",
       "      <td>1</td>\n",
       "      <td>1</td>\n",
       "      <td>S</td>\n",
       "      <td>33</td>\n",
       "      <td>2635</td>\n",
       "      <td>...</td>\n",
       "      <td>NaN</td>\n",
       "      <td>12</td>\n",
       "      <td>0</td>\n",
       "      <td>12</td>\n",
       "      <td>NaN</td>\n",
       "      <td>12</td>\n",
       "      <td>12.0</td>\n",
       "      <td>NaN</td>\n",
       "      <td>12</td>\n",
       "      <td>0</td>\n",
       "    </tr>\n",
       "    <tr>\n",
       "      <th>4</th>\n",
       "      <td>TQRMNOPSTHMMLPCDEFMDB00713515</td>\n",
       "      <td>2021</td>\n",
       "      <td>4</td>\n",
       "      <td>1</td>\n",
       "      <td>2</td>\n",
       "      <td>1</td>\n",
       "      <td>43</td>\n",
       "      <td>N</td>\n",
       "      <td>6</td>\n",
       "      <td>87</td>\n",
       "      <td>...</td>\n",
       "      <td>7.0</td>\n",
       "      <td>7</td>\n",
       "      <td>43000</td>\n",
       "      <td>7</td>\n",
       "      <td>8.0</td>\n",
       "      <td>8</td>\n",
       "      <td>NaN</td>\n",
       "      <td>8.0</td>\n",
       "      <td>8</td>\n",
       "      <td>129</td>\n",
       "    </tr>\n",
       "    <tr>\n",
       "      <th>...</th>\n",
       "      <td>...</td>\n",
       "      <td>...</td>\n",
       "      <td>...</td>\n",
       "      <td>...</td>\n",
       "      <td>...</td>\n",
       "      <td>...</td>\n",
       "      <td>...</td>\n",
       "      <td>...</td>\n",
       "      <td>...</td>\n",
       "      <td>...</td>\n",
       "      <td>...</td>\n",
       "      <td>...</td>\n",
       "      <td>...</td>\n",
       "      <td>...</td>\n",
       "      <td>...</td>\n",
       "      <td>...</td>\n",
       "      <td>...</td>\n",
       "      <td>...</td>\n",
       "      <td>...</td>\n",
       "      <td>...</td>\n",
       "      <td>...</td>\n",
       "    </tr>\n",
       "    <tr>\n",
       "      <th>50149</th>\n",
       "      <td>TQRMNOQTTHMNLMCDEGJBF00712857</td>\n",
       "      <td>2021</td>\n",
       "      <td>4</td>\n",
       "      <td>1</td>\n",
       "      <td>1</td>\n",
       "      <td>1</td>\n",
       "      <td>43</td>\n",
       "      <td>S</td>\n",
       "      <td>13</td>\n",
       "      <td>517</td>\n",
       "      <td>...</td>\n",
       "      <td>NaN</td>\n",
       "      <td>6</td>\n",
       "      <td>41500</td>\n",
       "      <td>7</td>\n",
       "      <td>8.0</td>\n",
       "      <td>7</td>\n",
       "      <td>7.0</td>\n",
       "      <td>NaN</td>\n",
       "      <td>7</td>\n",
       "      <td>554</td>\n",
       "    </tr>\n",
       "    <tr>\n",
       "      <th>50150</th>\n",
       "      <td>TQRMNOQTTHMNLMCDEGJBF00712857</td>\n",
       "      <td>2021</td>\n",
       "      <td>4</td>\n",
       "      <td>1</td>\n",
       "      <td>2</td>\n",
       "      <td>1</td>\n",
       "      <td>43</td>\n",
       "      <td>S</td>\n",
       "      <td>13</td>\n",
       "      <td>517</td>\n",
       "      <td>...</td>\n",
       "      <td>NaN</td>\n",
       "      <td>6</td>\n",
       "      <td>41500</td>\n",
       "      <td>7</td>\n",
       "      <td>8.0</td>\n",
       "      <td>7</td>\n",
       "      <td>7.0</td>\n",
       "      <td>NaN</td>\n",
       "      <td>7</td>\n",
       "      <td>554</td>\n",
       "    </tr>\n",
       "    <tr>\n",
       "      <th>50151</th>\n",
       "      <td>TQRMNOQTUHKNKUCDEFJAH00665934</td>\n",
       "      <td>2021</td>\n",
       "      <td>4</td>\n",
       "      <td>1</td>\n",
       "      <td>1</td>\n",
       "      <td>1</td>\n",
       "      <td>43</td>\n",
       "      <td>N</td>\n",
       "      <td>3</td>\n",
       "      <td>232</td>\n",
       "      <td>...</td>\n",
       "      <td>4.0</td>\n",
       "      <td>4</td>\n",
       "      <td>51000</td>\n",
       "      <td>8</td>\n",
       "      <td>9.0</td>\n",
       "      <td>8</td>\n",
       "      <td>NaN</td>\n",
       "      <td>9.0</td>\n",
       "      <td>8</td>\n",
       "      <td>336</td>\n",
       "    </tr>\n",
       "    <tr>\n",
       "      <th>50152</th>\n",
       "      <td>TQRMNOPVWHKMLMCDEFJAH00659534</td>\n",
       "      <td>2021</td>\n",
       "      <td>4</td>\n",
       "      <td>1</td>\n",
       "      <td>1</td>\n",
       "      <td>1</td>\n",
       "      <td>43</td>\n",
       "      <td>N</td>\n",
       "      <td>3</td>\n",
       "      <td>299</td>\n",
       "      <td>...</td>\n",
       "      <td>4.0</td>\n",
       "      <td>4</td>\n",
       "      <td>16666,67</td>\n",
       "      <td>3</td>\n",
       "      <td>3.0</td>\n",
       "      <td>2</td>\n",
       "      <td>NaN</td>\n",
       "      <td>3.0</td>\n",
       "      <td>2</td>\n",
       "      <td>659</td>\n",
       "    </tr>\n",
       "    <tr>\n",
       "      <th>50153</th>\n",
       "      <td>TQRMNOPVWHKMLMCDEFJAH00659534</td>\n",
       "      <td>2021</td>\n",
       "      <td>4</td>\n",
       "      <td>1</td>\n",
       "      <td>2</td>\n",
       "      <td>1</td>\n",
       "      <td>43</td>\n",
       "      <td>N</td>\n",
       "      <td>3</td>\n",
       "      <td>299</td>\n",
       "      <td>...</td>\n",
       "      <td>4.0</td>\n",
       "      <td>4</td>\n",
       "      <td>16666,67</td>\n",
       "      <td>3</td>\n",
       "      <td>3.0</td>\n",
       "      <td>2</td>\n",
       "      <td>NaN</td>\n",
       "      <td>3.0</td>\n",
       "      <td>2</td>\n",
       "      <td>659</td>\n",
       "    </tr>\n",
       "  </tbody>\n",
       "</table>\n",
       "<p>50154 rows × 177 columns</p>\n",
       "</div>"
      ],
      "text/plain": [
       "                              CODUSU  ANO4  TRIMESTRE  NRO_HOGAR  COMPONENTE  \\\n",
       "0      TQRMNOPPQHMOLPCDEGNFJ00714305  2021          4          1           4   \n",
       "1      TQRMNOQPYHKMPUCDEIJAH00663642  2021          4          1           1   \n",
       "2      TQRMNOQPYHKMPUCDEIJAH00663642  2021          4          1           2   \n",
       "3      TQRMNOQYRHMOQRCDEIJAH00718661  2021          4          1           1   \n",
       "4      TQRMNOPSTHMMLPCDEFMDB00713515  2021          4          1           2   \n",
       "...                              ...   ...        ...        ...         ...   \n",
       "50149  TQRMNOQTTHMNLMCDEGJBF00712857  2021          4          1           1   \n",
       "50150  TQRMNOQTTHMNLMCDEGJBF00712857  2021          4          1           2   \n",
       "50151  TQRMNOQTUHKNKUCDEFJAH00665934  2021          4          1           1   \n",
       "50152  TQRMNOPVWHKMLMCDEFJAH00659534  2021          4          1           1   \n",
       "50153  TQRMNOPVWHKMLMCDEFJAH00659534  2021          4          1           2   \n",
       "\n",
       "       H15  REGION MAS_500  AGLOMERADO  PONDERA  ...  PDECIFR  ADECIFR  \\\n",
       "0        1      44       N          17      309  ...      9.0        7   \n",
       "1        1       1       S          33     1573  ...      NaN        4   \n",
       "2        1       1       S          33     1573  ...      NaN        4   \n",
       "3        1       1       S          33     2635  ...      NaN       12   \n",
       "4        1      43       N           6       87  ...      7.0        7   \n",
       "...    ...     ...     ...         ...      ...  ...      ...      ...   \n",
       "50149    1      43       S          13      517  ...      NaN        6   \n",
       "50150    1      43       S          13      517  ...      NaN        6   \n",
       "50151    1      43       N           3      232  ...      4.0        4   \n",
       "50152    1      43       N           3      299  ...      4.0        4   \n",
       "50153    1      43       N           3      299  ...      4.0        4   \n",
       "\n",
       "           IPCF  DECCFR  IDECCFR  RDECCFR  GDECCFR  PDECCFR  ADECCFR  PONDIH  \n",
       "0         33500       6      7.0        5      NaN      7.0        5     411  \n",
       "1         32000       6      NaN        6      6.0      NaN        6    2285  \n",
       "2         32000       6      NaN        6      6.0      NaN        6    2285  \n",
       "3             0      12      NaN       12     12.0      NaN       12       0  \n",
       "4         43000       7      8.0        8      NaN      8.0        8     129  \n",
       "...         ...     ...      ...      ...      ...      ...      ...     ...  \n",
       "50149     41500       7      8.0        7      7.0      NaN        7     554  \n",
       "50150     41500       7      8.0        7      7.0      NaN        7     554  \n",
       "50151     51000       8      9.0        8      NaN      9.0        8     336  \n",
       "50152  16666,67       3      3.0        2      NaN      3.0        2     659  \n",
       "50153  16666,67       3      3.0        2      NaN      3.0        2     659  \n",
       "\n",
       "[50154 rows x 177 columns]"
      ]
     },
     "execution_count": 6,
     "metadata": {},
     "output_type": "execute_result"
    }
   ],
   "source": [
    "df"
   ]
  },
  {
   "cell_type": "code",
   "execution_count": 7,
   "metadata": {
    "colab": {
     "base_uri": "https://localhost:8080/"
    },
    "id": "kPb-EzNVtd0K",
    "outputId": "7ba8992f-067e-4b8e-8fbd-5801a4bc1c39"
   },
   "outputs": [
    {
     "name": "stdout",
     "output_type": "stream",
     "text": [
      "PONDIH : 65000.0\n",
      "PONDII : 65000.0\n",
      "PONDIIO : 65000.0\n",
      "PONDERA : 64000.0\n"
     ]
    }
   ],
   "source": [
    "for ponderador in [\"Pondih\",\"Pondii\",\"Pondiio\", \"Pondera\"]:\n",
    "  ponderador = ponderador.upper()\n",
    "  df_jovenes_weighted = df[filtro_educ & filtro_edad & filtro_ocup & filtro_ingresos_positivos][[columna_ingresos, ponderador]]\n",
    "\n",
    "  df_jovenes_weighted.sort_values(columna_ingresos, inplace=True)\n",
    "  cumsum = df_jovenes_weighted[ponderador].cumsum()\n",
    "  #print(cumsum.iloc[-1])\n",
    "  cutoff = df_jovenes_weighted[ponderador].sum() *.5\n",
    "  median = df_jovenes_weighted[columna_ingresos][cumsum >= cutoff].iloc[0]\n",
    "  print(ponderador, \":\", median)"
   ]
  },
  {
   "cell_type": "code",
   "execution_count": 8,
   "metadata": {
    "id": "fI9XD48zAOOv"
   },
   "outputs": [
    {
     "data": {
      "text/plain": [
       "'PONDII'"
      ]
     },
     "execution_count": 8,
     "metadata": {},
     "output_type": "execute_result"
    }
   ],
   "source": [
    "ponderador = \"Pondii\".upper()\n",
    "ponderador"
   ]
  },
  {
   "cell_type": "code",
   "execution_count": 9,
   "metadata": {
    "colab": {
     "base_uri": "https://localhost:8080/",
     "height": 535
    },
    "id": "Tdy7MEilqtdj",
    "outputId": "cfcf0a4d-3c9d-49d6-af6e-ddb812dd24c9"
   },
   "outputs": [
    {
     "name": "stdout",
     "output_type": "stream",
     "text": [
      "PONDII : 65000.0\n"
     ]
    },
    {
     "data": {
      "text/plain": [
       "<matplotlib.lines.Line2D at 0x7f34c47b26e0>"
      ]
     },
     "execution_count": 9,
     "metadata": {},
     "output_type": "execute_result"
    },
    {
     "data": {
      "image/png": "[encoded data removed]",
      "text/plain": [
       "<Figure size 864x576 with 1 Axes>"
      ]
     },
     "metadata": {
      "needs_background": "light"
     },
     "output_type": "display_data"
    }
   ],
   "source": [
    "ponderador = \"Pondii\".upper()\n",
    "df_jovenes_weighted = df[filtro_educ & filtro_edad & filtro_ocup & filtro_ingresos_positivos][[columna_ingresos, ponderador]]\n",
    "df_jovenes_weighted.sort_values(columna_ingresos, inplace=True)\n",
    "ax = df_jovenes_weighted[columna_ingresos].plot(kind=\"hist\", weights=df_jovenes_weighted[ponderador],bins=50, figsize=(12, 8))\n",
    "ax.set_title(\"Sueldos 4to Trimestre 2021: Jóvenes de 25 a 33 años con estudios superiores. Histograma Ponderado\")\n",
    "cumsum = df_jovenes_weighted[ponderador].cumsum()\n",
    "cutoff = df_jovenes_weighted[ponderador].sum() *.5\n",
    "median = df_jovenes_weighted[columna_ingresos][cumsum >= cutoff].iloc[0]\n",
    "print(ponderador, \":\", median)\n",
    "ax.axvline(median, color=\"red\")"
   ]
  },
  {
   "cell_type": "code",
   "execution_count": 10,
   "metadata": {
    "id": "V3X7v0RkBQfT"
   },
   "outputs": [],
   "source": [
    "# costo_metro_cuadrado = 350000\n",
    "costo_metro_cuadrado = 65000"
   ]
  },
  {
   "cell_type": "code",
   "execution_count": 11,
   "metadata": {
    "colab": {
     "base_uri": "https://localhost:8080/"
    },
    "id": "IHkdFVAbBaq0",
    "outputId": "cec0c8b1-1ee4-45f5-f829-647776f0fdbb"
   },
   "outputs": [
    {
     "name": "stdout",
     "output_type": "stream",
     "text": [
      "Sueldo anual en metros cuadrados: 11.08 metros cuadrados por año\n",
      "Años de sueldo para comprar un dos ambientes de 30m2: 2.71 años\n"
     ]
    }
   ],
   "source": [
    "print(f\"Sueldo anual en metros cuadrados: {df_jovenes.median()*12/costo_metro_cuadrado:.2f} metros cuadrados por año\")\n",
    "print(f\"Años de sueldo para comprar un dos ambientes de 30m2: {costo_metro_cuadrado*30/(df_jovenes.median()*12):.2f} años\")"
   ]
  },
  {
   "cell_type": "code",
   "execution_count": 12,
   "metadata": {
    "colab": {
     "base_uri": "https://localhost:8080/",
     "height": 517
    },
    "id": "9LLYoWiPBiLr",
    "outputId": "f1c96591-4859-459d-ae0e-262b7393783a"
   },
   "outputs": [
    {
     "data": {
      "text/plain": [
       "<matplotlib.lines.Line2D at 0x7f34c4776f20>"
      ]
     },
     "execution_count": 12,
     "metadata": {},
     "output_type": "execute_result"
    },
    {
     "data": {
      "image/png": "[encoded data removed]",
      "text/plain": [
       "<Figure size 864x576 with 1 Axes>"
      ]
     },
     "metadata": {
      "needs_background": "light"
     },
     "output_type": "display_data"
    }
   ],
   "source": [
    "df_adultos = df[filtro_educ & filtro_ocup & filtro_ingresos_positivos][columna_ingresos]\n",
    "ax = df_adultos.clip(0, 400000).hist(bins=30, figsize=(12, 8))\n",
    "ax.set_title(\"Sueldos 4to Trimestre 2020: Adultos con estudios superiores\")\n",
    "ax.axvline(df_adultos.median(), color=\"red\")"
   ]
  },
  {
   "cell_type": "code",
   "execution_count": 13,
   "metadata": {
    "colab": {
     "base_uri": "https://localhost:8080/"
    },
    "id": "MZcDqAWJCTOp",
    "outputId": "d5ea7d18-c128-4fc9-dd4d-2ce9c1461df6"
   },
   "outputs": [
    {
     "data": {
      "text/plain": [
       "70000.0"
      ]
     },
     "execution_count": 13,
     "metadata": {},
     "output_type": "execute_result"
    }
   ],
   "source": [
    "df_adultos.median()"
   ]
  },
  {
   "cell_type": "code",
   "execution_count": null,
   "metadata": {
    "id": "N6L3784Eta8G"
   },
   "outputs": [],
   "source": []
  },
  {
   "cell_type": "code",
   "execution_count": 14,
   "metadata": {
    "colab": {
     "base_uri": "https://localhost:8080/"
    },
    "id": "JNVCI7OpCaja",
    "outputId": "10ede9bc-ec2b-4c60-a415-2c1f07047a26"
   },
   "outputs": [
    {
     "name": "stdout",
     "output_type": "stream",
     "text": [
      "Sueldo anual en metros cuadrados: 12.92 metros cuadrados por año\n",
      "Años de sueldo para comprar un dos ambientes de 30m2: 2.32 años\n"
     ]
    }
   ],
   "source": [
    "print(f\"Sueldo anual en metros cuadrados: {df_adultos.median()*12/costo_metro_cuadrado:.2f} metros cuadrados por año\")\n",
    "print(f\"Años de sueldo para comprar un dos ambientes de 30m2: {costo_metro_cuadrado*30/(df_adultos.median()*12):.2f} años\")"
   ]
  },
  {
   "cell_type": "markdown",
   "metadata": {
    "id": "zQkMrjVICp3H"
   },
   "source": [
    "# Analisis II"
   ]
  },
  {
   "cell_type": "code",
   "execution_count": 15,
   "metadata": {},
   "outputs": [
    {
     "data": {
      "text/plain": [
       "(50154, 177)"
      ]
     },
     "execution_count": 15,
     "metadata": {},
     "output_type": "execute_result"
    }
   ],
   "source": [
    "df.shape"
   ]
  },
  {
   "cell_type": "markdown",
   "metadata": {},
   "source": [
    "La variable _pondera_ es la que indica, para cada registro, a cuantos representa."
   ]
  },
  {
   "cell_type": "code",
   "execution_count": 16,
   "metadata": {},
   "outputs": [
    {
     "data": {
      "text/plain": [
       "29006368"
      ]
     },
     "execution_count": 16,
     "metadata": {},
     "output_type": "execute_result"
    }
   ],
   "source": [
    "df['PONDERA'].sum()"
   ]
  },
  {
   "cell_type": "markdown",
   "metadata": {
    "heading_collapsed": true
   },
   "source": [
    "##### Género "
   ]
  },
  {
   "cell_type": "code",
   "execution_count": 17,
   "metadata": {
    "hidden": true
   },
   "outputs": [
    {
     "data": {
      "text/plain": [
       "2    26096\n",
       "1    24058\n",
       "Name: CH04, dtype: int64"
      ]
     },
     "execution_count": 17,
     "metadata": {},
     "output_type": "execute_result"
    }
   ],
   "source": [
    "df['CH04'].value_counts()"
   ]
  },
  {
   "cell_type": "code",
   "execution_count": 18,
   "metadata": {
    "hidden": true
   },
   "outputs": [
    {
     "data": {
      "text/plain": [
       "CH04\n",
       "1    14107115\n",
       "2    14899253\n",
       "Name: PONDERA, dtype: int64"
      ]
     },
     "execution_count": 18,
     "metadata": {},
     "output_type": "execute_result"
    }
   ],
   "source": [
    "df.groupby('CH04')['PONDERA'].sum()\n"
   ]
  },
  {
   "cell_type": "code",
   "execution_count": 19,
   "metadata": {
    "hidden": true
   },
   "outputs": [
    {
     "data": {
      "text/plain": [
       "2    0.520317\n",
       "1    0.479683\n",
       "Name: CH04, dtype: float64"
      ]
     },
     "execution_count": 19,
     "metadata": {},
     "output_type": "execute_result"
    }
   ],
   "source": [
    "df['CH04'].value_counts(normalize = True)"
   ]
  },
  {
   "cell_type": "code",
   "execution_count": 20,
   "metadata": {
    "hidden": true
   },
   "outputs": [
    {
     "data": {
      "text/plain": [
       "CH04\n",
       "1    0.486345\n",
       "2    0.513655\n",
       "Name: PONDERA, dtype: float64"
      ]
     },
     "execution_count": 20,
     "metadata": {},
     "output_type": "execute_result"
    }
   ],
   "source": [
    "df.groupby('CH04')['PONDERA'].sum()/df['PONDERA'].sum()"
   ]
  },
  {
   "cell_type": "markdown",
   "metadata": {},
   "source": [
    "##### Empleo "
   ]
  },
  {
   "cell_type": "markdown",
   "metadata": {},
   "source": [
    "![ESTADO](estado.png)"
   ]
  },
  {
   "cell_type": "code",
   "execution_count": 21,
   "metadata": {},
   "outputs": [
    {
     "data": {
      "text/plain": [
       "ESTADO\n",
       "0    0.003017\n",
       "1    0.435890\n",
       "2    0.032642\n",
       "3    0.381976\n",
       "4    0.146474\n",
       "Name: PONDERA, dtype: float64"
      ]
     },
     "execution_count": 21,
     "metadata": {},
     "output_type": "execute_result"
    }
   ],
   "source": [
    "df.groupby('ESTADO')['PONDERA'].sum()/df['PONDERA'].sum()"
   ]
  },
  {
   "cell_type": "code",
   "execution_count": null,
   "metadata": {},
   "outputs": [],
   "source": []
  },
  {
   "cell_type": "code",
   "execution_count": 22,
   "metadata": {},
   "outputs": [
    {
     "ename": "NameError",
     "evalue": "name 'pea' is not defined",
     "output_type": "error",
     "traceback": [
      "\u001b[0;31m---------------------------------------------------------------------------\u001b[0m",
      "\u001b[0;31mNameError\u001b[0m                                 Traceback (most recent call last)",
      "Input \u001b[0;32mIn [22]\u001b[0m, in \u001b[0;36m<cell line: 3>\u001b[0;34m()\u001b[0m\n\u001b[1;32m      1\u001b[0m \u001b[38;5;66;03m# Desempleo\u001b[39;00m\n\u001b[1;32m      2\u001b[0m des \u001b[38;5;241m=\u001b[39m df\u001b[38;5;241m.\u001b[39mgroupby(\u001b[38;5;124m'\u001b[39m\u001b[38;5;124mESTADO\u001b[39m\u001b[38;5;124m'\u001b[39m)[\u001b[38;5;124m'\u001b[39m\u001b[38;5;124mPONDERA\u001b[39m\u001b[38;5;124m'\u001b[39m]\u001b[38;5;241m.\u001b[39msum()[\u001b[38;5;241m2\u001b[39m]\n\u001b[0;32m----> 3\u001b[0m des2 \u001b[38;5;241m=\u001b[39m des\u001b[38;5;241m/\u001b[39m\u001b[43mpea\u001b[49m\n\u001b[1;32m      4\u001b[0m des2\n",
      "\u001b[0;31mNameError\u001b[0m: name 'pea' is not defined"
     ]
    }
   ],
   "source": [
    "# Desempleo\n",
    "des = df.groupby('ESTADO')['PONDERA'].sum()[2]\n",
    "# des2 = des/pea\n",
    "# des2"
   ]
  },
  {
   "cell_type": "code",
   "execution_count": null,
   "metadata": {},
   "outputs": [],
   "source": [
    "# Empleo\n",
    "emp = df.groupby('ESTADO')['PONDERA'].sum()[1]\n",
    "emp2 = emp/pea\n",
    "emp2"
   ]
  },
  {
   "cell_type": "code",
   "execution_count": null,
   "metadata": {},
   "outputs": [],
   "source": [
    "#PEA\n",
    "pea = des + emp\n",
    "pea"
   ]
  },
  {
   "cell_type": "markdown",
   "metadata": {},
   "source": [
    "#####  Salario ocupación principal"
   ]
  },
  {
   "cell_type": "code",
   "execution_count": null,
   "metadata": {},
   "outputs": [],
   "source": [
    "# Salario de la ocupación principal\n",
    "df['P21'].describe()"
   ]
  },
  {
   "cell_type": "code",
   "execution_count": null,
   "metadata": {},
   "outputs": [],
   "source": [
    "# Media ponderada\n",
    "(df['P21']*df['PONDERA']).sum()/df['PONDERA'].sum()"
   ]
  },
  {
   "cell_type": "code",
   "execution_count": null,
   "metadata": {},
   "outputs": [],
   "source": [
    "import numpy as np\n",
    "np.sum(df['P21']*df['PONDERA'])/df['PONDERA'].sum()"
   ]
  },
  {
   "cell_type": "code",
   "execution_count": null,
   "metadata": {},
   "outputs": [],
   "source": [
    "np.average(df['P21'], axis = 0, weights = df['PONDERA'])"
   ]
  },
  {
   "cell_type": "code",
   "execution_count": null,
   "metadata": {},
   "outputs": [],
   "source": [
    "# https://www.statsmodels.org/dev/generated/statsmodels.stats.weightstats.DescrStatsW.html\n",
    "from statsmodels.stats.weightstats import DescrStatsW"
   ]
  },
  {
   "cell_type": "code",
   "execution_count": null,
   "metadata": {},
   "outputs": [],
   "source": [
    "dfw = DescrStatsW(df['P21'], weights = df['PONDERA'])"
   ]
  },
  {
   "cell_type": "code",
   "execution_count": null,
   "metadata": {},
   "outputs": [],
   "source": [
    "dfw.mean"
   ]
  },
  {
   "cell_type": "code",
   "execution_count": null,
   "metadata": {},
   "outputs": [],
   "source": [
    "dfw.std"
   ]
  },
  {
   "cell_type": "code",
   "execution_count": null,
   "metadata": {},
   "outputs": [],
   "source": [
    "dfw.quantile([.01, .05, .1, .25, .5, .9, .95, .99])"
   ]
  },
  {
   "cell_type": "code",
   "execution_count": null,
   "metadata": {},
   "outputs": [],
   "source": [
    "import matplotlib.pyplot as plt\n",
    "%matplotlib inline\n",
    "plt.hist(df['P21'], bins = 2)\n",
    "plt.show();"
   ]
  },
  {
   "cell_type": "code",
   "execution_count": null,
   "metadata": {},
   "outputs": [],
   "source": [
    "df1 = df.loc[(df['P21']>0) & (df['P21']>200000)]"
   ]
  },
  {
   "cell_type": "code",
   "execution_count": null,
   "metadata": {},
   "outputs": [],
   "source": [
    "plt.hist(df1['P21']);"
   ]
  },
  {
   "cell_type": "code",
   "execution_count": null,
   "metadata": {},
   "outputs": [],
   "source": [
    "df1['LP21'] = np.log(df['P21'])\n",
    "plt.hist(df1['LP21']);"
   ]
  },
  {
   "cell_type": "code",
   "execution_count": null,
   "metadata": {},
   "outputs": [],
   "source": [
    "df1['LP21'].plot.hist(density = True,bins= 20)"
   ]
  },
  {
   "cell_type": "code",
   "execution_count": null,
   "metadata": {},
   "outputs": [],
   "source": [
    "df1['LP21'].plot.kde()\n",
    "df1['LP21'].plot.hist(density = True,bins= 20)"
   ]
  },
  {
   "cell_type": "code",
   "execution_count": null,
   "metadata": {},
   "outputs": [],
   "source": [
    "# Histograma ponderado\n",
    "(df1['P21']*df1['PONDERA']/df1['PONDERA'].sum()).plot.hist(density = True, bins= 10)"
   ]
  },
  {
   "cell_type": "code",
   "execution_count": null,
   "metadata": {},
   "outputs": [],
   "source": [
    "# Analisis bivariados\n",
    "# Sexo y edad\n",
    "pd.crosstab(index= df['CH04'], columns=df['ESTADO'], margins = True, dropna = False)"
   ]
  },
  {
   "cell_type": "code",
   "execution_count": null,
   "metadata": {},
   "outputs": [],
   "source": [
    "pd.crosstab(index= df['CH04'], columns=df['ESTADO'], margins = True, dropna = False, normalize = 'columns')"
   ]
  },
  {
   "cell_type": "code",
   "execution_count": null,
   "metadata": {},
   "outputs": [],
   "source": [
    "pd.crosstab(df['CH04'], df['ESTADO'],df['PONDERA'], aggfunc = sum, dropna = False, normalize = 'columns')"
   ]
  },
  {
   "cell_type": "code",
   "execution_count": null,
   "metadata": {},
   "outputs": [],
   "source": [
    "# Curva de Lorenz"
   ]
  },
  {
   "cell_type": "code",
   "execution_count": null,
   "metadata": {},
   "outputs": [],
   "source": [
    "df_lor = df.sort_values(by='P21')"
   ]
  },
  {
   "cell_type": "code",
   "execution_count": null,
   "metadata": {},
   "outputs": [],
   "source": [
    "df_lor['PobAcum'] = df_lor['PONDERA'].cumsum()"
   ]
  },
  {
   "cell_type": "code",
   "execution_count": null,
   "metadata": {},
   "outputs": [],
   "source": [
    "df_lor['PobAcum'] = df_lor['PobAcum'] /df_lor['PobAcum'].iat[-1]"
   ]
  },
  {
   "cell_type": "code",
   "execution_count": null,
   "metadata": {},
   "outputs": [],
   "source": [
    "df_lor['IngAcum'] = (df_lor['P21']*df_lor['PONDERA']).cumsum()"
   ]
  },
  {
   "cell_type": "code",
   "execution_count": null,
   "metadata": {},
   "outputs": [],
   "source": [
    "df_lor['IngAcum'] = df_lor['IngAcum'] / df_lor['IngAcum'].iat[-1]"
   ]
  },
  {
   "cell_type": "code",
   "execution_count": null,
   "metadata": {},
   "outputs": [],
   "source": [
    "fig, ax = plt.subplots(figsize = [10,10])\n",
    "ax.scatter(df_lor['PobAcum'], df_lor['IngAcum'], color = 'b', s=1)\n",
    "ax.plot([0,1],[0,1], color = 'r')"
   ]
  },
  {
   "cell_type": "code",
   "execution_count": null,
   "metadata": {},
   "outputs": [],
   "source": [
    "df_lor.loc[df_lor['PobAcum']< 0.2, 'quintil'] = 1\n",
    "df_lor.loc[(df_lor['PobAcum']> 0.2) & (df_lor['PobAcum']<= 0.4), 'quintil'] = 2\n",
    "df_lor.loc[(df_lor['PobAcum']> 0.4) & (df_lor['PobAcum']<= 0.6), 'quintil'] = 3\n",
    "df_lor.loc[(df_lor['PobAcum']> 0.6) & (df_lor['PobAcum']<= 0.8), 'quintil'] = 4\n",
    "df_lor.loc[(df_lor['PobAcum']> 0.8) & (df_lor['PobAcum']<= 1), 'quintil'] = 5"
   ]
  },
  {
   "cell_type": "code",
   "execution_count": null,
   "metadata": {},
   "outputs": [],
   "source": [
    "df_lor[['PobAcum','quintil']]"
   ]
  },
  {
   "cell_type": "code",
   "execution_count": null,
   "metadata": {},
   "outputs": [],
   "source": [
    "df_lor.groupby('quintil').apply(lambda x: (x['P21']*x['PONDERA']).sum()/x['PONDERA'].sum())"
   ]
  },
  {
   "cell_type": "code",
   "execution_count": null,
   "metadata": {},
   "outputs": [],
   "source": [
    "# GINI\n",
    "# Filtramos los ingresos negativos\n",
    "gini = df\n",
    "gini = df.drop(df[(df['P21']<=0)].index)\n",
    "\n",
    "\n"
   ]
  },
  {
   "cell_type": "code",
   "execution_count": null,
   "metadata": {},
   "outputs": [],
   "source": []
  }
 ],
 "metadata": {
  "colab": {
   "collapsed_sections": [],
   "name": "Análisis EPH 1er Trimestre 2021.ipynb",
   "provenance": []
  },
  "hide_input": false,
  "kernelspec": {
   "display_name": "Python 3 (ipykernel)",
   "language": "python",
   "name": "python3"
  },
  "language_info": {
   "codemirror_mode": {
    "name": "ipython",
    "version": 3
   },
   "file_extension": ".py",
   "mimetype": "text/x-python",
   "name": "python",
   "nbconvert_exporter": "python",
   "pygments_lexer": "ipython3",
   "version": "3.10.4"
  },
  "vscode": {
   "interpreter": {
    "hash": "31f2aee4e71d21fbe5cf8b01ff0e069b9275f58929596ceb00d14d90e3e16cd6"
   }
  }
 },
 "nbformat": 4,
 "nbformat_minor": 1
}
